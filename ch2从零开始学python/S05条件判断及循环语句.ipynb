{
 "cells": [
  {
   "cell_type": "code",
   "execution_count": 5,
   "metadata": {},
   "outputs": [
    {
     "data": {
      "text/plain": [
       "'\\n【课程5.1】\\n'"
      ]
     },
     "execution_count": 5,
     "metadata": {},
     "output_type": "execute_result"
    }
   ],
   "source": [
    "'''\n",
    "【课程5.1】\n",
    "'''"
   ]
  },
  {
   "cell_type": "code",
   "execution_count": 6,
   "metadata": {},
   "outputs": [
    {
     "name": "stdout",
     "output_type": "stream",
     "text": [
      "hello world\n",
      "The Zen of Python, by Tim Peters\n",
      "\n",
      "Beautiful is better than ugly.\n",
      "Explicit is better than implicit.\n",
      "Simple is better than complex.\n",
      "Complex is better than complicated.\n",
      "Flat is better than nested.\n",
      "Sparse is better than dense.\n",
      "Readability counts.\n",
      "Special cases aren't special enough to break the rules.\n",
      "Although practicality beats purity.\n",
      "Errors should never pass silently.\n",
      "Unless explicitly silenced.\n",
      "In the face of ambiguity, refuse the temptation to guess.\n",
      "There should be one-- and preferably only one --obvious way to do it.\n",
      "Although that way may not be obvious at first unless you're Dutch.\n",
      "Now is better than never.\n",
      "Although never is often better than *right* now.\n",
      "If the implementation is hard to explain, it's a bad idea.\n",
      "If the implementation is easy to explain, it may be a good idea.\n",
      "Namespaces are one honking great idea -- let's do more of those!\n"
     ]
    }
   ],
   "source": [
    "def f():\n",
    "    print('hello world')\n",
    "f()\n",
    "\n",
    "import this"
   ]
  },
  {
   "cell_type": "code",
   "execution_count": 3,
   "metadata": {},
   "outputs": [
    {
     "data": {
      "text/plain": [
       "'\\n【课程5.2】\\n'"
      ]
     },
     "execution_count": 3,
     "metadata": {},
     "output_type": "execute_result"
    }
   ],
   "source": [
    "'''\n",
    "【课程5.2】\n",
    "'''"
   ]
  },
  {
   "cell_type": "code",
   "execution_count": 9,
   "metadata": {},
   "outputs": [
    {
     "name": "stdout",
     "output_type": "stream",
     "text": [
      "suitable\n",
      "finish\n",
      "shuru10\n",
      "chengjiwei 10\n"
     ]
    }
   ],
   "source": [
    "age = 120\n",
    "if age <18:\n",
    "    print ('not suitable')\n",
    "else:\n",
    "    print ('suitable')\n",
    "print ('finish')\n",
    "\n",
    "score = input('shuru')\n",
    "print ('chengjiwei %s' %score)"
   ]
  },
  {
   "cell_type": "code",
   "execution_count": 10,
   "metadata": {},
   "outputs": [
    {
     "name": "stdout",
     "output_type": "stream",
     "text": [
      "age is18\n",
      "suitable\n",
      "finish\n"
     ]
    }
   ],
   "source": [
    "age = float(input('age is'))\n",
    "if age <18:\n",
    "    print ('not suitable')\n",
    "else:\n",
    "    print ('suitable')\n",
    "print ('finish')"
   ]
  },
  {
   "cell_type": "code",
   "execution_count": 11,
   "metadata": {},
   "outputs": [
    {
     "name": "stdout",
     "output_type": "stream",
     "text": [
      "shuru:3\n",
      "3\n"
     ]
    }
   ],
   "source": [
    "num = int (input('shuru:'))\n",
    "if num ==3:\n",
    "    print (3)\n",
    "elif num==2:\n",
    "    print(2)\n",
    "elif num<0:\n",
    "    print ('error')\n",
    "else:\n",
    "    print ('qita')"
   ]
  },
  {
   "cell_type": "code",
   "execution_count": 12,
   "metadata": {},
   "outputs": [
    {
     "name": "stdout",
     "output_type": "stream",
     "text": [
      "undefine\n"
     ]
    }
   ],
   "source": [
    "num = 8\n",
    "if (num >= 0 and num <= 5) or (num >= 10 and num <= 15):    \n",
    "    print( 'hello')\n",
    "else:\n",
    "    print( 'undefine')"
   ]
  },
  {
   "cell_type": "code",
   "execution_count": 13,
   "metadata": {},
   "outputs": [
    {
     "data": {
      "text/plain": [
       "'\\n【课程5.3】\\n'"
      ]
     },
     "execution_count": 13,
     "metadata": {},
     "output_type": "execute_result"
    }
   ],
   "source": [
    "'''\n",
    "【课程5.3】\n",
    "'''"
   ]
  },
  {
   "cell_type": "code",
   "execution_count": 14,
   "metadata": {},
   "outputs": [
    {
     "name": "stdout",
     "output_type": "stream",
     "text": [
      "hello world\n",
      "hello world\n",
      "hello world\n",
      "hello world\n",
      "hello world\n"
     ]
    }
   ],
   "source": [
    "for i in range(5):\n",
    "    print ('hello world')"
   ]
  },
  {
   "cell_type": "code",
   "execution_count": 16,
   "metadata": {},
   "outputs": [
    {
     "name": "stdout",
     "output_type": "stream",
     "text": [
      "0\n",
      "2\n",
      "4\n",
      "6\n",
      "8\n",
      "----------\n",
      "Tom年龄为：18岁\n",
      "Jack年龄为：19岁\n",
      "Alex年龄为：17岁\n",
      "Mary年龄为：20岁\n"
     ]
    }
   ],
   "source": [
    "lst=list(range(10))\n",
    "for i in lst[::2]:\n",
    "    print(i)\n",
    "print ('----------')\n",
    "\n",
    "age = {'Tom':18, 'Jack':19, 'Alex':17, 'Mary':20}\n",
    "for name in age:\n",
    "    print(name + '年龄为：%s岁' % age[name])"
   ]
  },
  {
   "cell_type": "code",
   "execution_count": 17,
   "metadata": {},
   "outputs": [
    {
     "name": "stdout",
     "output_type": "stream",
     "text": [
      "0 0\n",
      "0 1\n",
      "1 0\n",
      "1 1\n",
      "2 0\n",
      "2 1\n"
     ]
    }
   ],
   "source": [
    "for i in range(3):\n",
    "    for j in range(2):\n",
    "        print(i,j)"
   ]
  },
  {
   "cell_type": "code",
   "execution_count": 18,
   "metadata": {},
   "outputs": [
    {
     "name": "stdout",
     "output_type": "stream",
     "text": [
      "n wei5\n",
      "hw\n",
      "hw\n",
      "hw\n",
      "hw\n",
      "hw\n"
     ]
    }
   ],
   "source": [
    "count=int(input('n wei'))\n",
    "for i in range(count):\n",
    "    print('hw')\n"
   ]
  },
  {
   "cell_type": "code",
   "execution_count": 22,
   "metadata": {},
   "outputs": [
    {
     "name": "stdout",
     "output_type": "stream",
     "text": [
      "a wei0\n",
      "n wei5\n",
      "d wei1\n",
      "10\n"
     ]
    }
   ],
   "source": [
    "a=int(input('a wei'))\n",
    "n=int(input('n wei'))\n",
    "d=int(input('d wei'))\n",
    "s=0\n",
    "for i in range(n):\n",
    "    s = s+ a + i*d\n",
    "print(s)"
   ]
  },
  {
   "cell_type": "code",
   "execution_count": 25,
   "metadata": {},
   "outputs": [
    {
     "name": "stdout",
     "output_type": "stream",
     "text": [
      "{'a': 1, 'b': 2, 'c': 3}\n",
      "{'a': 1, 'b': 2, 'c': 3}\n"
     ]
    }
   ],
   "source": [
    "x1=[\"a\",\"b\",\"c\"]\n",
    "x2=[1,2,3]\n",
    "dic={}\n",
    "for i in range(len(x1)):\n",
    "    dic[x1[i]]=x2[i]\n",
    "print (dic)\n",
    "\n",
    "m=[]\n",
    "# [[\"a\",1],[\"b\",2],[\"c\",3]]\n",
    "for i in range(len(x1)):\n",
    "    m.append([x1[i],x2[i]])\n",
    "print (dict(m))"
   ]
  },
  {
   "cell_type": "code",
   "execution_count": 26,
   "metadata": {},
   "outputs": [
    {
     "data": {
      "text/plain": [
       "'\\n【课程5.4】\\n'"
      ]
     },
     "execution_count": 26,
     "metadata": {},
     "output_type": "execute_result"
    }
   ],
   "source": [
    "'''\n",
    "【课程5.4】\n",
    "'''"
   ]
  },
  {
   "cell_type": "code",
   "execution_count": 1,
   "metadata": {},
   "outputs": [
    {
     "name": "stdout",
     "output_type": "stream",
     "text": [
      "input:1\n",
      "you enter 1.000000\n",
      "input:1\n",
      "you enter 1.000000\n",
      "input:2\n",
      "you enter 2.000000\n",
      "finish\n"
     ]
    }
   ],
   "source": [
    "var=1\n",
    "while var==1:\n",
    "    var=float(input(\"input:\"))\n",
    "    print (\"you enter %f\" %var)\n",
    "print (\"finish\")"
   ]
  },
  {
   "cell_type": "code",
   "execution_count": 2,
   "metadata": {},
   "outputs": [
    {
     "name": "stdout",
     "output_type": "stream",
     "text": [
      "1  is  less than 5\n",
      "2  is  less than 5\n",
      "3  is  less than 5\n",
      "4  is  less than 5\n",
      "5  is not less than 5\n"
     ]
    }
   ],
   "source": [
    "count=1\n",
    "while count < 5:\n",
    "    print(count, \" is  less than 5\")\n",
    "    count = count + 1\n",
    "else:\n",
    "    print(count, \" is not less than 5\")"
   ]
  },
  {
   "cell_type": "code",
   "execution_count": 3,
   "metadata": {},
   "outputs": [
    {
     "data": {
      "text/plain": [
       "'\\n【课程5.5】\\n'"
      ]
     },
     "execution_count": 3,
     "metadata": {},
     "output_type": "execute_result"
    }
   ],
   "source": [
    "'''\n",
    "【课程5.5】\n",
    "'''"
   ]
  },
  {
   "cell_type": "code",
   "execution_count": 8,
   "metadata": {},
   "outputs": [
    {
     "name": "stdout",
     "output_type": "stream",
     "text": [
      "190\n",
      "i=0,j=0,i+j=0,s=0\n",
      "i=0,j=1,i+j=1,s=0\n",
      "i=0,j=2,i+j=2,s=0\n",
      "i=0,j=3,i+j=3,s=0\n",
      "i=0,j=4,i+j=4,s=0\n",
      "i=1,j=0,i+j=1,s=0\n",
      "i=1,j=1,i+j=2,s=1\n",
      "i=1,j=2,i+j=3,s=3\n",
      "i=1,j=3,i+j=4,s=6\n",
      "i=1,j=4,i+j=5,s=10\n",
      "i=2,j=0,i+j=2,s=10\n",
      "i=2,j=1,i+j=3,s=12\n",
      "i=2,j=2,i+j=4,s=16\n",
      "i=2,j=3,i+j=5,s=22\n",
      "i=2,j=4,i+j=6,s=30\n",
      "30\n",
      "i=0,j=0,i+j=0,s=0\n",
      "i=0,j=1,i+j=1,s=0\n",
      "i=0,j=2,i+j=2,s=0\n",
      "i=0,j=3,i+j=3,s=0\n",
      "i=0,j=4,i+j=4,s=0\n",
      "i=1,j=0,i+j=1,s=0\n",
      "i=1,j=1,i+j=2,s=1\n",
      "i=1,j=2,i+j=3,s=3\n",
      "i=1,j=3,i+j=4,s=6\n",
      "i=1,j=4,i+j=5,s=10\n",
      "i=2,j=0,i+j=2,s=10\n",
      "i=2,j=1,i+j=3,s=12\n",
      "i=2,j=2,i+j=4,s=16\n",
      "i=2,j=3,i+j=5,s=22\n",
      "i=3,j=0,i+j=3,s=22\n",
      "i=4,j=0,i+j=4,s=22\n",
      "i=5,j=0,i+j=5,s=22\n",
      "i=6,j=0,i+j=6,s=22\n",
      "i=7,j=0,i+j=7,s=22\n",
      "i=8,j=0,i+j=8,s=22\n",
      "i=9,j=0,i+j=9,s=22\n",
      "22\n"
     ]
    }
   ],
   "source": [
    "s=0\n",
    "n=1\n",
    "while n>0:\n",
    "    s=s+n\n",
    "    n=n+1\n",
    "    if n==20:\n",
    "        break\n",
    "print (s)\n",
    "\n",
    "s=0\n",
    "for i in range(10):\n",
    "    for j in range(5):\n",
    "        s=s+(i*j)\n",
    "        print ('i=%i,j=%i,i+j=%i,s=%i' %(i,j,i+j,s))\n",
    "    if s>20:\n",
    "        break\n",
    "print (s)\n",
    "\n",
    "s=0\n",
    "for i in range(10):\n",
    "    for j in range(5):\n",
    "        s=s+(i*j)\n",
    "        print ('i=%i,j=%i,i+j=%i,s=%i' %(i,j,i+j,s))\n",
    "        if s>20:\n",
    "            break\n",
    "print (s)"
   ]
  },
  {
   "cell_type": "code",
   "execution_count": 9,
   "metadata": {},
   "outputs": [
    {
     "name": "stdout",
     "output_type": "stream",
     "text": [
      "当前字母 : P\n",
      "当前字母 : y\n",
      "当前字母 : t\n",
      "当前字母 : h，但是我pass了\n",
      "当前字母 : h\n",
      "当前字母 : o\n",
      "当前字母 : n\n",
      "Good bye!\n"
     ]
    }
   ],
   "source": [
    "for letter in 'Python':\n",
    "    if letter == 'h':\n",
    "        pass\n",
    "        print( '当前字母 : h，但是我pass了')\n",
    "    print( '当前字母 :', letter)\n",
    "print( \"Good bye!\")\n",
    "# pass是空语句，是为了保持程序结构的完整性。（不中断也不跳过）"
   ]
  },
  {
   "cell_type": "code",
   "execution_count": 10,
   "metadata": {},
   "outputs": [
    {
     "name": "stdout",
     "output_type": "stream",
     "text": [
      "0\n",
      "第0次计算\n",
      "2\n",
      "第1次计算\n",
      "4\n",
      "第2次计算\n",
      "6\n",
      "第3次计算\n",
      "8\n",
      "第4次计算\n",
      "10\n",
      "第5次计算\n",
      "12\n",
      "第6次计算\n",
      "14\n",
      "第7次计算\n",
      "16\n",
      "第8次计算\n",
      "18\n",
      "第9次计算\n",
      "20\n",
      "第10次计算\n",
      "22\n",
      "第11次计算\n",
      "24\n",
      "第12次计算\n",
      "26\n",
      "第13次计算\n",
      "28\n",
      "第14次计算\n",
      "30\n",
      "第15次计算\n",
      "32\n",
      "第16次计算\n",
      "34\n",
      "第17次计算\n",
      "36\n",
      "第18次计算\n",
      "38\n",
      "第19次计算\n",
      "40\n",
      "第20次计算\n",
      "42\n",
      "第21次计算\n",
      "44\n",
      "第22次计算\n",
      "46\n",
      "第23次计算\n",
      "48\n",
      "第24次计算\n"
     ]
    }
   ],
   "source": [
    "s = 0\n",
    "for i in range(50):\n",
    "    if i%2 == 0:\n",
    "        s += i\n",
    "        print (i)\n",
    "    else:\n",
    "        continue\n",
    "    print('第%i次计算'%(i/2))"
   ]
  },
  {
   "cell_type": "code",
   "execution_count": null,
   "metadata": {
    "collapsed": true
   },
   "outputs": [],
   "source": []
  }
 ],
 "metadata": {
  "kernelspec": {
   "display_name": "Python 3",
   "language": "python",
   "name": "python3"
  },
  "language_info": {
   "codemirror_mode": {
    "name": "ipython",
    "version": 3
   },
   "file_extension": ".py",
   "mimetype": "text/x-python",
   "name": "python",
   "nbconvert_exporter": "python",
   "pygments_lexer": "ipython3",
   "version": "3.6.3"
  }
 },
 "nbformat": 4,
 "nbformat_minor": 2
}
