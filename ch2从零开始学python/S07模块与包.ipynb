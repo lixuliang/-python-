{
 "cells": [
  {
   "cell_type": "code",
   "execution_count": 1,
   "metadata": {},
   "outputs": [
    {
     "data": {
      "text/plain": [
       "'\\n【课程7.1】\\n'"
      ]
     },
     "execution_count": 1,
     "metadata": {},
     "output_type": "execute_result"
    }
   ],
   "source": [
    "'''\n",
    "【课程7.1】\n",
    "'''"
   ]
  },
  {
   "cell_type": "code",
   "execution_count": 6,
   "metadata": {},
   "outputs": [
    {
     "data": {
      "text/plain": [
       "'\\n【课程7.2】\\n'"
      ]
     },
     "execution_count": 6,
     "metadata": {},
     "output_type": "execute_result"
    }
   ],
   "source": [
    "'''\n",
    "【课程7.2】\n",
    "'''"
   ]
  },
  {
   "cell_type": "code",
   "execution_count": null,
   "metadata": {
    "collapsed": true
   },
   "outputs": [],
   "source": [
    "def f1(n):\n",
    "    y = 1\n",
    "    for i in range(1,n+1):\n",
    "        y = y * i\n",
    "    return y\n",
    "# 创建阶乘函数f1(n)\n",
    "\n",
    "def f2(lst,x):\n",
    "    while x in lst:\n",
    "        lst.remove(x)\n",
    "    return lst\n",
    "# 创建列表删值函数f2(lst,x)\n",
    "\n",
    "def f3(a,d,n):\n",
    "    an = a\n",
    "    s = 0\n",
    "    for i in range(n-1):\n",
    "        an = an + d\n",
    "        s = s + an\n",
    "    return s"
   ]
  },
  {
   "cell_type": "code",
   "execution_count": 12,
   "metadata": {},
   "outputs": [
    {
     "name": "stdout",
     "output_type": "stream",
     "text": [
      "D:\\Anaconda3\\lib\\site-packages\\pandas\\__init__.py\n"
     ]
    }
   ],
   "source": [
    "import pandas\n",
    "print(pandas.__file__)\n",
    "\n",
    "import sys\n",
    "sys.path.append('C:/Users/hp/Desktop/')\n",
    "import a"
   ]
  },
  {
   "cell_type": "code",
   "execution_count": 13,
   "metadata": {
    "collapsed": true
   },
   "outputs": [],
   "source": [
    "import numpy as np\n",
    "import pandas as pd"
   ]
  },
  {
   "cell_type": "code",
   "execution_count": 19,
   "metadata": {},
   "outputs": [
    {
     "name": "stdout",
     "output_type": "stream",
     "text": [
      "0.8025067839724259 7.617245886761092\n",
      "1\n",
      "[0, 1, 2, 3, 4, 5, 6, 7, 8, 9]\n",
      "3 [1, 5] [9, 0, 7, 1, 6, 3, 5, 8, 2, 4]\n"
     ]
    }
   ],
   "source": [
    "import random\n",
    "x = random.random()\n",
    "y = random.random()\n",
    "print(x,y*10)\n",
    "print (random.randint(0,1))\n",
    "a=list(range(10))\n",
    "print (a)\n",
    "a2= random.choice(a)\n",
    "a3=random.sample(a,2)\n",
    "random.shuffle(a)\n",
    "print (a2,a3,a)"
   ]
  },
  {
   "cell_type": "code",
   "execution_count": 24,
   "metadata": {},
   "outputs": [
    {
     "name": "stdout",
     "output_type": "stream",
     "text": [
      "Thu Aug 16 22:21:25 2018\n",
      "time.struct_time(tm_year=2018, tm_mon=8, tm_mday=16, tm_hour=22, tm_min=21, tm_sec=25, tm_wday=3, tm_yday=228, tm_isdst=0)\n",
      "2018-08-16 22:21:25\n"
     ]
    }
   ],
   "source": [
    "import time\n",
    "print (time.ctime())\n",
    "print (time.localtime())\n",
    "print (time.strftime('%Y-%m-%d %H:%M:%S', time.localtime()))"
   ]
  },
  {
   "cell_type": "code",
   "execution_count": 1,
   "metadata": {
    "collapsed": true
   },
   "outputs": [],
   "source": [
    "import sys\n",
    "sys.path.append('H:/python/零基础入门Python数据分析师到项目实战/课堂资料/课后答案+超级福利/【代码+软件+课后答案】课程资料/CLASSDATA_ch02基础语言入门：从零开始学习Python/')"
   ]
  },
  {
   "cell_type": "code",
   "execution_count": null,
   "metadata": {
    "collapsed": true
   },
   "outputs": [],
   "source": []
  }
 ],
 "metadata": {
  "kernelspec": {
   "display_name": "Python 3",
   "language": "python",
   "name": "python3"
  },
  "language_info": {
   "codemirror_mode": {
    "name": "ipython",
    "version": 3
   },
   "file_extension": ".py",
   "mimetype": "text/x-python",
   "name": "python",
   "nbconvert_exporter": "python",
   "pygments_lexer": "ipython3",
   "version": "3.6.3"
  }
 },
 "nbformat": 4,
 "nbformat_minor": 2
}
