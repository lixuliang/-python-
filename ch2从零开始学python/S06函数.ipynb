{
 "cells": [
  {
   "cell_type": "code",
   "execution_count": 1,
   "metadata": {},
   "outputs": [
    {
     "data": {
      "text/plain": [
       "'\\n【课程6.2】\\n'"
      ]
     },
     "execution_count": 1,
     "metadata": {},
     "output_type": "execute_result"
    }
   ],
   "source": [
    "'''\n",
    "【课程6.2】\n",
    "'''"
   ]
  },
  {
   "cell_type": "code",
   "execution_count": 3,
   "metadata": {},
   "outputs": [
    {
     "name": "stdout",
     "output_type": "stream",
     "text": [
      "hw\n"
     ]
    }
   ],
   "source": [
    "exec(\"print ('hw')\")"
   ]
  },
  {
   "cell_type": "code",
   "execution_count": 9,
   "metadata": {},
   "outputs": [
    {
     "name": "stdout",
     "output_type": "stream",
     "text": [
      "shuru11\n",
      "x>10\n",
      "shuru2\n",
      "shuruzhi<5\n"
     ]
    }
   ],
   "source": [
    "def f(x):\n",
    "    if x<5:\n",
    "        print ('shuruzhi<5')\n",
    "    elif x>10:\n",
    "        print (\"x>10\")\n",
    "    else:\n",
    "        print ('5~10')\n",
    "var=int(input('shuru'))\n",
    "f(var)\n",
    "var2=int(input('shuru'))\n",
    "f(var2)"
   ]
  },
  {
   "cell_type": "code",
   "execution_count": 10,
   "metadata": {},
   "outputs": [
    {
     "name": "stdout",
     "output_type": "stream",
     "text": [
      "None 4\n"
     ]
    }
   ],
   "source": [
    "def f1(x):\n",
    "    y = 2**x  # 没有return\n",
    "    \n",
    "def f2(x):\n",
    "    y = 2**x\n",
    "    return y # 含有return\n",
    "\n",
    "print (f1(2),f2(2))"
   ]
  },
  {
   "cell_type": "code",
   "execution_count": 11,
   "metadata": {},
   "outputs": [
    {
     "name": "stdout",
     "output_type": "stream",
     "text": [
      "100\n",
      "1000\n"
     ]
    }
   ],
   "source": [
    "def f(x,n = 2):\n",
    "    return(x**n)\n",
    "print(f(10))\n",
    "print(f(10,3))"
   ]
  },
  {
   "cell_type": "code",
   "execution_count": 18,
   "metadata": {},
   "outputs": [
    {
     "name": "stdout",
     "output_type": "stream",
     "text": [
      "(1,)\n",
      "('a', 'b')\n",
      "(1, 2, 3, [44, 33])\n",
      "('a', 'b')\n",
      "<class 'tuple'>\n"
     ]
    }
   ],
   "source": [
    "def f(*x):\n",
    "    print (x)\n",
    "    return(x)\n",
    "f(1)\n",
    "f('a','b')\n",
    "f(1,2,3,[44,33])\n",
    "print (type(f('a','b')))"
   ]
  },
  {
   "cell_type": "code",
   "execution_count": 20,
   "metadata": {},
   "outputs": [
    {
     "name": "stdout",
     "output_type": "stream",
     "text": [
      "as\n",
      "a\n",
      "s\n"
     ]
    }
   ],
   "source": [
    "def f(st):\n",
    "    for i in st:\n",
    "        print (i)\n",
    "a=input()\n",
    "f(a)"
   ]
  },
  {
   "cell_type": "code",
   "execution_count": 26,
   "metadata": {},
   "outputs": [
    {
     "name": "stdout",
     "output_type": "stream",
     "text": [
      "feishuzi\n",
      "2.5\n"
     ]
    }
   ],
   "source": [
    "def f(*m):\n",
    "    s=0\n",
    "    lst=[]\n",
    "    for i in m:\n",
    "        while str(i).isnumeric():\n",
    "            s+=i\n",
    "            lst.append(i)\n",
    "            break\n",
    "        else:\n",
    "            print ('feishuzi')  \n",
    "    print (s/len(lst))\n",
    "f(1,2,3,4,'a')"
   ]
  },
  {
   "cell_type": "code",
   "execution_count": 39,
   "metadata": {},
   "outputs": [
    {
     "name": "stdout",
     "output_type": "stream",
     "text": [
      "<class 'str'>\n",
      "<class 'list'>\n",
      "qingshurulist[1,2]\n",
      "{1: 0, 2: 0}\n"
     ]
    }
   ],
   "source": [
    "a=\"[1,2,3,4]\"\n",
    "print (type(a))\n",
    "print (type(eval(a)))\n",
    "\n",
    "lst=eval(input('qingshurulist'))\n",
    "\n",
    "def f(lt):\n",
    "    return (dict.fromkeys(lt,0))\n",
    "print (f(lst))"
   ]
  },
  {
   "cell_type": "code",
   "execution_count": 15,
   "metadata": {},
   "outputs": [
    {
     "data": {
      "text/plain": [
       "'\\n【课程6.3】\\n'"
      ]
     },
     "execution_count": 15,
     "metadata": {},
     "output_type": "execute_result"
    }
   ],
   "source": [
    "'''\n",
    "【课程6.3】\n",
    "'''"
   ]
  },
  {
   "cell_type": "code",
   "execution_count": 40,
   "metadata": {},
   "outputs": [
    {
     "name": "stdout",
     "output_type": "stream",
     "text": [
      "请输入一个数字：1213\n",
      "函数内为局部变量：呵呵哒\n",
      "函数外为全局变量：1213\n"
     ]
    }
   ],
   "source": [
    "def f(m):\n",
    "    m = '呵呵哒'  # 函数作用：把输入变量指向“呵呵哒”\n",
    "    print(\"函数内为局部变量：%s\" % m)    \n",
    "\n",
    "a = input('请输入一个数字：')\n",
    "f(a)\n",
    "print(\"函数外为全局变量：%s\" % a)"
   ]
  },
  {
   "cell_type": "code",
   "execution_count": 41,
   "metadata": {},
   "outputs": [
    {
     "name": "stdout",
     "output_type": "stream",
     "text": [
      "请输入一个数字：12\n",
      "输入变量值：12\n",
      "函数内转为全局变量：呵呵哒\n"
     ]
    }
   ],
   "source": [
    "def f():\n",
    "    global a\n",
    "    a = '呵呵哒'  \n",
    "    print(\"函数内转为全局变量：%s\" % a)    \n",
    "\n",
    "a = input('请输入一个数字：')\n",
    "print(\"输入变量值：%s\" % a)\n",
    "f()"
   ]
  },
  {
   "cell_type": "code",
   "execution_count": 42,
   "metadata": {},
   "outputs": [
    {
     "data": {
      "text/plain": [
       "'\\n【课程6.4】\\n'"
      ]
     },
     "execution_count": 42,
     "metadata": {},
     "output_type": "execute_result"
    }
   ],
   "source": [
    "'''\n",
    "【课程6.4】\n",
    "'''"
   ]
  },
  {
   "cell_type": "code",
   "execution_count": 43,
   "metadata": {},
   "outputs": [
    {
     "name": "stdout",
     "output_type": "stream",
     "text": [
      "9\n",
      "9\n"
     ]
    }
   ],
   "source": [
    "def fun(a,b,c):\n",
    "    return a+b+c\n",
    "print(fun(2,3,4))\n",
    "\n",
    "f = lambda a,b,c:a+b+c\n",
    "print (f(2,3,4))"
   ]
  },
  {
   "cell_type": "code",
   "execution_count": 44,
   "metadata": {},
   "outputs": [
    {
     "name": "stdout",
     "output_type": "stream",
     "text": [
      "4\n"
     ]
    }
   ],
   "source": [
    "f = lambda a:len(a)\n",
    "print (f([1,2,3,4]))"
   ]
  },
  {
   "cell_type": "code",
   "execution_count": 45,
   "metadata": {},
   "outputs": [
    {
     "name": "stdout",
     "output_type": "stream",
     "text": [
      "[33, 22, 2, 1]\n"
     ]
    }
   ],
   "source": [
    "def f (*var):\n",
    "    lst = list(var)\n",
    "    lst_re = sorted(lst,reverse = True)\n",
    "    return (lst_re)\n",
    "print (f(2,22,33,1))"
   ]
  },
  {
   "cell_type": "code",
   "execution_count": 52,
   "metadata": {},
   "outputs": [
    {
     "name": "stdout",
     "output_type": "stream",
     "text": [
      "['B', 'A', 'B']\n",
      "86.33333333333333\n"
     ]
    }
   ],
   "source": [
    "def f(*scores):\n",
    "    s=0\n",
    "    m=[]\n",
    "    for i in scores:\n",
    "        if i>90:\n",
    "            m.append('A')\n",
    "        elif i>60 and i<=90:\n",
    "            m.append('B')\n",
    "        else:\n",
    "            m.append('C')\n",
    "        s+=i\n",
    "    mean = s/len(scores)\n",
    "    return ([m,mean])\n",
    "\n",
    "result = f(89,92,78)\n",
    "print (result[0])\n",
    "print (result[1])"
   ]
  },
  {
   "cell_type": "code",
   "execution_count": 55,
   "metadata": {},
   "outputs": [
    {
     "name": "stdout",
     "output_type": "stream",
     "text": [
      "(2, 1, 4)\n"
     ]
    }
   ],
   "source": [
    "def f(st):\n",
    "    a,b,c=0,0,0\n",
    "    for i in st:\n",
    "        if str(i).isalpha():\n",
    "            a+=1\n",
    "        elif str(i).isspace():\n",
    "            b+=1\n",
    "        elif str(i).isdigit():\n",
    "            c+=1\n",
    "    return (a,b,c)\n",
    "\n",
    "print (f('as12 32'))"
   ]
  },
  {
   "cell_type": "code",
   "execution_count": null,
   "metadata": {
    "collapsed": true
   },
   "outputs": [],
   "source": []
  }
 ],
 "metadata": {
  "kernelspec": {
   "display_name": "Python 3",
   "language": "python",
   "name": "python3"
  },
  "language_info": {
   "codemirror_mode": {
    "name": "ipython",
    "version": 3
   },
   "file_extension": ".py",
   "mimetype": "text/x-python",
   "name": "python",
   "nbconvert_exporter": "python",
   "pygments_lexer": "ipython3",
   "version": "3.6.3"
  }
 },
 "nbformat": 4,
 "nbformat_minor": 2
}
