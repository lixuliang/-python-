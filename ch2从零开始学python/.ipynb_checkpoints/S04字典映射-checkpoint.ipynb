{
 "cells": [
  {
   "cell_type": "code",
   "execution_count": 1,
   "metadata": {},
   "outputs": [
    {
     "data": {
      "text/plain": [
       "'\\n【课程4.1】\\n'"
      ]
     },
     "execution_count": 1,
     "metadata": {},
     "output_type": "execute_result"
    }
   ],
   "source": [
    "'''\n",
    "【课程4.1】\n",
    "'''"
   ]
  },
  {
   "cell_type": "code",
   "execution_count": 3,
   "metadata": {},
   "outputs": [
    {
     "name": "stdout",
     "output_type": "stream",
     "text": [
      "{'大头儿子': 6, '小头爸爸': 35, '隔壁老王': 37} <class 'dict'>\n",
      "[{'name': 'Tom', 'age': 18}, {'name': 'Jack', 'age': 19}, {'name': 'Alex', 'age': 17}] <class 'list'>\n"
     ]
    }
   ],
   "source": [
    "name = ['大头儿子','小头爸爸','隔壁老王']\n",
    "age = [6,35,37]\n",
    "# 首先虽然序列是有顺序的，但还是不能直接把名字和年龄关联起来，这里只是顺序对上，且并没有一对一的关系\n",
    "\n",
    "dic = {'大头儿子':6, '小头爸爸': 35, '隔壁老王':37}\n",
    "print(dic,type(dic))\n",
    "# 用{}来表示，按照key：value来表示字典中的元素，其中key是键，value是值，key-value也就是键值对\n",
    "# 这里dic就是一个字典类型的变量\n",
    "\n",
    "dic = [{'name':'Tom', 'age':18},{'name':'Jack', 'age':19},{'name':'Alex', \"age\":17}]\n",
    "print(dic,type(dic))\n",
    "# 一个以字典为元素的列表，有没有觉得键值对很像数据中的字段和字段值？"
   ]
  },
  {
   "cell_type": "code",
   "execution_count": 6,
   "metadata": {},
   "outputs": [
    {
     "name": "stdout",
     "output_type": "stream",
     "text": [
      "{'var2': 'hello', 'var3': [1, 2, 3], 'var4': '任意修改其中一个值', 'var5': '添加一个值'}\n"
     ]
    }
   ],
   "source": [
    "dic = {'var1':1, 'var2':'hello', 'var3':[1,2,3], 'var4':{'a':1,'b':2}}\n",
    "dic['var5'] = '添加一个值'  # 任意添加元素\n",
    "dic['var4'] = '任意修改其中一个值'  # 任意修改元素\n",
    "del dic['var1']  # 任意删除元素\n",
    "print(dic)"
   ]
  },
  {
   "cell_type": "code",
   "execution_count": 12,
   "metadata": {},
   "outputs": [
    {
     "name": "stdout",
     "output_type": "stream",
     "text": [
      "{'m': 10, 'n': 'aa', 'h': [1, 2, 3]}\n",
      "<class 'list'> <class 'list'> <class 'tuple'>\n",
      "{'a': 'fff', 'b': 'ggg'} {'c': 1, 'd': 2} {'e': [1, 2], 'f': [3, 4]}\n"
     ]
    }
   ],
   "source": [
    "dic = dict(m=10,n='aa',h=[1,2,3])\n",
    "print(dic)\n",
    "lst1=[(\"a\",\"fff\"),(\"b\",\"ggg\")]\n",
    "lst2=[[\"c\",1],[\"d\",2]]\n",
    "lst3=((\"e\",[1,2]),(\"f\",[3,4]))\n",
    "#list3=[[\"e\",[1,2]],[\"f\",[3,4]]]\n",
    "print (type(lst1),type(lst2),type(lst3))\n",
    "dic1 = dict(lst1)\n",
    "dic2 = dict(lst2)\n",
    "dic3 = dict(lst3)\n",
    "print(dic1,dic2,dic3)"
   ]
  },
  {
   "cell_type": "code",
   "execution_count": 13,
   "metadata": {},
   "outputs": [
    {
     "name": "stdout",
     "output_type": "stream",
     "text": [
      "{'a': None, 'b': None, 'c': None} {'a': 'hello', 'b': 'hello', 'c': 'hello'}\n"
     ]
    }
   ],
   "source": [
    "keys = [\"a\", \"b\", \"c\"]\n",
    "dic1 = dict.fromkeys(keys)\n",
    "dic2 = dict.fromkeys(keys, 'hello')\n",
    "print(dic1,dic2)"
   ]
  },
  {
   "cell_type": "code",
   "execution_count": 14,
   "metadata": {},
   "outputs": [
    {
     "data": {
      "text/plain": [
       "'\\n【课程4.2】\\n'"
      ]
     },
     "execution_count": 14,
     "metadata": {},
     "output_type": "execute_result"
    }
   ],
   "source": [
    "'''\n",
    "【课程4.2】\n",
    "'''"
   ]
  },
  {
   "cell_type": "code",
   "execution_count": 15,
   "metadata": {},
   "outputs": [
    {
     "name": "stdout",
     "output_type": "stream",
     "text": [
      "{'a': 1, 'b': 2, 'c': 3, 'd': 4} {'c': 3, 'd': 4}\n"
     ]
    }
   ],
   "source": [
    "dic1 = {\"a\":1, \"b\":2}\n",
    "dic2 = {\"c\":3, \"d\":4}\n",
    "dic1.update(dic2)\n",
    "print(dic1,dic2)"
   ]
  },
  {
   "cell_type": "code",
   "execution_count": 17,
   "metadata": {},
   "outputs": [
    {
     "name": "stdout",
     "output_type": "stream",
     "text": [
      "{'m': 1, 'n': 2, 'p': 3, 'q': 4} {'m': 1, 'n': 2, 'p': 3, 'q': 4}\n",
      "{'m': 1, 'n': 2, 'p': 3, 'q': 4} {'m': 1, 'n': 2, 'p': 3}\n"
     ]
    }
   ],
   "source": [
    "a = {'m':1 , 'n':2 , 'p':3}\n",
    "b = a\n",
    "a.update({'q':4})\n",
    "print(a,b)\n",
    "\n",
    "a = {'m':1 , 'n':2 , 'p':3}\n",
    "b = a.copy()\n",
    "a.update({'q':4})\n",
    "print(a,b)"
   ]
  },
  {
   "cell_type": "code",
   "execution_count": 18,
   "metadata": {},
   "outputs": [
    {
     "name": "stdout",
     "output_type": "stream",
     "text": [
      "{'name': 'Jack', 'age': 10}\n",
      "{'name': 'marry', 'age': 20}\n",
      "{'name': 'joen', 'age': 30}\n"
     ]
    }
   ],
   "source": [
    "data = [{\"name\": \"Jack\",\"age\":10},\n",
    "        {\"name\": \"marry\",\"age\":20},\n",
    "        {\"name\": \"joen\",\"age\":30}]\n",
    "for i in data:\n",
    "    print (i)"
   ]
  },
  {
   "cell_type": "code",
   "execution_count": 19,
   "metadata": {},
   "outputs": [
    {
     "data": {
      "text/plain": [
       "'\\n【课程4.3】\\n'"
      ]
     },
     "execution_count": 19,
     "metadata": {},
     "output_type": "execute_result"
    }
   ],
   "source": [
    "'''\n",
    "【课程4.3】\n",
    "'''"
   ]
  },
  {
   "cell_type": "code",
   "execution_count": 25,
   "metadata": {},
   "outputs": [
    {
     "name": "stdout",
     "output_type": "stream",
     "text": [
      "66663333\n",
      "nothing\n",
      "None\n",
      "dict_keys(['name', 'city', 'information']) <class 'dict_keys'>\n",
      "['name', 'city', 'information']\n",
      "dict_items([('name', 'shop'), ('city', 'shanghai'), ('information', {'address': 'somewhere', 'num': 66663333})]) <class 'dict_items'>\n",
      "[('name', 'shop'), ('city', 'shanghai'), ('information', {'address': 'somewhere', 'num': 66663333})]\n"
     ]
    }
   ],
   "source": [
    "poi = {'name':'shop', 'city':'shanghai', 'information':{'address':'somewhere', 'num':66663333}}\n",
    "print(poi['information']['num'])\n",
    "print(poi.get('type',print('nothing')))\n",
    "\n",
    "print(poi.keys(),type(poi.keys()))\n",
    "print(list(poi.keys()))\n",
    "\n",
    "print(poi.items(),type(poi.items()))\n",
    "print(list(poi.items()))"
   ]
  },
  {
   "cell_type": "code",
   "execution_count": 30,
   "metadata": {},
   "outputs": [
    {
     "name": "stdout",
     "output_type": "stream",
     "text": [
      "name\n",
      "city\n",
      "information\n",
      "code\n",
      "-------\n",
      "shop\n",
      "shanghai\n",
      "{'address': 'somewhere', 'num': 66663333}\n",
      "11111\n",
      "-------\n",
      "key is name, value is shop\n",
      "key is city, value is shanghai\n",
      "key is information, value is {'address': 'somewhere', 'num': 66663333}\n",
      "key is code, value is 11111\n",
      "-------\n"
     ]
    }
   ],
   "source": [
    "poi = {'name':'shop', 'city':'shanghai', 'information':{'address':'somewhere', 'num':66663333},'code':11111}\n",
    "for key in poi.keys():\n",
    "    print (key)\n",
    "print('-------')\n",
    "\n",
    "for value in poi.values():\n",
    "    print (value)\n",
    "print('-------')\n",
    "\n",
    "for (k,v) in poi.items():\n",
    "    print ('key is %s, value is %s' %(k,v))\n",
    "print ('-------')"
   ]
  },
  {
   "cell_type": "code",
   "execution_count": 32,
   "metadata": {},
   "outputs": [
    {
     "name": "stdout",
     "output_type": "stream",
     "text": [
      "True\n",
      "dict_keys(['name', 'city', 'information', 'code'])\n"
     ]
    }
   ],
   "source": [
    "print (11111 in poi.values())\n",
    "print (poi.keys())"
   ]
  },
  {
   "cell_type": "code",
   "execution_count": null,
   "metadata": {
    "collapsed": true
   },
   "outputs": [],
   "source": []
  }
 ],
 "metadata": {
  "kernelspec": {
   "display_name": "Python 3",
   "language": "python",
   "name": "python3"
  },
  "language_info": {
   "codemirror_mode": {
    "name": "ipython",
    "version": 3
   },
   "file_extension": ".py",
   "mimetype": "text/x-python",
   "name": "python",
   "nbconvert_exporter": "python",
   "pygments_lexer": "ipython3",
   "version": "3.6.3"
  }
 },
 "nbformat": 4,
 "nbformat_minor": 2
}
