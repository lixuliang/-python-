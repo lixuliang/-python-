{
 "cells": [
  {
   "cell_type": "code",
   "execution_count": 2,
   "metadata": {},
   "outputs": [
    {
     "data": {
      "text/plain": [
       "'\\n【课程3.1】\\n'"
      ]
     },
     "execution_count": 2,
     "metadata": {},
     "output_type": "execute_result"
    }
   ],
   "source": [
    "'''\n",
    "【课程3.1】\n",
    "'''"
   ]
  },
  {
   "cell_type": "code",
   "execution_count": 3,
   "metadata": {},
   "outputs": [
    {
     "data": {
      "text/plain": [
       "'\\n【课程3.2】\\n'"
      ]
     },
     "execution_count": 3,
     "metadata": {},
     "output_type": "execute_result"
    }
   ],
   "source": [
    "'''\n",
    "【课程3.2】\n",
    "'''"
   ]
  },
  {
   "cell_type": "code",
   "execution_count": 6,
   "metadata": {},
   "outputs": [
    {
     "name": "stdout",
     "output_type": "stream",
     "text": [
      "True\n",
      "True\n"
     ]
    }
   ],
   "source": [
    "lst = [1,2,3,4,5,6]\n",
    "a,b = 1,10\n",
    "print (a in lst)\n",
    "print (b not in lst)"
   ]
  },
  {
   "cell_type": "code",
   "execution_count": 7,
   "metadata": {},
   "outputs": [
    {
     "name": "stdout",
     "output_type": "stream",
     "text": [
      "[1, 2, 3, 4, 5, 6, 1, 2, 3, 4, 5, 6]\n",
      "[1, 2, 3, 4, 5, 6, 1, 2, 3, 4, 5, 6, 1, 2, 3, 4, 5, 6]\n"
     ]
    }
   ],
   "source": [
    "print (lst+lst)\n",
    "print(lst*3)"
   ]
  },
  {
   "cell_type": "code",
   "execution_count": 9,
   "metadata": {},
   "outputs": [
    {
     "name": "stdout",
     "output_type": "stream",
     "text": [
      "[3, 4, 5]\n",
      "[1, 2, 3, 4, 5]\n",
      "[3, 4, 5, 6, 7, 8, 9, 0]\n",
      "0\n",
      "[3, 4, 5, 6, 7, 8, 9]\n"
     ]
    }
   ],
   "source": [
    "lst = [1,2,3,4,5,6,7,8,9,0]\n",
    "print (lst[2:5])\n",
    "print (lst[:5])\n",
    "print (lst[2:])\n",
    "print(lst[-1])\n",
    "print (lst[2:-1])"
   ]
  },
  {
   "cell_type": "code",
   "execution_count": 15,
   "metadata": {},
   "outputs": [
    {
     "name": "stdout",
     "output_type": "stream",
     "text": [
      "11\n",
      "[1, 2, 3, 4, 4, 6]\n",
      "2\n",
      "2\n"
     ]
    }
   ],
   "source": [
    "lst = [1,1,2,3,3,4,4,4,4,5,6]\n",
    "print (len(lst))\n",
    "print (lst[::2])\n",
    "print (lst.index(2))\n",
    "print (lst.count(1))"
   ]
  },
  {
   "cell_type": "code",
   "execution_count": 18,
   "metadata": {},
   "outputs": [
    {
     "name": "stdout",
     "output_type": "stream",
     "text": [
      "2\n",
      "2\n",
      "0\n"
     ]
    }
   ],
   "source": [
    "x=[1,2,3,1,[1],[1,1]]\n",
    "print(x.count(1))\n",
    "x=[1,2,5,1,\"1\",\"1\"]\n",
    "print(x.count(1))\n",
    "y=[45,67,89,45,34,22,1]\n",
    "print (y.index(45))"
   ]
  },
  {
   "cell_type": "code",
   "execution_count": 19,
   "metadata": {},
   "outputs": [
    {
     "data": {
      "text/plain": [
       "'\\n【课程3.3】\\n'"
      ]
     },
     "execution_count": 19,
     "metadata": {},
     "output_type": "execute_result"
    }
   ],
   "source": [
    "'''\n",
    "【课程3.3】\n",
    "'''"
   ]
  },
  {
   "cell_type": "code",
   "execution_count": 25,
   "metadata": {},
   "outputs": [
    {
     "name": "stdout",
     "output_type": "stream",
     "text": [
      "['小明', '小红', '团支书']\n",
      "['小明', '小红', '团支书']\n"
     ]
    }
   ],
   "source": [
    "name = ['小明', '小红'] \n",
    "print(name + ['团支书'])\n",
    "name.append('团支书')\n",
    "print(name)"
   ]
  },
  {
   "cell_type": "code",
   "execution_count": 28,
   "metadata": {},
   "outputs": [
    {
     "name": "stdout",
     "output_type": "stream",
     "text": [
      "[4, 5, 6, 7, 8, 9]\n",
      "[0, 1, 2, 3, 4, 5, 6, 7, 8, 9]\n"
     ]
    }
   ],
   "source": [
    "lst = list(range(4,10))\n",
    "print(lst)\n",
    "lst = list(range(0,10,1))\n",
    "print(lst)"
   ]
  },
  {
   "cell_type": "code",
   "execution_count": 29,
   "metadata": {},
   "outputs": [
    {
     "name": "stdout",
     "output_type": "stream",
     "text": [
      "[0, 1, 2, 3, 4, 5, 6, 7, 8, 9, 'hello']\n",
      "[0, 1, 2, 3, 4, 5, 6, 7, 8, 9, 'hello', ['a', 'b', 'c']]\n",
      "[0, 1, 2, 3, 4, 5, 6, 7, 8, 9, 'hello', ['a', 'b', 'c'], 'a', 'b', 'c']\n"
     ]
    }
   ],
   "source": [
    "lst = list(range(10))\n",
    "lst.append('hello')\n",
    "print(lst)\n",
    "\n",
    "lst.append(['a','b','c'])\n",
    "print(lst)\n",
    "lst.extend(['a','b','c'])\n",
    "print(lst)"
   ]
  },
  {
   "cell_type": "code",
   "execution_count": 30,
   "metadata": {},
   "outputs": [
    {
     "name": "stdout",
     "output_type": "stream",
     "text": [
      "['Jack', 'Tom', 'Tracy', 'Alex', 'White']\n",
      "['Jack', 'Tom', 'Tracy']\n",
      "[]\n"
     ]
    }
   ],
   "source": [
    "lst = ['Jack','Jack','Tom','Tracy','Alex','White']\n",
    "lst.remove('Jack')\n",
    "print(lst)\n",
    "\n",
    "del lst[3:5]\n",
    "print(lst)\n",
    "\n",
    "lst.clear()\n",
    "print(lst)"
   ]
  },
  {
   "cell_type": "code",
   "execution_count": 31,
   "metadata": {},
   "outputs": [
    {
     "name": "stdout",
     "output_type": "stream",
     "text": [
      "[0, 1, 2, 3, 4, 5, 6, 7, 8, 9]\n",
      "[0, 1, 2, 'a', 3, 4, 5, 6, 7, 8, 9]\n",
      "[0, 1, 2, 'a', 3, [1, 2, 3], 4, 5, 6, 7, 8, 9]\n"
     ]
    }
   ],
   "source": [
    "lst = list(range(10))\n",
    "print(lst)\n",
    "lst.insert(3,'a')\n",
    "print(lst)\n",
    "\n",
    "lst.insert(5,[1,2,3])\n",
    "print(lst)"
   ]
  },
  {
   "cell_type": "code",
   "execution_count": 33,
   "metadata": {},
   "outputs": [
    {
     "name": "stdout",
     "output_type": "stream",
     "text": [
      "[0, 1, 'hello', 3, 4, 5, 6, 7, 8, 9] [0, 1, 'hello', 3, 4, 5, 6, 7, 8, 9]\n",
      "[0, 1, 2, 3, 4, 5, 6, 7, 8, 9] [0, 1, 'hello', 3, 4, 5, 6, 7, 8, 9]\n"
     ]
    }
   ],
   "source": [
    "lst = list(range(10))\n",
    "lst1 = lst\n",
    "lst1[2] = 'hello'\n",
    "print(lst,lst1)\n",
    "\n",
    "lst = list(range(10))\n",
    "lst2 = lst.copy()\n",
    "lst2[2] = 'hello'\n",
    "print(lst,lst2)"
   ]
  },
  {
   "cell_type": "code",
   "execution_count": 36,
   "metadata": {},
   "outputs": [
    {
     "name": "stdout",
     "output_type": "stream",
     "text": [
      "[3, 12, 32, 45, 45, 66, 98] ['asd', 'cxv', 'ghv']\n",
      "[3, 12, 32, 45, 45, 66, 98] [3, 12, 32, 45, 45, 66, 98, 'hello']\n"
     ]
    }
   ],
   "source": [
    "lst1 = [12,45,32,98,45,66,3]\n",
    "lst2 = [\"asd\", \"cxv\", \"ghv\"]\n",
    "lst1.sort()\n",
    "lst2.sort()\n",
    "print(lst1,lst2)\n",
    "\n",
    "lst3 = sorted(lst1)\n",
    "lst3.append('hello')\n",
    "print(lst1,lst3)"
   ]
  },
  {
   "cell_type": "code",
   "execution_count": 41,
   "metadata": {},
   "outputs": [
    {
     "name": "stdout",
     "output_type": "stream",
     "text": [
      "[32, 63, 12, 45, 89, 77]\n",
      "[32, 63, 45, 89, 77]\n",
      "89\n"
     ]
    }
   ],
   "source": [
    "s=[32,45,63,12,45,89,77]\n",
    "s.remove(45)\n",
    "print (s)\n",
    "del s[2],\n",
    "print (s)\n",
    "print (s.pop(3))"
   ]
  },
  {
   "cell_type": "code",
   "execution_count": 42,
   "metadata": {},
   "outputs": [
    {
     "data": {
      "text/plain": [
       "'\\n【课程3.4】\\n'"
      ]
     },
     "execution_count": 42,
     "metadata": {},
     "output_type": "execute_result"
    }
   ],
   "source": [
    "'''\n",
    "【课程3.4】\n",
    "'''"
   ]
  },
  {
   "cell_type": "code",
   "execution_count": 44,
   "metadata": {},
   "outputs": [
    {
     "name": "stdout",
     "output_type": "stream",
     "text": [
      "my name is \"fatbird\"\n"
     ]
    }
   ],
   "source": [
    "str3 = 'my name is \"fatbird\"'\n",
    "print (str3)"
   ]
  },
  {
   "cell_type": "code",
   "execution_count": 46,
   "metadata": {},
   "outputs": [
    {
     "name": "stdout",
     "output_type": "stream",
     "text": [
      "True\n",
      "我很帅没错\n",
      "handsome handsome handsome handsome \n",
      "c g\n",
      "ab\n",
      "aceg\n",
      "6\n",
      "st长度为： 7\n",
      "st长度为：7\n"
     ]
    }
   ],
   "source": [
    "print('a' in 'abc')  # in/not in ：判断是否存在\n",
    "print('我很帅' + \"没错\")  # 文本连接\n",
    "print('handsome '*4)  # 文本复制\n",
    "\n",
    "st = 'abcdefg'\n",
    "print(st[2],st[-1])\n",
    "print(st[:2])\n",
    "print(st[::2])\n",
    "# 索引、切片、步长\n",
    "\n",
    "print(st.index('g'))  # .index()方法\n",
    "print('st长度为：',len(st))  # 计算字符串长度（思考这里能否把逗号换为\"+\"）\n",
    "print('st长度为：'+str(len(st)))"
   ]
  },
  {
   "cell_type": "code",
   "execution_count": 49,
   "metadata": {},
   "outputs": [
    {
     "name": "stdout",
     "output_type": "stream",
     "text": [
      "i`m handsome!\n",
      "i`m ugly!\n",
      "heheha\n",
      "['poi01', '116.446238', '39.940166']\n",
      "poi01-116.446238-39.940166\n"
     ]
    }
   ],
   "source": [
    "st = \"i`m handsome!\"\n",
    "st2 = st.replace('handsome','ugly')\n",
    "print(st)\n",
    "print(st2)\n",
    "st = 'hahaha'\n",
    "st2 = st.replace('ha','he',2)\n",
    "print(st2)\n",
    "\n",
    "st = \"poi01,116.446238,39.940166\"\n",
    "lst = st.split(',')\n",
    "print(lst)\n",
    "# str.split(obj)：拆分字符串，生成列表\n",
    "\n",
    "lst = ['poi01', '116.446238', '39.940166']\n",
    "m = '-'\n",
    "st = m.join(lst)\n",
    "print(st)\n",
    "# str.join()：连接字符串，对象为列表\n"
   ]
  },
  {
   "cell_type": "code",
   "execution_count": 52,
   "metadata": {},
   "outputs": [
    {
     "name": "stdout",
     "output_type": "stream",
     "text": [
      "ABDEAJC KLM\n",
      "aBDEAjc kLM\n",
      "abdeajc klm\n",
      "AbdeaJC Klm\n",
      "Abdeajc klm\n",
      "aBDEAjc kLM\n"
     ]
    }
   ],
   "source": [
    "st = 'aBDEAjc kLM'\n",
    "print(st.upper())  # 全部大写\n",
    "print(st)\n",
    "print(st.lower())  # 全部小写\n",
    "print(st.swapcase())  # 大小写互换\n",
    "print(st.capitalize())  # 首字母大写\n",
    "print(st)"
   ]
  },
  {
   "cell_type": "code",
   "execution_count": 54,
   "metadata": {},
   "outputs": [
    {
     "name": "stdout",
     "output_type": "stream",
     "text": [
      "avd\n",
      "avd   \n",
      "avd\n"
     ]
    }
   ],
   "source": [
    "st = 'avd   '\n",
    "print(st.rstrip())  # 删除字符末尾的空格\n",
    "st2 = st.rstrip()\n",
    "print (st)\n",
    "print (st2)"
   ]
  },
  {
   "cell_type": "code",
   "execution_count": 59,
   "metadata": {},
   "outputs": [
    {
     "name": "stdout",
     "output_type": "stream",
     "text": [
      "this is 4\n",
      "this is hehe\n",
      "this is 4.200000\n",
      "a=99,b=100\n"
     ]
    }
   ],
   "source": [
    "x = 4   \n",
    "y = \"hehe\"  \n",
    "z = 4.2\n",
    "print(\"this is %i\" %x)\n",
    "print(\"this is %s\" %y)\n",
    "print(\"this is %f\" %z)\n",
    "print (\"a=%i,b=%i\" %(99,100))"
   ]
  },
  {
   "cell_type": "code",
   "execution_count": 57,
   "metadata": {},
   "outputs": [
    {
     "name": "stdout",
     "output_type": "stream",
     "text": [
      "pi is 3.141593\n",
      "pi is 3.14\n",
      "pi is 10\n",
      "pi is 11\n",
      "have fun +100\n",
      "have fun -0.01\n",
      "have fun  100\n",
      "have fun +100\n",
      "have fun -0.01\n",
      "have fun 1.23e+02\n",
      "have fun 1.2312E+02\n",
      "have fun 123.123\n",
      "have fun 1.2\n"
     ]
    }
   ],
   "source": [
    "m = 3.1415926 \n",
    "print(\"pi is %f\"  %m)\n",
    "print(\"pi is %.2f\" %m)\n",
    "# 我只想输出2位小数:%.2f，此处是四舍五入！\n",
    "\n",
    "m = 10.6\n",
    "print(\"pi is %i\"  %m)\n",
    "print(\"pi is %.0f\" %m)\n",
    "# 区别：%i 不四舍五入，直接切掉小数部分\n",
    "\n",
    "m = 100 \n",
    "print(\"have fun %+i\"  %m)\n",
    "print(\"have fun %.2f\"  % -0.01)\n",
    "# 显示正号，负号根据数字直接显示\n",
    "\n",
    "m = 100 \n",
    "print(\"have fun % i\"  %m)\n",
    "print(\"have fun % +i\"  %m)\n",
    "print(\"have fun % .2f\"  %-0.01)\n",
    "# 加空格，空格和正好只能显示一个\n",
    "\n",
    "m = 123.123123123 \n",
    "print(\"have fun %.2e\"  %m)\n",
    "print(\"have fun %.4E\"  %m)\n",
    "# 科学计数法 %e  %E\n",
    "\n",
    "m1 = 123.123123123\n",
    "m2 = 1.2\n",
    "print(\"have fun %g\"  %m1)\n",
    "print(\"have fun %g\"  %m2)\n",
    "# 小数位数少的时候自动识别用浮点数，数据复杂的时候自动识别用科学计数法"
   ]
  },
  {
   "cell_type": "code",
   "execution_count": 61,
   "metadata": {},
   "outputs": [
    {
     "name": "stdout",
     "output_type": "stream",
     "text": [
      "User ID: root\n",
      "a 呵呵 b\n",
      "abc \n",
      " abca \n",
      "\n",
      "我的工作是设计\n",
      "abc{}\n",
      "abcdef\n",
      "4.123000 \n",
      " 4.12 \n",
      " 4.123000e+00 \n",
      " 100 \n",
      " 412.300000% \n",
      " 10\n"
     ]
    }
   ],
   "source": [
    "# 更强大的格式化方法.format\n",
    "\n",
    "print(\"User ID: {0}\".format(\"root\"))\n",
    "print(\"{} 呵呵 {}\".format(\"a\",\"b\"))\n",
    "# {} 这里代表占位符，其中可以有数字也可以没有\n",
    "\n",
    "print(\"{}{}{}\".format('a','b','c'),'\\n',\n",
    "     \"{0}{1}{2}{0}\".format('a','b','c'),'\\n')\n",
    "#print(\"{}{}{}{}\".format('a','b','c'))\n",
    "# {}和{0}的区别:都是占位符，后者有了明确指定\n",
    "\n",
    "print(\"我的工作是{work}\".format(work = '设计'))\n",
    "# 也可以用变量来指示\n",
    "\n",
    "x=\"abc{}\"\n",
    "a = x.format(\"def\")\n",
    "print(x)\n",
    "print(a)\n",
    "# .format()生成新的值吗？？\n",
    "\n",
    "print(\"{:f}\".format(4.123),'\\n',\n",
    " \"{:.2f}\".format(4.123),'\\n',\n",
    " \"{:e}\".format(4.123),'\\n',\n",
    " \"{:.0f}\".format(99.9),'\\n',\n",
    " \"{:%}\".format(4.123),'\\n',\n",
    " \"{:d}\".format(10))"
   ]
  },
  {
   "cell_type": "code",
   "execution_count": 63,
   "metadata": {},
   "outputs": [
    {
     "name": "stdout",
     "output_type": "stream",
     "text": [
      "zengzhang12.35 %\n"
     ]
    }
   ],
   "source": [
    "print (\"zengzhang%.2f %%\" %12.345)"
   ]
  },
  {
   "cell_type": "code",
   "execution_count": 66,
   "metadata": {},
   "outputs": [
    {
     "name": "stdout",
     "output_type": "stream",
     "text": [
      "['a', 'b', 'c']\n"
     ]
    }
   ],
   "source": [
    "m=\"a,b,c\"\n",
    "print(m.split(','))"
   ]
  },
  {
   "cell_type": "code",
   "execution_count": 67,
   "metadata": {},
   "outputs": [
    {
     "name": "stdout",
     "output_type": "stream",
     "text": [
      "abcnn\n"
     ]
    }
   ],
   "source": [
    "print(\"abc%s\" % \"nn\")"
   ]
  },
  {
   "cell_type": "code",
   "execution_count": 68,
   "metadata": {},
   "outputs": [
    {
     "name": "stdout",
     "output_type": "stream",
     "text": [
      "245123.000000\n"
     ]
    }
   ],
   "source": [
    "print(\"245%f\" % 123)"
   ]
  },
  {
   "cell_type": "code",
   "execution_count": null,
   "metadata": {
    "collapsed": true
   },
   "outputs": [],
   "source": []
  }
 ],
 "metadata": {
  "kernelspec": {
   "display_name": "Python 3",
   "language": "python",
   "name": "python3"
  },
  "language_info": {
   "codemirror_mode": {
    "name": "ipython",
    "version": 3
   },
   "file_extension": ".py",
   "mimetype": "text/x-python",
   "name": "python",
   "nbconvert_exporter": "python",
   "pygments_lexer": "ipython3",
   "version": "3.6.3"
  }
 },
 "nbformat": 4,
 "nbformat_minor": 2
}
