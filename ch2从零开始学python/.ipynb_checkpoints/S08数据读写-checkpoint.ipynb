{
 "cells": [
  {
   "cell_type": "code",
   "execution_count": 1,
   "metadata": {},
   "outputs": [
    {
     "data": {
      "text/plain": [
       "'\\n【课程8.1】\\n'"
      ]
     },
     "execution_count": 1,
     "metadata": {},
     "output_type": "execute_result"
    }
   ],
   "source": [
    "'''\n",
    "【课程8.1】\n",
    "'''"
   ]
  },
  {
   "cell_type": "code",
   "execution_count": 4,
   "metadata": {},
   "outputs": [
    {
     "name": "stdout",
     "output_type": "stream",
     "text": [
      "C:/Users/hp/Desktop/text.txt\n",
      "C:\\Users\\hp\\Desktop\\text.txt\n",
      "C:\\Users\\hp\\Desktop\\text.txt\n"
     ]
    }
   ],
   "source": [
    "path1 = 'C:/Users/hp/Desktop/text.txt'  # 单个反斜杠：/\n",
    "path2 = 'C:\\\\Users\\\\hp\\\\Desktop\\\\text.txt'  # 两个斜杠：\\\\（第一个\\是转义符）\n",
    "path3 = r'C:\\Users\\hp\\Desktop\\text.txt'  # r用于防止字符转义\n",
    "# 路径书写格式\n",
    "print(path1)\n",
    "print(path2)\n",
    "print(path3)"
   ]
  },
  {
   "cell_type": "code",
   "execution_count": 11,
   "metadata": {},
   "outputs": [
    {
     "name": "stdout",
     "output_type": "stream",
     "text": [
      "<class '_io.TextIOWrapper'>\n",
      "<_io.TextIOWrapper name='C:\\\\Users\\\\hp\\\\Desktop\\\\text.txt' mode='r' encoding='cp936'>\n",
      "import this\n",
      "import this\n",
      "import this\n",
      "读取完毕\n",
      "\n",
      "读取为空\n",
      "import this\n",
      "import this\n",
      "import this\n",
      "第二次读取\n"
     ]
    }
   ],
   "source": [
    "f = open(path2,'r')\n",
    "print (type(f))\n",
    "print (f)\n",
    "print(f.read())\n",
    "print('读取完毕')\n",
    "\n",
    "print(f.read()) \n",
    "print('读取为空')\n",
    "# 运行第一次.read()之后，光标位于末尾，再次读取输出为空\n",
    "\n",
    "f.seek(0)\n",
    "print(f.read()) \n",
    "print('第二次读取')\n",
    "# 所以现在用 f.seek(0) 来移动光标\n",
    "\n",
    "f.close()\n",
    "# print(f.read())   # 关闭后无法读取\n",
    "# 关闭文件链接  f.close()，养成一个好习惯"
   ]
  },
  {
   "cell_type": "code",
   "execution_count": 12,
   "metadata": {},
   "outputs": [
    {
     "data": {
      "text/plain": [
       "'\\n【课程8.2】\\n'"
      ]
     },
     "execution_count": 12,
     "metadata": {},
     "output_type": "execute_result"
    }
   ],
   "source": [
    "'''\n",
    "【课程8.2】\n",
    "'''"
   ]
  },
  {
   "cell_type": "code",
   "execution_count": 13,
   "metadata": {},
   "outputs": [
    {
     "name": "stdout",
     "output_type": "stream",
     "text": [
      "nt\n",
      "C:\\Users\\hp\\零基础入门python数据分析师\\ch2从零开始学python\n",
      "['.ipynb_checkpoints', 'S02变量及数据类型.ipynb', 'S03序列及通用操作.ipynb', 'S04字典映射.ipynb', 'S05条件判断及循环语句.ipynb', 'S06函数.ipynb', 'S07模块与包.ipynb', 'S08数据读写.ipynb', 'Untitled.ipynb', '课程资料', '项目1商铺数据.ipynb', '项目2算法函数创建.ipynb']\n"
     ]
    }
   ],
   "source": [
    "import os  # 导入模块\n",
    "\n",
    "print(os.name)  # 输出字符串指示正在使用的平台。如果是window 则用'nt'表示，对Linux/Unix用户，它是'posix'。\n",
    "\n",
    "print(os.getcwd())  # 函数得到当前工作目录，即当前Python脚本工作的目录路径。\n",
    "\n",
    "print(os.listdir())  # 返回指定目录下的所有文件和目录名。"
   ]
  },
  {
   "cell_type": "code",
   "execution_count": 14,
   "metadata": {},
   "outputs": [
    {
     "name": "stdout",
     "output_type": "stream",
     "text": [
      "['-php-upload-20171218-15135982359d8a83acd935b669.zip', '1.R', '15-An examination of disparities in cancer incidence in Texas using Bayesian random coefficient models', '20180414李旭亮周报.pptx', '20180415汇报.pptx', '20180508李旭亮周报.pptx', '20180623李旭亮周报.pptx', '20180720李旭亮周报.pptx', '20180803李旭亮周报.pptx', 'ask', 'axurepjbdoc.rar', 'BDMapCapturer0.4Beta.zip', 'BJTJ', 'CrimeStat', 'DC', 'desktop.ini', 'down', 'EmEDITOR', 'flow', 'GD_运输_2018.xlsx', 'GEODA', 'GWR', 'INLA', 'Local Structure Can Identify and Quantify Influential Global Spreaders in Large Scale Social Networks.pdf', 'QQ截图20180812205047.png', 'R', 'result', 'SAS', 'software', 'ST-DBSCAN-master.zip', 'stata', 'text.txt', '~$ Microsoft Word 文档.docx', '~$-SLX模型.docx', '~$-SLX模型_扩展和空间溢出对W的敏感性.docx', '~$-在空间计量经济模型溢出效应和W.docx', '~$-巴西福塔莱萨的暴力与地方发展_空间回归分析.docx', '~$-数据挖掘和数据融合的张量_模型应用和可扩展算法.docx', '~$-用蒙特卡洛模拟法估算溢出效应的空间计量模型比较.docx', '~$-研究中的群体互动和通用嵌套空间模型的使用.docx', '~$-空间经济计量面板数据模型规范_贝叶斯方法.docx', '~$-空间计量经济学_定性和有限的相关变量.docx', '~$-空间计量经济模型与随机森林模拟火灾发生的比较.docx', '~$-计数资料的空间计量经济学方法_综述与新方向.docx', '~$-邻国对军费的影响_一种动态的空间面板方法.docx', '~$-风电场可见度对房地产价值的影响.docx', '~$20170929李旭亮周报.pptx', '~$20171021李旭亮周报.pptx', '~$20171024李旭亮周报.pptx', '~$20171209李旭亮周报.pptx', '~$20171213李旭亮周报.pptx', '~$20180201李旭亮周报.pptx', '~$KroneckerBasis表示的张量稀疏性及其对张量恢复的应用.docx', '~$NDELEY_20180723135628.doc', '~$献阅读和说明.docx', '~$级面向对象程序设计试卷答案（A）.doc', '~$级面向对象程序设计试卷（A）.doc', '~WRL1562.tmp', '~WRL2211.tmp', '~WRL2860.tmp', '专利', '中文', '主干路.zip', '图书馆时间.png', '土地用途分区', '土地用途分区.zip', '微信指数.xlsx', '拐卖_儿童.xlsx', '文献阅读和说明.docx', '新建 Microsoft Excel 工作表.xlsx', '新建文本文档.txt', '未标题1.xlsx', '王总', '社会抚养费.docx', '空间计量软件和资料', '英文', '论文_201808011.docx', '轨道交通线路.zip']\n"
     ]
    }
   ],
   "source": [
    "os.chdir('C:\\\\Users\\\\hp\\\\Desktop\\\\')\n",
    "print (os.listdir())"
   ]
  },
  {
   "cell_type": "code",
   "execution_count": 15,
   "metadata": {},
   "outputs": [
    {
     "data": {
      "text/plain": [
       "'\\n【课程8.3】\\n'"
      ]
     },
     "execution_count": 15,
     "metadata": {},
     "output_type": "execute_result"
    }
   ],
   "source": [
    "'''\n",
    "【课程8.3】\n",
    "'''"
   ]
  },
  {
   "cell_type": "code",
   "execution_count": 18,
   "metadata": {},
   "outputs": [
    {
     "name": "stdout",
     "output_type": "stream",
     "text": [
      "[{'name': '外滩18号', 'lng': 121.49618, 'lat': 31.244099, 'address': '中山东一路18'}, {'name': 'zapata’s', 'lng': 121.455773, 'lat': 31.214576, 'address': '衡山路5号'}, {'name': 'perrys cafe', 'lng': 121.455668, 'lat': 31.217919, 'address': '上海市徐汇区淮海中路1333号兰帆广场3层'}, {'name': 'The Camel Sports Bar(岳阳路)', 'lng': 121.458533, 'lat': 31.215244, 'address': '上海市徐汇区岳阳路1号'}, {'name': 'Light酒吧', 'lng': 121.453435, 'lat': 31.211903, 'address': '衡山路10号甲欧登大夏2-3楼'}, {'name': '上海中航虹桥机场-泊悦酒店', 'lng': 121.334239, 'lat': 31.198386, 'address': '上海市闵行区虹桥路2550号上海虹桥国际机场T2航站楼F3'}, {'name': 'TZ House音乐现场(镇宁路店)', 'lng': 121.441528, 'lat': 31.230571, 'address': '上海市长宁区镇宁路525号新东纺大酒店1楼(万航渡路口)'}, {'name': 'Dr.Beer(静安店)', 'lng': 121.456901, 'lat': 31.22696, 'address': '上海市静安区富民路83号(近延安中路)'}, {'name': 'M1NT', 'lng': 121.490882, 'lat': 31.240288, 'address': '上海黄浦区福州路318号浦汇大厦24楼'}, {'name': 'Bar Rouge', 'lng': 121.496388, 'lat': 31.244132, 'address': '上海黄浦区中山东一路18号外滩十八号7楼(近南京东路)'}, {'name': '育音堂', 'lng': 121.423257, 'lat': 31.215241, 'address': '长宁区凯旋路851号(凯旋路延安西路)'}, {'name': 'KARTEL', 'lng': 121.460768, 'lat': 31.2272, 'address': '襄阳北路1号5楼'}, {'name': '萨莎花园', 'lng': 121.456043, 'lat': 31.214673, 'address': '上海市徐汇区东平路11号(近衡山路)'}, {'name': '非常时髦酒吧', 'lng': 121.499881, 'lat': 31.250982, 'address': '虹口区黄浦路199号上海外滩茂悦大酒店西楼32-33楼(近武昌路)'}, {'name': 'MALABAR', 'lng': 121.448588, 'lat': 31.236145, 'address': '上海市静安区武定路1081号'}, {'name': '夜魅COCO顶级酒吧(黄浦2店)', 'lng': 121.486669, 'lat': 31.23081, 'address': '淮海中路1号柳林大厦5F602'}, {'name': 'THE PARK TAVERN', 'lng': 121.446993, 'lat': 31.203312, 'address': '上海徐汇区衡山路840号(近天平路)'}, {'name': 'Cest La Vie 酒吧(八佰伴店)', 'lng': 121.527072, 'lat': 31.23405, 'address': '上海市浦东新区张扬路640号B1楼'}, {'name': '奢居会', 'lng': 121.512398, 'lat': 31.224588, 'address': '中山南路505号老码头13号楼7楼'}, {'name': '凯博西餐酒吧(新天地北里店)', 'lng': 121.481735, 'lat': 31.227078, 'address': '太仓路181弄上海新天地北里5号楼1层'}, {'name': '尚上酒吧(丰庄路)', 'lng': 121.371012, 'lat': 31.255042, 'address': '丰庄路515号2楼'}, {'name': 'MTclub酒吧', 'lng': 121.368569, 'lat': 31.141267, 'address': '上海市闵行区七莘路1839号明泉财富108广场5层'}, {'name': 'Kee Club(淮海中路店)', 'lng': 121.469051, 'lat': 31.225011, 'address': '淮海中路796号3楼'}, {'name': 'X酒吧', 'lng': 121.217605, 'lat': 31.048667, 'address': '新松江路1292弄36号3层'}, {'name': '艾比尔啤酒坊(七宝店)', 'lng': 121.365072, 'lat': 31.147572, 'address': '七莘路2233号'}, {'name': '芭芭露莎Barbarossa', 'lng': 121.478407, 'lat': 31.237303, 'address': '上海市黄浦区南京西路231号人民公园内'}, {'name': '环球风暴酒吧', 'lng': 121.70415, 'lat': 31.199698, 'address': '川沙路4932号（近南桥路）'}, {'name': 'maru玛露音乐餐厅酒吧', 'lng': 121.518791, 'lat': 31.310257, 'address': '杨浦区淞沪路303号一楼(政民路'}, {'name': '蓝蛙无限度店', 'lng': 121.484517, 'lat': 31.231405, 'address': '上海市黄浦区淮海中路138号上海广场F1'}, {'name': '缪斯酒吧(同乐坊店)', 'lng': 121.44924, 'lat': 31.242964, 'address': '上海市静安区余姚路74号'}, {'name': 'Epic', 'lng': 121.445038, 'lat': 31.216567, 'address': '高邮路17号(近复兴西路)'}, {'name': 'Dr Beer(徐家汇店)', 'lng': 121.449616, 'lat': 31.19867, 'address': '辛耕路117号'}, {'name': 'LOTUS Lounge', 'lng': 121.514007, 'lat': 31.22262, 'address': '上海黄浦区外马路667号(近老码头)'}, {'name': 'ROOF 325 Rooftop Restaurant & Bar', 'lng': 121.477444, 'lat': 31.237077, 'address': '黄浦区南京西路325号上海美术馆5楼(近黄陂北路)'}, {'name': 'judy’s', 'lng': 121.455909, 'lat': 31.233695, 'address': '上海市静安区铜仁路331号-1(近南阳路)'}, {'name': 'BARBER SHOP', 'lng': 121.45515, 'lat': 31.210845, 'address': '永嘉路615号'}, {'name': 'heyday jazz bar', 'lng': 121.443428, 'lat': 31.212145, 'address': '上海市长宁区泰安路50-1号'}, {'name': 'The Mansion嚎宅', 'lng': 121.369589, 'lat': 31.19154, 'address': '虹井路851号皇朝别墅B18'}, {'name': '东安路十五号', 'lng': 121.45732, 'lat': 31.204925, 'address': '上海徐汇区东安路15号1楼'}, {'name': 'Lost Heaven Bund Lounge', 'lng': 121.497623, 'lat': 31.23803, 'address': '上海市黄浦区延安东路17号甲3F层'}, {'name': 'THE GLAMOUR BAR', 'lng': 121.497251, 'lat': 31.240104, 'address': '广东路20外滩5号6层'}, {'name': 'Pier 39', 'lng': 121.465538, 'lat': 31.227773, 'address': '黄浦区进贤路172号(近陕西南路)'}, {'name': 'PIER39(嘉里中心店)', 'lng': 121.456602, 'lat': 31.230612, 'address': '上海市静安区南京西路1515号静安嘉里中心F1'}, {'name': 'BigBamboo(南阳路)', 'lng': 121.457783, 'lat': 31.234559, 'address': '上海市静安区南阳路132号'}, {'name': '艾比之路酒吧', 'lng': 121.457487, 'lat': 31.215288, 'address': '桃江路3号'}, {'name': '外滩1288', 'lng': 121.510391, 'lat': 31.212969, 'address': '外马路1288号综合楼1楼'}, {'name': 'Barules', 'lng': 121.460954, 'lat': 31.217807, 'address': '上海市徐汇区汾阳路44号'}, {'name': '外滩二十二号Bund22', 'lng': 121.500329, 'lat': 31.236287, 'address': '中山东二路22号115-116(新永安路口)'}, {'name': 'UVA wine bar', 'lng': 121.45522, 'lat': 31.241929, 'address': '陕西北路819号（近康定路）'}, {'name': '杰克的酒窝', 'lng': 121.48902, 'lat': 31.222824, 'address': '上海黄浦区肇周路76号'}]\n",
      "\n",
      "数据转换完成！总共转换50个数据\n"
     ]
    }
   ],
   "source": [
    "path = 'C:\\\\Users\\\\hp\\\\Desktop\\\\text.txt'  # 创建路径变量\n",
    "f = open(path,'r',encoding='utf8')  # 读取txt文件\n",
    "m = []  # 新建一个空列表，用于存储数据\n",
    "n = 0\n",
    "\n",
    "for line in f.readlines():\n",
    "    n += 1\n",
    "    st1 = line.split(':')\n",
    "    name = st1[0]   # 先以:拆分，筛选出name文本\n",
    "    information = st1[1]  # 第二部分包括lng，lat，address\n",
    "    st2 = information.split(',')\n",
    "    lng = float(st2[0])  # 筛选出lng\n",
    "    lat = float(st2[1])  # 筛选出lat\n",
    "    ad = st2[2].strip()  # 筛选出address，去除末尾空格\n",
    "    data = [['name',name],['lng',lng],['lat',lat],['address',ad]]  # 做成嵌套列表\n",
    "    m.append(dict(data))  # 生成字典，并追加如列表m\n",
    "    #print('成功转换%i个数据'%n)\n",
    "\n",
    "print(m)\n",
    "print('\\n数据转换完成！总共转换%i个数据'%n)"
   ]
  },
  {
   "cell_type": "code",
   "execution_count": 25,
   "metadata": {},
   "outputs": [
    {
     "name": "stdout",
     "output_type": "stream",
     "text": [
      "finished!\n"
     ]
    }
   ],
   "source": [
    "n = list(range(1,11))\n",
    "v = ['a','b','c','d','e','f','g','h','i','j']\n",
    "\n",
    "f = open( 'C:\\\\Users\\\\hp\\\\Desktop\\\\test_write3.txt', 'w', encoding = 'utf8')\n",
    "m = []\n",
    "\n",
    "for i in range(len(n)):\n",
    "    #f.writelines([str(n[i]),',',v[i]+'\\n'])\n",
    "    #f.write(str(n[i])+','+v[i]+'\\n')\n",
    "    f.writelines(str(n[i])+','+v[i]+'\\n')\n",
    "    \n",
    "f.close()\n",
    "print('finished!')"
   ]
  },
  {
   "cell_type": "code",
   "execution_count": 26,
   "metadata": {},
   "outputs": [
    {
     "data": {
      "text/plain": [
       "'\\n【课程8.4】\\n'"
      ]
     },
     "execution_count": 26,
     "metadata": {},
     "output_type": "execute_result"
    }
   ],
   "source": [
    "'''\n",
    "【课程8.4】\n",
    "'''"
   ]
  },
  {
   "cell_type": "code",
   "execution_count": 27,
   "metadata": {
    "collapsed": true
   },
   "outputs": [],
   "source": [
    "import pickle"
   ]
  },
  {
   "cell_type": "code",
   "execution_count": 31,
   "metadata": {},
   "outputs": [
    {
     "name": "stdout",
     "output_type": "stream",
     "text": [
      "{'a': [1, 2, 3, 4], 'b': ('string', 'abc'), 'c': 'hello'}\n"
     ]
    }
   ],
   "source": [
    "data = {'a':[1,2,3,4], 'b':('string','abc'), 'c':'hello'}\n",
    "print(data)\n",
    "pic = open( 'C:\\\\Users\\\\hp\\\\Desktop\\\\data.pkl', 'wb')\n",
    "pickle.dump(data, pic)\n",
    "pic.close()"
   ]
  },
  {
   "cell_type": "code",
   "execution_count": 34,
   "metadata": {},
   "outputs": [
    {
     "name": "stdout",
     "output_type": "stream",
     "text": [
      "{'a': [1, 2, 3, 4], 'b': ('string', 'abc'), 'c': 'hello'}\n"
     ]
    }
   ],
   "source": [
    "f = open( 'C:\\\\Users\\\\hp\\\\Desktop\\\\data.pkl', 'rb')\n",
    "st=pickle.load(f)\n",
    "print (st)\n",
    "f.close()"
   ]
  },
  {
   "cell_type": "code",
   "execution_count": null,
   "metadata": {
    "collapsed": true
   },
   "outputs": [],
   "source": []
  }
 ],
 "metadata": {
  "kernelspec": {
   "display_name": "Python 3",
   "language": "python",
   "name": "python3"
  },
  "language_info": {
   "codemirror_mode": {
    "name": "ipython",
    "version": 3
   },
   "file_extension": ".py",
   "mimetype": "text/x-python",
   "name": "python",
   "nbconvert_exporter": "python",
   "pygments_lexer": "ipython3",
   "version": "3.6.3"
  }
 },
 "nbformat": 4,
 "nbformat_minor": 2
}
