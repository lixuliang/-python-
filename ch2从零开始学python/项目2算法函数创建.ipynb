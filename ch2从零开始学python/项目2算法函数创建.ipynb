{
 "cells": [
  {
   "cell_type": "code",
   "execution_count": 7,
   "metadata": {},
   "outputs": [
    {
     "data": {
      "text/plain": [
       "'\\n【项目02】  基于Python的算法函数创建\\n\\n作业要求：\\n根据不同题目，完成代码书写并成功运行\\n\\n'"
      ]
     },
     "execution_count": 7,
     "metadata": {},
     "output_type": "execute_result"
    }
   ],
   "source": [
    "'''\n",
    "【项目02】  基于Python的算法函数创建\n",
    "\n",
    "作业要求：\n",
    "根据不同题目，完成代码书写并成功运行\n",
    "\n",
    "'''"
   ]
  },
  {
   "cell_type": "code",
   "execution_count": 8,
   "metadata": {
    "collapsed": true
   },
   "outputs": [],
   "source": [
    "# 题目1：有1、2、3、4个数字，能组成多少个互不相同且无重复数字的两位数？都是多少？\n",
    "# 该题目不用创建函数"
   ]
  },
  {
   "cell_type": "code",
   "execution_count": 10,
   "metadata": {},
   "outputs": [
    {
     "name": "stdout",
     "output_type": "stream",
     "text": [
      "12\n",
      "13\n",
      "14\n",
      "21\n",
      "23\n",
      "24\n",
      "31\n",
      "32\n",
      "34\n",
      "41\n",
      "42\n",
      "43\n",
      "yigong 12\n"
     ]
    }
   ],
   "source": [
    "n=0\n",
    "for i in range(1,5):\n",
    "    for j in range (1,5):\n",
    "        if i!=j:\n",
    "            print (i*10+j)\n",
    "            n+=1\n",
    "\n",
    "print ('yigong %i' %n)"
   ]
  },
  {
   "cell_type": "code",
   "execution_count": 11,
   "metadata": {
    "collapsed": true
   },
   "outputs": [],
   "source": [
    "# 题目2：输入三个整数x,y,z，请把这三个数由小到大输出，可调用input()。（需要加判断：判断输入数据是否为数字）\n",
    "# 提示：判断是否为数字：.isdigit()\n",
    "# 该题目需要创建函数"
   ]
  },
  {
   "cell_type": "code",
   "execution_count": 13,
   "metadata": {},
   "outputs": [
    {
     "name": "stdout",
     "output_type": "stream",
     "text": [
      "qingshurudi 1 ge: 10\n",
      "qingshurudi 2 ge: a\n",
      "qingchongxinshurudi 2 ge: a\n",
      "qingchongxinshurudi 2 ge: 20\n",
      "qingshurudi 3 ge: 20\n",
      "qingshurudi 4 ge: 1\n"
     ]
    },
    {
     "data": {
      "text/plain": [
       "[1.0, 10.0, 20.0, 20.0]"
      ]
     },
     "execution_count": 13,
     "metadata": {},
     "output_type": "execute_result"
    }
   ],
   "source": [
    "def fpanduan(n):\n",
    "    lst=[]\n",
    "    for i in range(n):\n",
    "        x=input('qingshurudi %i ge: ' %(i+1))\n",
    "        while x.isdigit() == False:\n",
    "            x=input('qingchongxinshurudi %i ge: ' %(i+1))\n",
    "        else:\n",
    "            lst.append(float(x))\n",
    "    return (sorted(lst))\n",
    "\n",
    "fpanduan(4)"
   ]
  },
  {
   "cell_type": "code",
   "execution_count": 14,
   "metadata": {
    "collapsed": true
   },
   "outputs": [],
   "source": [
    "# 题目3：输入一行字符，分别统计出其中英文字母、空格、数字和其它字符的个数。\n",
    "# 提示：利用while语句,条件为输入的字符不为'\\n'.\n",
    "# 该题目不需要创建函数"
   ]
  },
  {
   "cell_type": "code",
   "execution_count": 15,
   "metadata": {},
   "outputs": [
    {
     "name": "stdout",
     "output_type": "stream",
     "text": [
      "qingshuru: \n",
      "sadadwa12221s 2132\n",
      "char = 8,space = 1,digit = 9,others = 0\n"
     ]
    }
   ],
   "source": [
    "x=input('qingshuru: \\n')\n",
    "letters = 0\n",
    "space = 0\n",
    "digit = 0\n",
    "others = 0\n",
    "for c in x:\n",
    "    if c.isalpha():\n",
    "        letters += 1\n",
    "    elif c.isspace():\n",
    "        space += 1\n",
    "    elif c.isdigit():\n",
    "        digit += 1\n",
    "    else:\n",
    "        others += 1\n",
    "print ('char = %d,space = %d,digit = %d,others = %d' % (letters,space,digit,others))"
   ]
  },
  {
   "cell_type": "code",
   "execution_count": 16,
   "metadata": {
    "collapsed": true
   },
   "outputs": [],
   "source": [
    "# 题目4：猴子吃桃问题\n",
    "# 猴子第一天摘下若干个桃子，当即吃了一半，还不瘾，又多吃了一个,\n",
    "# 第二天早上又将剩下的桃子吃掉一半，又多吃了一个。\n",
    "# 以后每天早上都吃了前一天剩下的一半零一个。到第10天早上想再吃时，见只剩下一个桃子了。求第一天共摘了多少?\n",
    "# 提示：采取逆向思维的方法，从后往前推断。\n",
    "# 该题目不需要创建函数"
   ]
  },
  {
   "cell_type": "code",
   "execution_count": 22,
   "metadata": {},
   "outputs": [
    {
     "name": "stdout",
     "output_type": "stream",
     "text": [
      "第9天吃之前剩4个桃子\n",
      "第8天吃之前剩10个桃子\n",
      "第7天吃之前剩22个桃子\n",
      "第6天吃之前剩46个桃子\n",
      "第5天吃之前剩94个桃子\n",
      "第4天吃之前剩190个桃子\n",
      "第3天吃之前剩382个桃子\n",
      "第2天吃之前剩766个桃子\n",
      "第1天吃之前剩1534个桃子\n",
      "1534\n"
     ]
    }
   ],
   "source": [
    "n=1\n",
    "for day in range(9,0,-1):\n",
    "    m= (n+1)*2\n",
    "    n=m\n",
    "    print ('第%i天吃之前剩%i个桃子' %(day,n))\n",
    "print (n)"
   ]
  },
  {
   "cell_type": "code",
   "execution_count": 6,
   "metadata": {
    "collapsed": true
   },
   "outputs": [],
   "source": [
    "# 题目5：猜数字问题，要求如下：\n",
    "# ① 随机生成一个整数\n",
    "# ② 猜一个数字并输入\n",
    "# ③ 判断是大是小，直到猜正确\n",
    "# ④ 判断时间\n",
    "# 提示：需要用time模块、random模块\n",
    "# 该题目不需要创建函数"
   ]
  },
  {
   "cell_type": "code",
   "execution_count": 20,
   "metadata": {},
   "outputs": [
    {
     "name": "stdout",
     "output_type": "stream",
     "text": [
      "do you want to play it.('y' or 'n')y\n",
      "input a character:\n",
      "aad\n",
      "please input number you guess:\n",
      "\n",
      "input your guess:\n",
      "12\n",
      "please input a little bigger\n",
      "input your guess:\n",
      "10\n",
      "please input a little bigger\n",
      "input your guess:\n",
      "5\n",
      "please input a little bigger\n",
      "input your guess:\n",
      "40\n",
      "please input a little smaller\n",
      "input your guess:\n",
      "30\n",
      "please input a little smaller\n",
      "input your guess:\n",
      "20\n",
      "please input a little bigger\n",
      "input your guess:\n",
      "23\n",
      "please input a little bigger\n",
      "input your guess:\n",
      "25\n",
      "please input a little smaller\n",
      "input your guess:\n",
      "24\n",
      "you take 32.46 seconds\n",
      "you are stupid!\n",
      "Congradulations\n",
      "the number is 24\n"
     ]
    }
   ],
   "source": [
    "import time\n",
    "import random\n",
    "\n",
    "play_it = input('do you want to play it.(\\'y\\' or \\'n\\')')   # 询问是否参与游戏\n",
    "while play_it=='y':\n",
    "    c = input('input a character:\\n')   # 输入参与游戏人物\n",
    "    i = random.randint(0,100)\n",
    "    print( 'please input number you guess:\\n')\n",
    "    a=time.time()\n",
    "    guess = int(input('input your guess:\\n'))\n",
    "    while guess !=i:\n",
    "        if guess > i:\n",
    "            print( 'please input a little smaller')\n",
    "            guess = int(input('input your guess:\\n'))\n",
    "        else:\n",
    "            print( 'please input a little bigger')\n",
    "            guess = int(input('input your guess:\\n'))\n",
    "    b=time.time()\n",
    "    usedtime=b-a\n",
    "    print ('you take %.2f seconds' %usedtime)\n",
    "    if usedtime < 15:\n",
    "        print( 'you are very clever!')\n",
    "    elif usedtime <25:\n",
    "        print( 'you are normal!')\n",
    "    else:\n",
    "        print( 'you are stupid!')\n",
    "    print( 'Congradulations')\n",
    "    print ('the number is %d' %i)\n",
    "    break\n",
    "else:\n",
    "    print ('hehe')"
   ]
  },
  {
   "cell_type": "code",
   "execution_count": null,
   "metadata": {
    "collapsed": true
   },
   "outputs": [],
   "source": []
  }
 ],
 "metadata": {
  "kernelspec": {
   "display_name": "Python 3",
   "language": "python",
   "name": "python3"
  },
  "language_info": {
   "codemirror_mode": {
    "name": "ipython",
    "version": 3
   },
   "file_extension": ".py",
   "mimetype": "text/x-python",
   "name": "python",
   "nbconvert_exporter": "python",
   "pygments_lexer": "ipython3",
   "version": "3.6.3"
  }
 },
 "nbformat": 4,
 "nbformat_minor": 2
}
