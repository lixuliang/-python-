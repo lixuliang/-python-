{
 "cells": [
  {
   "cell_type": "code",
   "execution_count": 1,
   "metadata": {},
   "outputs": [
    {
     "data": {
      "text/plain": [
       "'\\n【课程2.2】  Pandas数据结构Series：基本概念及创建\\n'"
      ]
     },
     "execution_count": 1,
     "metadata": {},
     "output_type": "execute_result"
    }
   ],
   "source": [
    "'''\n",
    "【课程2.2】  Pandas数据结构Series：基本概念及创建\n",
    "'''"
   ]
  },
  {
   "cell_type": "code",
   "execution_count": 64,
   "metadata": {},
   "outputs": [
    {
     "name": "stdout",
     "output_type": "stream",
     "text": [
      "0    0.762729\n",
      "1    0.656866\n",
      "2    0.736054\n",
      "3    0.238254\n",
      "4    0.589738\n",
      "dtype: float64\n",
      "<class 'pandas.core.series.Series'>\n",
      "RangeIndex(start=0, stop=5, step=1) <class 'pandas.core.indexes.range.RangeIndex'>\n",
      "[ 0.76272948  0.6568658   0.73605359  0.2382543   0.58973783] <class 'numpy.ndarray'>\n"
     ]
    }
   ],
   "source": [
    "import numpy as np\n",
    "import pandas as pd  \n",
    "\n",
    "s=pd.Series(np.random.rand(5))\n",
    "print(s)\n",
    "print(type(s))\n",
    "\n",
    "print(s.index,type(s.index))\n",
    "print(s.values,type(s.values))"
   ]
  },
  {
   "cell_type": "code",
   "execution_count": 4,
   "metadata": {},
   "outputs": [
    {
     "name": "stdout",
     "output_type": "stream",
     "text": [
      "a     1\n",
      "b     2\n",
      "c     3\n",
      "4     4\n",
      "5     5\n",
      "6    10\n",
      "dtype: int64\n"
     ]
    }
   ],
   "source": [
    "dic = {'a':1 ,'b':2 , 'c':3, '4':4, '5':5, 6:10}\n",
    "s = pd.Series(dic)\n",
    "print(s)"
   ]
  },
  {
   "cell_type": "code",
   "execution_count": 5,
   "metadata": {},
   "outputs": [
    {
     "name": "stdout",
     "output_type": "stream",
     "text": [
      "[-0.0736768  -0.97766568 -0.97828019 -0.21251096 -0.32052941]\n",
      "0   -0.073677\n",
      "1   -0.977666\n",
      "2   -0.978280\n",
      "3   -0.212511\n",
      "4   -0.320529\n",
      "dtype: float64\n"
     ]
    }
   ],
   "source": [
    "arr = np.random.randn(5)\n",
    "s = pd.Series(arr)\n",
    "print(arr)\n",
    "print(s)"
   ]
  },
  {
   "cell_type": "code",
   "execution_count": 10,
   "metadata": {},
   "outputs": [
    {
     "name": "stdout",
     "output_type": "stream",
     "text": [
      "a    -0.0736768\n",
      "ab    -0.977666\n",
      "c      -0.97828\n",
      "d     -0.212511\n",
      "e     -0.320529\n",
      "dtype: object a    -0.073677\n",
      "ab   -0.977666\n",
      "c    -0.978280\n",
      "d    -0.212511\n",
      "e    -0.320529\n",
      "dtype: float64\n",
      "0    10\n",
      "1    10\n",
      "2    10\n",
      "3    10\n",
      "dtype: int64\n"
     ]
    }
   ],
   "source": [
    "s = pd.Series(arr, index = ['a','ab','c','d','e'],dtype = np.object)\n",
    "s1 = pd.Series(arr, index = ['a','ab','c','d','e'])\n",
    "print(s,s1)\n",
    "\n",
    "s2=pd.Series(10,index=range(4))\n",
    "print(s2)"
   ]
  },
  {
   "cell_type": "code",
   "execution_count": 12,
   "metadata": {},
   "outputs": [
    {
     "name": "stdout",
     "output_type": "stream",
     "text": [
      "0    10\n",
      "1    10\n",
      "2    10\n",
      "3    10\n",
      "Name: hehehe, dtype: int64\n",
      "--------\n",
      "hehehe -------- None\n"
     ]
    }
   ],
   "source": [
    "s3 = s2.rename('hehehe')\n",
    "print(s3)\n",
    "print('--------')\n",
    "print(s3.name,'--------', s2.name)"
   ]
  },
  {
   "cell_type": "code",
   "execution_count": 13,
   "metadata": {},
   "outputs": [
    {
     "data": {
      "text/plain": [
       "'\\n【课程2.3】  Pandas数据结构Series：索引\\n'"
      ]
     },
     "execution_count": 13,
     "metadata": {},
     "output_type": "execute_result"
    }
   ],
   "source": [
    "'''\n",
    "【课程2.3】  Pandas数据结构Series：索引\n",
    "'''"
   ]
  },
  {
   "cell_type": "code",
   "execution_count": 16,
   "metadata": {
    "scrolled": true
   },
   "outputs": [
    {
     "name": "stdout",
     "output_type": "stream",
     "text": [
      "0    0.038201\n",
      "1    0.039989\n",
      "2    0.779009\n",
      "3    0.548558\n",
      "4    0.565584\n",
      "dtype: float64\n",
      "0.038200995169 <class 'numpy.float64'> float64\n",
      "0.038200995169002105 <class 'float'>\n"
     ]
    }
   ],
   "source": [
    "s = pd.Series(np.random.rand(5))\n",
    "print(s)\n",
    "print(s[0],type(s[0]),s[0].dtype)\n",
    "print(float(s[0]),type(float(s[0])))"
   ]
  },
  {
   "cell_type": "code",
   "execution_count": 24,
   "metadata": {},
   "outputs": [
    {
     "name": "stdout",
     "output_type": "stream",
     "text": [
      "0\n",
      "1    0\n",
      "2    1\n",
      "dtype: int32\n",
      "0\n"
     ]
    }
   ],
   "source": [
    "s1=pd.Series(range(5),index=[1,2,3,4,5])\n",
    "print (s1[1])\n",
    "print (s1[[1,2]])\n",
    "\n",
    "s2=pd.Series(range(5))\n",
    "print (s2[0])"
   ]
  },
  {
   "cell_type": "code",
   "execution_count": 23,
   "metadata": {},
   "outputs": [
    {
     "name": "stdout",
     "output_type": "stream",
     "text": [
      "1    0.265613\n",
      "2    0.438199\n",
      "3    0.297575\n",
      "dtype: float64 0.878364193599\n",
      "a    0.823431\n",
      "b    0.696173\n",
      "c    0.570234\n",
      "dtype: float64 0.570234047145\n",
      "a    0.823431\n",
      "b    0.696173\n",
      "c    0.570234\n",
      "dtype: float64 0.497995327368\n",
      "-----\n",
      "a    0.823431\n",
      "b    0.696173\n",
      "c    0.570234\n",
      "d    0.497995\n",
      "dtype: float64\n",
      "a    0.823431\n",
      "c    0.570234\n",
      "e    0.533246\n",
      "dtype: float64\n"
     ]
    }
   ],
   "source": [
    "# 切片索引\n",
    "\n",
    "s1 = pd.Series(np.random.rand(5))\n",
    "s2 = pd.Series(np.random.rand(5), index = ['a','b','c','d','e'])\n",
    "print(s1[1:4],s1[4])\n",
    "print(s2['a':'c'],s2['c'])\n",
    "print(s2[0:3],s2[3])\n",
    "print('-----')\n",
    "# 注意：用index做切片是末端包含\n",
    "\n",
    "print(s2[:-1])\n",
    "print(s2[::2])\n",
    "# 下标索引做切片，和list写法一样"
   ]
  },
  {
   "cell_type": "code",
   "execution_count": 25,
   "metadata": {},
   "outputs": [
    {
     "name": "stdout",
     "output_type": "stream",
     "text": [
      "0    99.7457\n",
      "1    7.66449\n",
      "2    10.6042\n",
      "4       None\n",
      "dtype: object\n",
      "0     True\n",
      "1    False\n",
      "2    False\n",
      "4    False\n",
      "dtype: bool <class 'pandas.core.series.Series'> bool\n",
      "0    False\n",
      "1    False\n",
      "2    False\n",
      "4     True\n",
      "dtype: bool <class 'pandas.core.series.Series'> bool\n",
      "0     True\n",
      "1     True\n",
      "2     True\n",
      "4    False\n",
      "dtype: bool <class 'pandas.core.series.Series'> bool\n",
      "-----\n",
      "0    99.7457\n",
      "dtype: object\n",
      "0    99.7457\n",
      "1    7.66449\n",
      "2    10.6042\n",
      "dtype: object\n"
     ]
    }
   ],
   "source": [
    "# 布尔型索引\n",
    "\n",
    "s = pd.Series(np.random.rand(3)*100)\n",
    "s[4] = None  # 添加一个空值\n",
    "print(s)\n",
    "bs1 = s > 50\n",
    "bs2 = s.isnull()\n",
    "bs3 = s.notnull()\n",
    "print(bs1, type(bs1), bs1.dtype)\n",
    "print(bs2, type(bs2), bs2.dtype)\n",
    "print(bs3, type(bs3), bs3.dtype)\n",
    "print('-----')\n",
    "# 数组做判断之后，返回的是一个由布尔值组成的新的数组\n",
    "# .isnull() / .notnull() 判断是否为空值 (None代表空值，NaN代表有问题的数值，两个都会识别为空值)\n",
    "\n",
    "print(s[s > 50])\n",
    "print(s[bs3])"
   ]
  },
  {
   "cell_type": "code",
   "execution_count": 26,
   "metadata": {},
   "outputs": [
    {
     "data": {
      "text/plain": [
       "'\\n【课程2.4】  Pandas数据结构Series：基本技巧\\n'"
      ]
     },
     "execution_count": 26,
     "metadata": {},
     "output_type": "execute_result"
    }
   ],
   "source": [
    "'''\n",
    "【课程2.4】  Pandas数据结构Series：基本技巧\n",
    "'''"
   ]
  },
  {
   "cell_type": "code",
   "execution_count": 27,
   "metadata": {},
   "outputs": [
    {
     "name": "stdout",
     "output_type": "stream",
     "text": [
      "0    0.465840\n",
      "1    0.656819\n",
      "2    0.434933\n",
      "3    0.525561\n",
      "4    0.896567\n",
      "5    0.202612\n",
      "6    0.830743\n",
      "7    0.758799\n",
      "8    0.178327\n",
      "9    0.280172\n",
      "dtype: float64\n",
      "45    0.680767\n",
      "46    0.392188\n",
      "47    0.178938\n",
      "48    0.117614\n",
      "49    0.221257\n",
      "dtype: float64\n"
     ]
    }
   ],
   "source": [
    "s = pd.Series(np.random.rand(50))\n",
    "print(s.head(10))\n",
    "print(s.tail())"
   ]
  },
  {
   "cell_type": "code",
   "execution_count": 29,
   "metadata": {},
   "outputs": [
    {
     "name": "stdout",
     "output_type": "stream",
     "text": [
      "a    0.848497\n",
      "b    0.887732\n",
      "c    0.214396\n",
      "dtype: float64\n",
      "c    0.214396\n",
      "b    0.887732\n",
      "a    0.848497\n",
      "d         NaN\n",
      "dtype: float64\n",
      "a    0.848497\n",
      "b    0.887732\n",
      "c    0.214396\n",
      "dtype: float64\n"
     ]
    }
   ],
   "source": [
    "s = pd.Series(np.random.rand(3), index = ['a','b','c'])\n",
    "print(s)\n",
    "s1 = s.reindex(['c','b','a','d'])\n",
    "print(s1)\n",
    "print(s)"
   ]
  },
  {
   "cell_type": "code",
   "execution_count": 30,
   "metadata": {},
   "outputs": [
    {
     "name": "stdout",
     "output_type": "stream",
     "text": [
      "Jack     0.683879\n",
      "Marry    0.738703\n",
      "Tom      0.274478\n",
      "dtype: float64\n",
      "Wang     0.300422\n",
      "Jack     0.010580\n",
      "Marry    0.327165\n",
      "dtype: float64\n",
      "Jack     0.694459\n",
      "Marry    1.065868\n",
      "Tom           NaN\n",
      "Wang          NaN\n",
      "dtype: float64\n"
     ]
    }
   ],
   "source": [
    "# Series对齐\n",
    "\n",
    "s1 = pd.Series(np.random.rand(3), index = ['Jack','Marry','Tom'])\n",
    "s2 = pd.Series(np.random.rand(3), index = ['Wang','Jack','Marry'])\n",
    "print(s1)\n",
    "print(s2)\n",
    "print(s1+s2)\n",
    "# Series 和 ndarray 之间的主要区别是，Series 上的操作会根据标签自动对齐\n",
    "# index顺序不会影响数值计算，以标签来计算\n",
    "# 空值和任何值计算结果扔为空值"
   ]
  },
  {
   "cell_type": "code",
   "execution_count": 36,
   "metadata": {},
   "outputs": [
    {
     "name": "stdout",
     "output_type": "stream",
     "text": [
      "n    0.988386\n",
      "g    0.693467\n",
      "j    0.339990\n",
      "u    0.191581\n",
      "r    0.987045\n",
      "dtype: float64\n",
      "g    0.693467\n",
      "j    0.339990\n",
      "u    0.191581\n",
      "r    0.987045\n",
      "dtype: float64\n",
      "n    0.988386\n",
      "u    0.191581\n",
      "r    0.987045\n",
      "dtype: float64\n",
      "n    0.988386\n",
      "g    0.693467\n",
      "j    0.339990\n",
      "u    0.191581\n",
      "r    0.987045\n",
      "dtype: float64\n",
      "__________\n",
      "u    0.191581\n",
      "r    0.987045\n",
      "dtype: float64\n",
      "None\n"
     ]
    }
   ],
   "source": [
    "# 删除：.drop\n",
    "\n",
    "s = pd.Series(np.random.rand(5), index = list('ngjur'))\n",
    "print(s)\n",
    "s1 = s.drop('n')\n",
    "s2 = s.drop(['g','j'])\n",
    "print(s1)\n",
    "print(s2)\n",
    "print(s)\n",
    "# drop 删除元素之后返回副本(inplace=False)\n",
    "\n",
    "print('__________')\n",
    "s1 = s.drop('n')\n",
    "s11 = s1.drop(['g','j'],inplace=True)\n",
    "print(s1)\n",
    "print(s11)"
   ]
  },
  {
   "cell_type": "code",
   "execution_count": 37,
   "metadata": {},
   "outputs": [
    {
     "name": "stdout",
     "output_type": "stream",
     "text": [
      "0    0.005935\n",
      "1    0.055082\n",
      "2    0.374863\n",
      "3    0.667997\n",
      "4    0.306708\n",
      "dtype: float64\n",
      "n    0.448438\n",
      "g    0.299547\n",
      "j    0.370562\n",
      "u    0.157343\n",
      "r    0.223687\n",
      "dtype: float64\n",
      "0      0.005935\n",
      "1      0.055082\n",
      "2      0.374863\n",
      "3      0.667997\n",
      "4      0.306708\n",
      "5    100.000000\n",
      "dtype: float64\n",
      "n      0.448438\n",
      "g      0.299547\n",
      "j      0.370562\n",
      "u      0.157343\n",
      "r      0.223687\n",
      "a    100.000000\n",
      "dtype: float64\n",
      "-----\n",
      "0      0.005935\n",
      "1      0.055082\n",
      "2      0.374863\n",
      "3      0.667997\n",
      "4      0.306708\n",
      "5    100.000000\n",
      "n      0.448438\n",
      "g      0.299547\n",
      "j      0.370562\n",
      "u      0.157343\n",
      "r      0.223687\n",
      "a    100.000000\n",
      "dtype: float64\n",
      "0      0.005935\n",
      "1      0.055082\n",
      "2      0.374863\n",
      "3      0.667997\n",
      "4      0.306708\n",
      "5    100.000000\n",
      "dtype: float64\n"
     ]
    }
   ],
   "source": [
    "# 添加\n",
    "\n",
    "s1 = pd.Series(np.random.rand(5))\n",
    "s2 = pd.Series(np.random.rand(5), index = list('ngjur'))\n",
    "print(s1)\n",
    "print(s2)\n",
    "s1[5] = 100\n",
    "s2['a'] = 100\n",
    "print(s1)\n",
    "print(s2)\n",
    "print('-----')\n",
    "# 直接通过下标索引/标签index添加值\n",
    "\n",
    "s3 = s1.append(s2)\n",
    "print(s3)\n",
    "print(s1)\n",
    "# 通过.append方法，直接添加一个数组\n",
    "# .append方法生成一个新的数组，不改变之前的数组"
   ]
  },
  {
   "cell_type": "code",
   "execution_count": 38,
   "metadata": {},
   "outputs": [
    {
     "name": "stdout",
     "output_type": "stream",
     "text": [
      "a    0.329809\n",
      "b    0.630441\n",
      "c    0.254760\n",
      "dtype: float64\n",
      "a    100.0\n",
      "b    200.0\n",
      "c    200.0\n",
      "dtype: float64\n"
     ]
    }
   ],
   "source": [
    "# 修改\n",
    "\n",
    "s = pd.Series(np.random.rand(3), index = ['a','b','c'])\n",
    "print(s)\n",
    "s['a'] = 100\n",
    "s[['b','c']] = 200\n",
    "print(s)\n",
    "# 通过索引直接修改，类似序列"
   ]
  },
  {
   "cell_type": "code",
   "execution_count": 39,
   "metadata": {},
   "outputs": [
    {
     "data": {
      "text/plain": [
       "'\\n【课程2.5】  Pandas数据结构Dataframe：基本概念及创建\\n'"
      ]
     },
     "execution_count": 39,
     "metadata": {},
     "output_type": "execute_result"
    }
   ],
   "source": [
    "'''\n",
    "【课程2.5】  Pandas数据结构Dataframe：基本概念及创建\n",
    "'''"
   ]
  },
  {
   "cell_type": "code",
   "execution_count": 41,
   "metadata": {},
   "outputs": [
    {
     "name": "stdout",
     "output_type": "stream",
     "text": [
      "   age gender  name\n",
      "0   18      m  Jack\n",
      "1   19      m   Tom\n",
      "2   20      w  Mary\n",
      "<class 'pandas.core.frame.DataFrame'>\n",
      "RangeIndex(start=0, stop=3, step=1) \n",
      "该数据类型为： <class 'pandas.core.indexes.range.RangeIndex'>\n",
      "Index(['age', 'gender', 'name'], dtype='object') \n",
      "该数据类型为： <class 'pandas.core.indexes.base.Index'>\n",
      "[[18 'm' 'Jack']\n",
      " [19 'm' 'Tom']\n",
      " [20 'w' 'Mary']] \n",
      "该数据类型为： <class 'numpy.ndarray'>\n"
     ]
    }
   ],
   "source": [
    "data = {'name':['Jack','Tom','Mary'],\n",
    "        'age':[18,19,20],\n",
    "       'gender':['m','m','w']}\n",
    "frame = pd.DataFrame(data)\n",
    "print(frame)  \n",
    "print(type(frame))\n",
    "print(frame.index,'\\n该数据类型为：',type(frame.index))\n",
    "print(frame.columns,'\\n该数据类型为：',type(frame.columns))\n",
    "print(frame.values,'\\n该数据类型为：',type(frame.values))"
   ]
  },
  {
   "cell_type": "code",
   "execution_count": 42,
   "metadata": {},
   "outputs": [
    {
     "name": "stdout",
     "output_type": "stream",
     "text": [
      "{'a': [1, 2, 3], 'b': [3, 4, 5], 'c': [5, 6, 7]}\n",
      "{'one': array([ 0.35720988,  0.84593461,  0.63488636]), 'two': array([ 0.51050434,  0.44818426,  0.41852104])}\n",
      "   a  b  c\n",
      "0  1  3  5\n",
      "1  2  4  6\n",
      "2  3  5  7\n",
      "        one       two\n",
      "0  0.357210  0.510504\n",
      "1  0.845935  0.448184\n",
      "2  0.634886  0.418521\n"
     ]
    }
   ],
   "source": [
    "data1 = {'a':[1,2,3],\n",
    "        'b':[3,4,5],\n",
    "        'c':[5,6,7]}\n",
    "data2 = {'one':np.random.rand(3),\n",
    "        'two':np.random.rand(3)}   # 这里如果尝试  'two':np.random.rand(4) 会怎么样？\n",
    "print(data1)\n",
    "print(data2)\n",
    "df1 = pd.DataFrame(data1)\n",
    "df2 = pd.DataFrame(data2)\n",
    "print(df1)\n",
    "print(df2)"
   ]
  },
  {
   "cell_type": "code",
   "execution_count": 43,
   "metadata": {},
   "outputs": [
    {
     "name": "stdout",
     "output_type": "stream",
     "text": [
      "   b  c  a    d\n",
      "0  3  5  1  NaN\n",
      "1  4  6  2  NaN\n",
      "2  5  7  3  NaN\n",
      "   b  c\n",
      "0  3  5\n",
      "1  4  6\n",
      "2  5  7\n",
      "         one       two\n",
      "f1  0.357210  0.510504\n",
      "f2  0.845935  0.448184\n",
      "f3  0.634886  0.418521\n"
     ]
    }
   ],
   "source": [
    "df1 = pd.DataFrame(data1, columns = ['b','c','a','d'])\n",
    "print(df1)\n",
    "df1 = pd.DataFrame(data1, columns = ['b','c'])\n",
    "print(df1)\n",
    "# columns参数：可以重新指定列的顺序，格式为list，如果现有数据中没有该列（比如'd'），则产生NaN值\n",
    "# 如果columns重新指定时候，列的数量可以少于原数据\n",
    "\n",
    "df2 = pd.DataFrame(data2, index = ['f1','f2','f3'])  # 这里如果尝试  index = ['f1','f2','f3','f4'] 会怎么样？\n",
    "print(df2)\n",
    "# index参数：重新定义index，格式为list，长度必须保持一致"
   ]
  },
  {
   "cell_type": "code",
   "execution_count": 45,
   "metadata": {},
   "outputs": [
    {
     "name": "stdout",
     "output_type": "stream",
     "text": [
      "{'one': 0    0.113873\n",
      "1    0.251442\n",
      "dtype: float64, 'two': 0    0.313140\n",
      "1    0.098709\n",
      "2    0.383845\n",
      "dtype: float64}\n",
      "{'one': e    0.74246\n",
      "f    0.18642\n",
      "dtype: float64, 'two': a    0.809930\n",
      "b    0.500487\n",
      "c    0.488844\n",
      "dtype: float64}\n",
      "        one       two\n",
      "0  0.113873  0.313140\n",
      "1  0.251442  0.098709\n",
      "2       NaN  0.383845\n",
      "       one       two\n",
      "a      NaN  0.809930\n",
      "b      NaN  0.500487\n",
      "c      NaN  0.488844\n",
      "e  0.74246       NaN\n",
      "f  0.18642       NaN\n"
     ]
    }
   ],
   "source": [
    "data1 = {'one':pd.Series(np.random.rand(2)),\n",
    "        'two':pd.Series(np.random.rand(3))}  # 没有设置index的Series\n",
    "data2 = {'one':pd.Series(np.random.rand(2), index = ['e','f']),\n",
    "        'two':pd.Series(np.random.rand(3),index = ['a','b','c'])}  # 设置了index的Series\n",
    "print(data1)\n",
    "print(data2)\n",
    "df1 = pd.DataFrame(data1)\n",
    "df2 = pd.DataFrame(data2)\n",
    "print(df1)\n",
    "print(df2)"
   ]
  },
  {
   "cell_type": "code",
   "execution_count": 46,
   "metadata": {},
   "outputs": [
    {
     "name": "stdout",
     "output_type": "stream",
     "text": [
      "[[ 0.31788617  0.13454961  0.98654495]\n",
      " [ 0.76947509  0.98124958  0.17065984]\n",
      " [ 0.24141699  0.5714625   0.54346766]]\n",
      "          0         1         2\n",
      "0  0.317886  0.134550  0.986545\n",
      "1  0.769475  0.981250  0.170660\n",
      "2  0.241417  0.571463  0.543468\n",
      "        one       two     three\n",
      "a  0.317886  0.134550  0.986545\n",
      "b  0.769475  0.981250  0.170660\n",
      "c  0.241417  0.571463  0.543468\n"
     ]
    }
   ],
   "source": [
    "ar=np.random.rand(9).reshape(3,3)\n",
    "print(ar)\n",
    "df1=pd.DataFrame(ar)\n",
    "df2=pd.DataFrame(ar,index=list('abc'),columns=['one','two','three'])\n",
    "print(df1)\n",
    "print(df2)"
   ]
  },
  {
   "cell_type": "code",
   "execution_count": 47,
   "metadata": {},
   "outputs": [
    {
     "name": "stdout",
     "output_type": "stream",
     "text": [
      "[{'one': 1, 'two': 2}, {'one': 5, 'two': 10, 'three': 20}]\n",
      "   one  three  two\n",
      "0    1    NaN    2\n",
      "1    5   20.0   10\n",
      "   one  three  two\n",
      "a    1    NaN    2\n",
      "b    5   20.0   10\n",
      "   one  two\n",
      "0    1    2\n",
      "1    5   10\n"
     ]
    }
   ],
   "source": [
    "data = [{'one': 1, 'two': 2}, {'one': 5, 'two': 10, 'three': 20}]\n",
    "print(data)\n",
    "df1=pd.DataFrame(data)\n",
    "df2 = pd.DataFrame(data, index = ['a','b'])\n",
    "df3 = pd.DataFrame(data, columns = ['one','two'])\n",
    "print(df1)\n",
    "print(df2)\n",
    "print(df3)"
   ]
  },
  {
   "cell_type": "code",
   "execution_count": 48,
   "metadata": {},
   "outputs": [
    {
     "name": "stdout",
     "output_type": "stream",
     "text": [
      "         Jack  Marry   Tom\n",
      "art        78     92   NaN\n",
      "english    89     95  67.0\n",
      "math       90     82  78.0\n",
      "         Jack   Tom  Bob\n",
      "art        78   NaN  NaN\n",
      "english    89  67.0  NaN\n",
      "math       90  78.0  NaN\n",
      "   Jack  Marry  Tom\n",
      "a   NaN    NaN  NaN\n",
      "b   NaN    NaN  NaN\n",
      "c   NaN    NaN  NaN\n"
     ]
    }
   ],
   "source": [
    "data = {'Jack':{'math':90,'english':89,'art':78},\n",
    "       'Marry':{'math':82,'english':95,'art':92},\n",
    "       'Tom':{'math':78,'english':67}}\n",
    "df1 = pd.DataFrame(data)\n",
    "print(df1)\n",
    "\n",
    "df2 = pd.DataFrame(data, columns = ['Jack','Tom','Bob'])\n",
    "df3 = pd.DataFrame(data, index = ['a','b','c'])\n",
    "print(df2)\n",
    "print(df3)"
   ]
  },
  {
   "cell_type": "code",
   "execution_count": 49,
   "metadata": {},
   "outputs": [
    {
     "data": {
      "text/plain": [
       "'\\n【课程2.6】  Pandas数据结构Dataframe：索引\\n'"
      ]
     },
     "execution_count": 49,
     "metadata": {},
     "output_type": "execute_result"
    }
   ],
   "source": [
    "'''\n",
    "【课程2.6】  Pandas数据结构Dataframe：索引\n",
    "'''"
   ]
  },
  {
   "cell_type": "code",
   "execution_count": 51,
   "metadata": {},
   "outputs": [
    {
     "name": "stdout",
     "output_type": "stream",
     "text": [
      "               a          b          c          d\n",
      "one     8.932405  68.392668  24.434699  60.766170\n",
      "two    35.372769  67.237519   6.915432  40.598295\n",
      "three  67.266141  40.138331  25.932779  98.885646\n",
      "one       8.932405\n",
      "two      35.372769\n",
      "three    67.266141\n",
      "Name: a, dtype: float64 <class 'pandas.core.series.Series'>\n",
      "               a          c\n",
      "one     8.932405  24.434699\n",
      "two    35.372769   6.915432\n",
      "three  67.266141  25.932779 <class 'pandas.core.frame.DataFrame'>\n",
      "-----\n",
      "               a          c\n",
      "one     8.932405  24.434699\n",
      "two    35.372769   6.915432\n",
      "three  67.266141  25.932779 <class 'pandas.core.series.Series'>\n",
      "a     8.932405\n",
      "b    68.392668\n",
      "c    24.434699\n",
      "d    60.766170\n",
      "Name: one, dtype: float64 <class 'pandas.core.frame.DataFrame'>\n"
     ]
    }
   ],
   "source": [
    "df=pd.DataFrame(np.random.rand(12).reshape(3,4)*100,\n",
    "               index = ['one','two','three'],\n",
    "               columns = ['a','b','c','d'])\n",
    "print(df)\n",
    "\n",
    "data1 = df['a']\n",
    "data2 = df[['a','c']]\n",
    "print(data1,type(data1))\n",
    "print(data2,type(data2))\n",
    "print('-----')\n",
    "# 按照列名选择列，只选择一列输出Series，选择多列输出Dataframe\n",
    "\n",
    "data3 = df.loc['one']\n",
    "data4 = df.loc[['one','two']]\n",
    "print(data2,type(data3))\n",
    "print(data3,type(data4))\n",
    "# 按照index选择行，只选择一行输出Series，选择多行输出Dataframe"
   ]
  },
  {
   "cell_type": "code",
   "execution_count": 55,
   "metadata": {},
   "outputs": [
    {
     "name": "stdout",
     "output_type": "stream",
     "text": [
      "               a          b          c          d\n",
      "one    24.808682   5.016094  54.669283   8.781685\n",
      "two    16.523445  64.539986  77.670488  81.669584\n",
      "three  54.924495  17.550157  81.588381  97.757305\n",
      "-----\n",
      "one      24.808682\n",
      "two      16.523445\n",
      "three    54.924495\n",
      "Name: a, dtype: float64\n",
      "               b          c\n",
      "one     5.016094  54.669283\n",
      "two    64.539986  77.670488\n",
      "three  17.550157  81.588381\n",
      "               a          b          c          d\n",
      "three  54.924495  17.550157  81.588381  97.757305 <class 'pandas.core.frame.DataFrame'>\n"
     ]
    }
   ],
   "source": [
    "# df[] - 选择列\n",
    "# 一般用于选择列，也可以选择行\n",
    "\n",
    "df = pd.DataFrame(np.random.rand(12).reshape(3,4)*100,\n",
    "                   index = ['one','two','three'],\n",
    "                   columns = ['a','b','c','d'])\n",
    "print(df)\n",
    "print('-----')\n",
    "\n",
    "data1 = df['a']\n",
    "data2 = df[['b','c']]  # 尝试输入 data2 = df[['b','c','e']]\n",
    "print(data1)\n",
    "print(data2)\n",
    "# df[]默认选择列，[]中写列名（所以一般数据colunms都会单独制定，不会用默认数字列名，以免和index冲突）\n",
    "# 单选列为Series，print结果为Series格式\n",
    "# 多选列为Dataframe，print结果为Dataframe格式\n",
    "\n",
    "data3 = df[2:3]\n",
    "#data3 = df[0]\n",
    "#data3 = df['one']\n",
    "print(data3,type(data3))\n",
    "# df[]中为数字时，默认选择行，且只能进行切片的选择，不能单独选择（df[0]）\n",
    "# 输出结果为Dataframe，即便只选择一行\n",
    "# df[]不能通过索引标签名来选择行(df['one'])\n",
    "\n",
    "# 核心笔记：df[col]一般用于选择列，[]中写列名"
   ]
  },
  {
   "cell_type": "code",
   "execution_count": 60,
   "metadata": {},
   "outputs": [
    {
     "name": "stdout",
     "output_type": "stream",
     "text": [
      "               a          b          c          d\n",
      "one    97.659527  15.692866  14.837666  43.349643\n",
      "two    92.764354  21.187443  29.349364  60.412057\n",
      "three  77.380963  36.079828  21.796428  86.038086\n",
      "four   13.358836  39.330107   3.155383  87.700188\n",
      "           a          b          c          d\n",
      "0   7.570874  96.707077  77.928724  58.960215\n",
      "1  38.947426  44.910645  46.424315  36.200812\n",
      "2  28.054383  23.914806  74.270386  67.637324\n",
      "3  55.113338  45.531424  83.585898  18.431197\n",
      "-----\n",
      "a    97.659527\n",
      "b    15.692866\n",
      "c    14.837666\n",
      "d    43.349643\n",
      "Name: one, dtype: float64\n",
      "a    38.947426\n",
      "b    44.910645\n",
      "c    46.424315\n",
      "d    36.200812\n",
      "Name: 1, dtype: float64\n",
      "单标签索引\n",
      "-----\n",
      "               a          b          c          d\n",
      "two    92.764354  21.187443  29.349364  60.412057\n",
      "three  77.380963  36.079828  21.796428  86.038086\n",
      "five         NaN        NaN        NaN        NaN\n",
      "           a          b          c          d\n",
      "3  55.113338  45.531424  83.585898  18.431197\n",
      "2  28.054383  23.914806  74.270386  67.637324\n",
      "1  38.947426  44.910645  46.424315  36.200812\n",
      "多标签索引\n",
      "-----\n",
      "               a          b          c          d\n",
      "one    97.659527  15.692866  14.837666  43.349643\n",
      "two    92.764354  21.187443  29.349364  60.412057\n",
      "three  77.380963  36.079828  21.796428  86.038086\n",
      "           a          b          c          d\n",
      "1  38.947426  44.910645  46.424315  36.200812\n",
      "2  28.054383  23.914806  74.270386  67.637324\n",
      "3  55.113338  45.531424  83.585898  18.431197\n",
      "切片索引\n"
     ]
    }
   ],
   "source": [
    "# df.loc[] - 按index选择行\n",
    "\n",
    "df1 = pd.DataFrame(np.random.rand(16).reshape(4,4)*100,\n",
    "                   index = ['one','two','three','four'],\n",
    "                   columns = ['a','b','c','d'])\n",
    "df2 = pd.DataFrame(np.random.rand(16).reshape(4,4)*100,\n",
    "                   columns = ['a','b','c','d'])\n",
    "print(df1)\n",
    "print(df2)\n",
    "print('-----')\n",
    "\n",
    "data1 = df1.loc['one']\n",
    "data2 = df2.loc[1]\n",
    "print(data1)\n",
    "print(data2)\n",
    "print('单标签索引\\n-----')\n",
    "# 单个标签索引，返回Series\n",
    "\n",
    "data3 = df1.loc[['two','three','five']]\n",
    "data4 = df2.loc[[3,2,1]]\n",
    "print(data3)\n",
    "print(data4)\n",
    "print('多标签索引\\n-----')\n",
    "# 多个标签索引，如果标签不存在，则返回NaN\n",
    "# 顺序可变\n",
    "\n",
    "data5 = df1.loc['one':'three']\n",
    "data6 = df2.loc[1:3]\n",
    "print(data5)\n",
    "print(data6)\n",
    "print('切片索引')\n",
    "# 可以做切片对象\n",
    "# 末端包含\n",
    "\n",
    "# 核心笔记：df.loc[label]主要针对index选择行，同时支持指定index，及默认数字index"
   ]
  },
  {
   "cell_type": "code",
   "execution_count": 61,
   "metadata": {},
   "outputs": [
    {
     "name": "stdout",
     "output_type": "stream",
     "text": [
      "               a          b          c          d\n",
      "one    78.149809  70.624161  55.010166   5.111371\n",
      "two     4.681723  45.795154  89.113015   7.997244\n",
      "three  35.714724  36.953514  20.333445  73.880307\n",
      "four   12.498992  75.648986  43.888079  75.847289\n",
      "------\n",
      "a    78.149809\n",
      "b    70.624161\n",
      "c    55.010166\n",
      "d     5.111371\n",
      "Name: one, dtype: float64\n",
      "a    12.498992\n",
      "b    75.648986\n",
      "c    43.888079\n",
      "d    75.847289\n",
      "Name: four, dtype: float64\n",
      "单位置索引\n",
      "-----\n",
      "               a          b          c          d\n",
      "one    78.149809  70.624161  55.010166   5.111371\n",
      "three  35.714724  36.953514  20.333445  73.880307\n",
      "               a          b          c          d\n",
      "four   12.498992  75.648986  43.888079  75.847289\n",
      "three  35.714724  36.953514  20.333445  73.880307\n",
      "two     4.681723  45.795154  89.113015   7.997244\n",
      "多位置索引\n",
      "-----\n",
      "               a          b          c          d\n",
      "two     4.681723  45.795154  89.113015   7.997244\n",
      "three  35.714724  36.953514  20.333445  73.880307\n",
      "               a          b          c          d\n",
      "one    78.149809  70.624161  55.010166   5.111371\n",
      "three  35.714724  36.953514  20.333445  73.880307\n",
      "切片索引\n"
     ]
    }
   ],
   "source": [
    "# df.iloc[] - 按照整数位置（从轴的0到length-1）选择行\n",
    "# 类似list的索引，其顺序就是dataframe的整数位置，从0开始计\n",
    "\n",
    "df = pd.DataFrame(np.random.rand(16).reshape(4,4)*100,\n",
    "                   index = ['one','two','three','four'],\n",
    "                   columns = ['a','b','c','d'])\n",
    "print(df)\n",
    "print('------')\n",
    "\n",
    "print(df.iloc[0])\n",
    "print(df.iloc[-1])\n",
    "#print(df.iloc[4])\n",
    "print('单位置索引\\n-----')\n",
    "# 单位置索引\n",
    "# 和loc索引不同，不能索引超出数据行数的整数位置\n",
    "\n",
    "print(df.iloc[[0,2]])\n",
    "print(df.iloc[[3,2,1]])\n",
    "print('多位置索引\\n-----')\n",
    "# 多位置索引\n",
    "# 顺序可变\n",
    "\n",
    "print(df.iloc[1:3])\n",
    "print(df.iloc[::2])\n",
    "print('切片索引')\n",
    "# 切片索引\n",
    "# 末端不包含"
   ]
  },
  {
   "cell_type": "code",
   "execution_count": 66,
   "metadata": {},
   "outputs": [
    {
     "name": "stdout",
     "output_type": "stream",
     "text": [
      "               a          b          c          d\n",
      "one    47.219928  67.728912  46.021656  84.710588\n",
      "two    23.741238  89.923145  68.902132  83.445736\n",
      "three  81.562593  17.415783  38.784546  39.189750\n",
      "four   10.341226  34.430073  68.083498   8.743176\n",
      "------\n",
      "           a      b      c      d\n",
      "one    False  False  False  False\n",
      "two    False  False  False  False\n",
      "three  False   True  False  False\n",
      "four    True  False  False   True <class 'pandas.core.frame.DataFrame'>\n",
      "               a          b   c         d\n",
      "one          NaN        NaN NaN       NaN\n",
      "two          NaN        NaN NaN       NaN\n",
      "three        NaN  17.415783 NaN       NaN\n",
      "four   10.341226        NaN NaN  8.743176\n",
      "------\n",
      "one      False\n",
      "two      False\n",
      "three     True\n",
      "four     False\n",
      "Name: a, dtype: bool <class 'pandas.core.series.Series'>\n",
      "               a          b          c         d\n",
      "three  81.562593  17.415783  38.784546  39.18975\n",
      "------\n",
      "           a      b\n",
      "one    False   True\n",
      "two    False   True\n",
      "three   True  False\n",
      "four   False  False <class 'pandas.core.frame.DataFrame'>\n"
     ]
    },
    {
     "ename": "ValueError",
     "evalue": "Boolean array expected for the condition, not float64",
     "output_type": "error",
     "traceback": [
      "\u001b[1;31m---------------------------------------------------------------------------\u001b[0m",
      "\u001b[1;31mValueError\u001b[0m                                Traceback (most recent call last)",
      "\u001b[1;32m<ipython-input-66-72d7236cb63d>\u001b[0m in \u001b[0;36m<module>\u001b[1;34m()\u001b[0m\n\u001b[0;32m     24\u001b[0m \u001b[0mb3\u001b[0m \u001b[1;33m=\u001b[0m \u001b[0mdf\u001b[0m\u001b[1;33m[\u001b[0m\u001b[1;33m[\u001b[0m\u001b[1;34m'a'\u001b[0m\u001b[1;33m,\u001b[0m\u001b[1;34m'b'\u001b[0m\u001b[1;33m]\u001b[0m\u001b[1;33m]\u001b[0m \u001b[1;33m>\u001b[0m \u001b[1;36m50\u001b[0m\u001b[1;33m\u001b[0m\u001b[0m\n\u001b[0;32m     25\u001b[0m \u001b[0mprint\u001b[0m\u001b[1;33m(\u001b[0m\u001b[0mb3\u001b[0m\u001b[1;33m,\u001b[0m\u001b[0mtype\u001b[0m\u001b[1;33m(\u001b[0m\u001b[0mb3\u001b[0m\u001b[1;33m)\u001b[0m\u001b[1;33m)\u001b[0m\u001b[1;33m\u001b[0m\u001b[0m\n\u001b[1;32m---> 26\u001b[1;33m \u001b[0mprint\u001b[0m\u001b[1;33m(\u001b[0m\u001b[0mdf\u001b[0m\u001b[1;33m[\u001b[0m\u001b[0mb3\u001b[0m\u001b[1;33m]\u001b[0m\u001b[1;33m)\u001b[0m  \u001b[1;31m# 也可以书写为 df[df[['a','b']] > 50]\u001b[0m\u001b[1;33m\u001b[0m\u001b[0m\n\u001b[0m\u001b[0;32m     27\u001b[0m \u001b[0mprint\u001b[0m\u001b[1;33m(\u001b[0m\u001b[1;34m'------'\u001b[0m\u001b[1;33m)\u001b[0m\u001b[1;33m\u001b[0m\u001b[0m\n\u001b[0;32m     28\u001b[0m \u001b[1;31m# 多列做判断\u001b[0m\u001b[1;33m\u001b[0m\u001b[1;33m\u001b[0m\u001b[0m\n",
      "\u001b[1;32mD:\\Anaconda3\\lib\\site-packages\\pandas\\core\\frame.py\u001b[0m in \u001b[0;36m__getitem__\u001b[1;34m(self, key)\u001b[0m\n\u001b[0;32m   1958\u001b[0m             \u001b[1;32mreturn\u001b[0m \u001b[0mself\u001b[0m\u001b[1;33m.\u001b[0m\u001b[0m_getitem_array\u001b[0m\u001b[1;33m(\u001b[0m\u001b[0mkey\u001b[0m\u001b[1;33m)\u001b[0m\u001b[1;33m\u001b[0m\u001b[0m\n\u001b[0;32m   1959\u001b[0m         \u001b[1;32melif\u001b[0m \u001b[0misinstance\u001b[0m\u001b[1;33m(\u001b[0m\u001b[0mkey\u001b[0m\u001b[1;33m,\u001b[0m \u001b[0mDataFrame\u001b[0m\u001b[1;33m)\u001b[0m\u001b[1;33m:\u001b[0m\u001b[1;33m\u001b[0m\u001b[0m\n\u001b[1;32m-> 1960\u001b[1;33m             \u001b[1;32mreturn\u001b[0m \u001b[0mself\u001b[0m\u001b[1;33m.\u001b[0m\u001b[0m_getitem_frame\u001b[0m\u001b[1;33m(\u001b[0m\u001b[0mkey\u001b[0m\u001b[1;33m)\u001b[0m\u001b[1;33m\u001b[0m\u001b[0m\n\u001b[0m\u001b[0;32m   1961\u001b[0m         \u001b[1;32melif\u001b[0m \u001b[0mis_mi_columns\u001b[0m\u001b[1;33m:\u001b[0m\u001b[1;33m\u001b[0m\u001b[0m\n\u001b[0;32m   1962\u001b[0m             \u001b[1;32mreturn\u001b[0m \u001b[0mself\u001b[0m\u001b[1;33m.\u001b[0m\u001b[0m_getitem_multilevel\u001b[0m\u001b[1;33m(\u001b[0m\u001b[0mkey\u001b[0m\u001b[1;33m)\u001b[0m\u001b[1;33m\u001b[0m\u001b[0m\n",
      "\u001b[1;32mD:\\Anaconda3\\lib\\site-packages\\pandas\\core\\frame.py\u001b[0m in \u001b[0;36m_getitem_frame\u001b[1;34m(self, key)\u001b[0m\n\u001b[0;32m   2034\u001b[0m         \u001b[1;32mif\u001b[0m \u001b[0mkey\u001b[0m\u001b[1;33m.\u001b[0m\u001b[0mvalues\u001b[0m\u001b[1;33m.\u001b[0m\u001b[0msize\u001b[0m \u001b[1;32mand\u001b[0m \u001b[1;32mnot\u001b[0m \u001b[0mis_bool_dtype\u001b[0m\u001b[1;33m(\u001b[0m\u001b[0mkey\u001b[0m\u001b[1;33m.\u001b[0m\u001b[0mvalues\u001b[0m\u001b[1;33m)\u001b[0m\u001b[1;33m:\u001b[0m\u001b[1;33m\u001b[0m\u001b[0m\n\u001b[0;32m   2035\u001b[0m             \u001b[1;32mraise\u001b[0m \u001b[0mValueError\u001b[0m\u001b[1;33m(\u001b[0m\u001b[1;34m'Must pass DataFrame with boolean values only'\u001b[0m\u001b[1;33m)\u001b[0m\u001b[1;33m\u001b[0m\u001b[0m\n\u001b[1;32m-> 2036\u001b[1;33m         \u001b[1;32mreturn\u001b[0m \u001b[0mself\u001b[0m\u001b[1;33m.\u001b[0m\u001b[0mwhere\u001b[0m\u001b[1;33m(\u001b[0m\u001b[0mkey\u001b[0m\u001b[1;33m)\u001b[0m\u001b[1;33m\u001b[0m\u001b[0m\n\u001b[0m\u001b[0;32m   2037\u001b[0m \u001b[1;33m\u001b[0m\u001b[0m\n\u001b[0;32m   2038\u001b[0m     \u001b[1;32mdef\u001b[0m \u001b[0mquery\u001b[0m\u001b[1;33m(\u001b[0m\u001b[0mself\u001b[0m\u001b[1;33m,\u001b[0m \u001b[0mexpr\u001b[0m\u001b[1;33m,\u001b[0m \u001b[0minplace\u001b[0m\u001b[1;33m=\u001b[0m\u001b[1;32mFalse\u001b[0m\u001b[1;33m,\u001b[0m \u001b[1;33m**\u001b[0m\u001b[0mkwargs\u001b[0m\u001b[1;33m)\u001b[0m\u001b[1;33m:\u001b[0m\u001b[1;33m\u001b[0m\u001b[0m\n",
      "\u001b[1;32mD:\\Anaconda3\\lib\\site-packages\\pandas\\core\\generic.py\u001b[0m in \u001b[0;36mwhere\u001b[1;34m(self, cond, other, inplace, axis, level, try_cast, raise_on_error)\u001b[0m\n\u001b[0;32m   5338\u001b[0m         \u001b[0mother\u001b[0m \u001b[1;33m=\u001b[0m \u001b[0mcom\u001b[0m\u001b[1;33m.\u001b[0m\u001b[0m_apply_if_callable\u001b[0m\u001b[1;33m(\u001b[0m\u001b[0mother\u001b[0m\u001b[1;33m,\u001b[0m \u001b[0mself\u001b[0m\u001b[1;33m)\u001b[0m\u001b[1;33m\u001b[0m\u001b[0m\n\u001b[0;32m   5339\u001b[0m         return self._where(cond, other, inplace, axis, level, try_cast,\n\u001b[1;32m-> 5340\u001b[1;33m                            raise_on_error)\n\u001b[0m\u001b[0;32m   5341\u001b[0m \u001b[1;33m\u001b[0m\u001b[0m\n\u001b[0;32m   5342\u001b[0m     @Appender(_shared_docs['where'] % dict(_shared_doc_kwargs, cond=\"False\",\n",
      "\u001b[1;32mD:\\Anaconda3\\lib\\site-packages\\pandas\\core\\generic.py\u001b[0m in \u001b[0;36m_where\u001b[1;34m(self, cond, other, inplace, axis, level, try_cast, raise_on_error)\u001b[0m\n\u001b[0;32m   5096\u001b[0m             \u001b[1;32mfor\u001b[0m \u001b[0mdt\u001b[0m \u001b[1;32min\u001b[0m \u001b[0mcond\u001b[0m\u001b[1;33m.\u001b[0m\u001b[0mdtypes\u001b[0m\u001b[1;33m:\u001b[0m\u001b[1;33m\u001b[0m\u001b[0m\n\u001b[0;32m   5097\u001b[0m                 \u001b[1;32mif\u001b[0m \u001b[1;32mnot\u001b[0m \u001b[0mis_bool_dtype\u001b[0m\u001b[1;33m(\u001b[0m\u001b[0mdt\u001b[0m\u001b[1;33m)\u001b[0m\u001b[1;33m:\u001b[0m\u001b[1;33m\u001b[0m\u001b[0m\n\u001b[1;32m-> 5098\u001b[1;33m                     \u001b[1;32mraise\u001b[0m \u001b[0mValueError\u001b[0m\u001b[1;33m(\u001b[0m\u001b[0mmsg\u001b[0m\u001b[1;33m.\u001b[0m\u001b[0mformat\u001b[0m\u001b[1;33m(\u001b[0m\u001b[0mdtype\u001b[0m\u001b[1;33m=\u001b[0m\u001b[0mdt\u001b[0m\u001b[1;33m)\u001b[0m\u001b[1;33m)\u001b[0m\u001b[1;33m\u001b[0m\u001b[0m\n\u001b[0m\u001b[0;32m   5099\u001b[0m \u001b[1;33m\u001b[0m\u001b[0m\n\u001b[0;32m   5100\u001b[0m         \u001b[0mcond\u001b[0m \u001b[1;33m=\u001b[0m \u001b[0mcond\u001b[0m\u001b[1;33m.\u001b[0m\u001b[0mastype\u001b[0m\u001b[1;33m(\u001b[0m\u001b[0mbool\u001b[0m\u001b[1;33m,\u001b[0m \u001b[0mcopy\u001b[0m\u001b[1;33m=\u001b[0m\u001b[1;32mFalse\u001b[0m\u001b[1;33m)\u001b[0m\u001b[1;33m\u001b[0m\u001b[0m\n",
      "\u001b[1;31mValueError\u001b[0m: Boolean array expected for the condition, not float64"
     ]
    }
   ],
   "source": [
    "# 布尔型索引\n",
    "# 和Series原理相同\n",
    "\n",
    "df = pd.DataFrame(np.random.rand(16).reshape(4,4)*100,\n",
    "                   index = ['one','two','three','four'],\n",
    "                   columns = ['a','b','c','d'])\n",
    "print(df)\n",
    "print('------')\n",
    "\n",
    "b1 = df < 20\n",
    "print(b1,type(b1))\n",
    "print(df[b1])  # 也可以书写为 df[df < 20]\n",
    "print('------')\n",
    "# 不做索引则会对数据每个值进行判断\n",
    "# 索引结果保留 所有数据：True返回原数据，False返回值为NaN\n",
    "\n",
    "b2 = df['a'] > 50\n",
    "print(b2,type(b2))\n",
    "print(df[b2])  # 也可以书写为 df[df['a'] > 50]\n",
    "print('------')\n",
    "# 单列做判断\n",
    "# 索引结果保留 单列判断为True的行数据，包括其他列\n",
    "\n",
    "b3 = df[['a','b']] > 50\n",
    "print(b3,type(b3))\n",
    "print(df[b3])  # 也可以书写为 df[df[['a','b']] > 50]\n",
    "print('------')\n",
    "# 多列做判断\n",
    "# 索引结果保留 所有数据：True返回原数据，False返回值为NaN\n",
    "\n",
    "b4 = df.loc[['one','three']] < 50\n",
    "print(b4,type(b4))\n",
    "print(df[b4])  # 也可以书写为 df[df.loc[['one','three']] < 50]\n",
    "print('------')\n",
    "# 多行做判断\n",
    "# 索引结果保留 所有数据：True返回原数据，False返回值为NaN"
   ]
  },
  {
   "cell_type": "code",
   "execution_count": 67,
   "metadata": {},
   "outputs": [
    {
     "name": "stdout",
     "output_type": "stream",
     "text": [
      "               a          b          c          d\n",
      "one    53.697742  92.895114  47.106466  70.574770\n",
      "two    76.333676  66.432951  70.638236  79.769251\n",
      "three  72.428436  90.133075  51.954341  53.452164\n",
      "four   62.995758  73.627319  65.214251  28.590567\n",
      "------\n",
      "one      53.697742\n",
      "three    72.428436\n",
      "Name: a, dtype: float64\n",
      "               b          c          d\n",
      "one    92.895114  47.106466  70.574770\n",
      "three  90.133075  51.954341  53.452164\n",
      "Empty DataFrame\n",
      "Columns: [a, b, c, d]\n",
      "Index: []\n"
     ]
    }
   ],
   "source": [
    "# 多重索引：比如同时索引行和列\n",
    "# 先选择列再选择行 —— 相当于对于一个数据，先筛选字段，再选择数据量\n",
    "\n",
    "df = pd.DataFrame(np.random.rand(16).reshape(4,4)*100,\n",
    "                   index = ['one','two','three','four'],\n",
    "                   columns = ['a','b','c','d'])\n",
    "print(df)\n",
    "print('------')\n",
    "\n",
    "print(df['a'].loc[['one','three']])   # 选择a列的one，three行\n",
    "print(df[['b','c','d']].iloc[::2])   # 选择b，c，d列的one，three行\n",
    "print(df[df['a'] < 50].iloc[:2])   # 选择满足判断索引的前两行数据"
   ]
  },
  {
   "cell_type": "code",
   "execution_count": 68,
   "metadata": {},
   "outputs": [
    {
     "data": {
      "text/plain": [
       "'\\n【课程2.7】  Pandas数据结构Dataframe：基本技巧\\n'"
      ]
     },
     "execution_count": 68,
     "metadata": {},
     "output_type": "execute_result"
    }
   ],
   "source": [
    "'''\n",
    "【课程2.7】  Pandas数据结构Dataframe：基本技巧\n",
    "'''"
   ]
  },
  {
   "cell_type": "code",
   "execution_count": 69,
   "metadata": {},
   "outputs": [
    {
     "name": "stdout",
     "output_type": "stream",
     "text": [
      "           a          b          c          d\n",
      "0  73.749981  48.731090  61.169625  32.316602\n",
      "1  19.786527  15.461309  59.232880  96.430708\n",
      "2  72.352329   1.803498  76.109178   5.243309\n",
      "3   3.292049  51.348742  91.952317  94.890577\n",
      "           a          b          c          d   e\n",
      "0  73.749981  48.731090  61.169625  32.316602  10\n",
      "1  19.786527  15.461309  59.232880  96.430708  10\n",
      "2  72.352329   1.803498  76.109178   5.243309  10\n",
      "3   3.292049  51.348742  91.952317  94.890577  10\n",
      "4  20.000000  20.000000  20.000000  20.000000  20\n",
      "     a          b    c          d   e\n",
      "0  100  48.731090  100  32.316602  20\n",
      "1  100  15.461309  100  96.430708  20\n",
      "2  100   1.803498  100   5.243309  20\n",
      "3  100  51.348742  100  94.890577  20\n",
      "4  100  20.000000  100  20.000000  20\n"
     ]
    }
   ],
   "source": [
    "# 添加与修改\n",
    "\n",
    "df = pd.DataFrame(np.random.rand(16).reshape(4,4)*100,\n",
    "                   columns = ['a','b','c','d'])\n",
    "print(df)\n",
    "\n",
    "df['e'] = 10\n",
    "df.loc[4] = 20\n",
    "print(df)\n",
    "# 新增列/行并赋值\n",
    "\n",
    "df['e'] = 20\n",
    "df[['a','c']] = 100\n",
    "print(df)\n",
    "# 索引后直接修改值"
   ]
  },
  {
   "cell_type": "code",
   "execution_count": 70,
   "metadata": {},
   "outputs": [
    {
     "name": "stdout",
     "output_type": "stream",
     "text": [
      "           a          b          c          d\n",
      "0  77.740117  32.605253  58.500408  40.443343\n",
      "1  85.225335  78.266217  52.079576  88.001422\n",
      "2  27.404848  52.239112  11.748972   6.995774\n",
      "3  62.459527  18.637914  74.712243  42.377111\n",
      "           b          c          d\n",
      "0  32.605253  58.500408  40.443343\n",
      "1  78.266217  52.079576  88.001422\n",
      "2  52.239112  11.748972   6.995774\n",
      "3  18.637914  74.712243  42.377111\n",
      "-----\n",
      "           b          c          d\n",
      "1  78.266217  52.079576  88.001422\n",
      "2  52.239112  11.748972   6.995774\n",
      "3  18.637914  74.712243  42.377111\n",
      "           b          c          d\n",
      "0  32.605253  58.500408  40.443343\n",
      "3  18.637914  74.712243  42.377111\n",
      "           b          c          d\n",
      "0  32.605253  58.500408  40.443343\n",
      "1  78.266217  52.079576  88.001422\n",
      "2  52.239112  11.748972   6.995774\n",
      "3  18.637914  74.712243  42.377111\n",
      "-----\n",
      "           b          c\n",
      "0  32.605253  58.500408\n",
      "1  78.266217  52.079576\n",
      "2  52.239112  11.748972\n",
      "3  18.637914  74.712243\n",
      "           b          c          d\n",
      "0  32.605253  58.500408  40.443343\n",
      "1  78.266217  52.079576  88.001422\n",
      "2  52.239112  11.748972   6.995774\n",
      "3  18.637914  74.712243  42.377111\n"
     ]
    }
   ],
   "source": [
    "# 删除  del / drop()\n",
    "\n",
    "df = pd.DataFrame(np.random.rand(16).reshape(4,4)*100,\n",
    "                   columns = ['a','b','c','d'])\n",
    "print(df)\n",
    "\n",
    "del df['a']\n",
    "print(df)\n",
    "print('-----')\n",
    "# del语句 - 删除列\n",
    "\n",
    "print(df.drop(0))\n",
    "print(df.drop([1,2]))\n",
    "print(df)\n",
    "print('-----')\n",
    "# drop()删除行，inplace=False → 删除后生成新的数据，不改变原数据\n",
    "\n",
    "print(df.drop(['d'], axis = 1))\n",
    "print(df)\n",
    "# drop()删除列，需要加上axis = 1，inplace=False → 删除后生成新的数据，不改变原数据"
   ]
  },
  {
   "cell_type": "code",
   "execution_count": 72,
   "metadata": {},
   "outputs": [
    {
     "name": "stdout",
     "output_type": "stream",
     "text": [
      "          A         B         C         D\n",
      "0  0.126130 -0.389516  0.585390  0.482690\n",
      "1  0.943539  1.322006 -0.694319 -0.922901\n",
      "2  0.696207  0.509886  0.238162 -1.318386\n",
      "3  1.168405  0.678409  0.569312  1.392583\n",
      "4  1.619104  1.126303  1.499498  0.300889\n",
      "5  0.422506  1.437232  0.355855 -2.254061\n",
      "6  0.953419 -1.227774  0.973969 -0.910789\n",
      "7  0.086788  0.242664  0.202761  0.025119\n",
      "8  2.139804  1.315372  0.862504  0.155541\n",
      "9 -1.224601  0.545042  1.329889  0.413138\n",
      "          A         B         C\n",
      "0  0.291272 -0.649684  0.606972\n",
      "1  0.034092  0.408858  0.987518\n",
      "2 -1.643378  2.693057 -0.876752\n",
      "3  0.300228 -0.570719  0.797317\n",
      "4 -0.479825  0.393665  0.503390\n",
      "5 -0.093900  1.014969  0.501922\n",
      "6 -0.877792 -0.656611  1.156052\n",
      "-----\n",
      "          A         B         C   D\n",
      "0  0.417402 -1.039200  1.192362 NaN\n",
      "1  0.977630  1.730864  0.293198 NaN\n",
      "2 -0.947171  3.202942 -0.638590 NaN\n",
      "3  1.468632  0.107690  1.366629 NaN\n",
      "4  1.139278  1.519968  2.002887 NaN\n",
      "5  0.328606  2.452200  0.857778 NaN\n",
      "6  0.075627 -1.884385  2.130021 NaN\n",
      "7       NaN       NaN       NaN NaN\n",
      "8       NaN       NaN       NaN NaN\n",
      "9       NaN       NaN       NaN NaN\n"
     ]
    }
   ],
   "source": [
    "# 对齐\n",
    "\n",
    "df1 = pd.DataFrame(np.random.randn(10, 4), columns=['A', 'B', 'C', 'D'])\n",
    "df2 = pd.DataFrame(np.random.randn(7, 3), columns=['A', 'B', 'C'])\n",
    "print(df1)\n",
    "print(df2)\n",
    "print('-----')\n",
    "print(df1 + df2)\n",
    "# DataFrame对象之间的数据自动按照列和索引（行标签）对齐"
   ]
  },
  {
   "cell_type": "code",
   "execution_count": 73,
   "metadata": {},
   "outputs": [
    {
     "name": "stdout",
     "output_type": "stream",
     "text": [
      "           a          b          c          d\n",
      "0  54.422429  79.676829   4.522229  73.233267\n",
      "1  55.192272   5.537171  75.506975  54.093254\n",
      "2  63.306779  59.832503  99.101994  56.014492\n",
      "3   2.531441  86.489010  61.469431  97.506739\n",
      "           a          b          c          d\n",
      "3   2.531441  86.489010  61.469431  97.506739\n",
      "0  54.422429  79.676829   4.522229  73.233267\n",
      "1  55.192272   5.537171  75.506975  54.093254\n",
      "2  63.306779  59.832503  99.101994  56.014492\n",
      "           a          b          c          d\n",
      "2  63.306779  59.832503  99.101994  56.014492\n",
      "1  55.192272   5.537171  75.506975  54.093254\n",
      "0  54.422429  79.676829   4.522229  73.233267\n",
      "3   2.531441  86.489010  61.469431  97.506739\n",
      "------\n",
      "   a  b  c\n",
      "0  1  0  8\n",
      "1  1  1  7\n",
      "2  1  2  6\n",
      "3  1  3  5\n",
      "4  2  4  4\n",
      "5  2  5  3\n",
      "6  2  6  2\n",
      "7  2  7  1\n",
      "   a  b  c\n",
      "3  1  3  5\n",
      "2  1  2  6\n",
      "1  1  1  7\n",
      "0  1  0  8\n",
      "7  2  7  1\n",
      "6  2  6  2\n",
      "5  2  5  3\n",
      "4  2  4  4\n"
     ]
    }
   ],
   "source": [
    "# 排序1 - 按值排序 .sort_values\n",
    "# 同样适用于Series\n",
    "\n",
    "df1 = pd.DataFrame(np.random.rand(16).reshape(4,4)*100,\n",
    "                   columns = ['a','b','c','d'])\n",
    "print(df1)\n",
    "print(df1.sort_values(['a'], ascending = True))  # 升序\n",
    "print(df1.sort_values(['a'], ascending = False))  # 降序\n",
    "print('------')\n",
    "# ascending参数：设置升序降序，默认升序\n",
    "# 单列排序\n",
    "\n",
    "df2 = pd.DataFrame({'a':[1,1,1,1,2,2,2,2],\n",
    "                  'b':list(range(8)),\n",
    "                  'c':list(range(8,0,-1))})\n",
    "print(df2)\n",
    "print(df2.sort_values(['a','c']))\n",
    "# 多列排序，按列顺序排序"
   ]
  },
  {
   "cell_type": "code",
   "execution_count": 74,
   "metadata": {},
   "outputs": [
    {
     "name": "stdout",
     "output_type": "stream",
     "text": [
      "           a          b          c          d\n",
      "5   4.822277   6.242426  64.351871  63.809160\n",
      "4  81.029910  97.368947  91.037162  98.725993\n",
      "3  25.144654  25.597868   6.430037  80.040791\n",
      "2  32.978882  93.329394   2.725270  85.171595\n",
      "           a          b          c          d\n",
      "2  32.978882  93.329394   2.725270  85.171595\n",
      "3  25.144654  25.597868   6.430037  80.040791\n",
      "4  81.029910  97.368947  91.037162  98.725993\n",
      "5   4.822277   6.242426  64.351871  63.809160\n",
      "           a          b          c          d\n",
      "h  90.216783  92.999190  55.630499  14.430062\n",
      "s  12.340614  87.880696  33.851706  34.975585\n",
      "x  29.967707  98.280783  89.226777  45.650666\n",
      "g  81.372015  92.916810  11.070966  22.892499\n",
      "           a          b          c          d\n",
      "g  81.372015  92.916810  11.070966  22.892499\n",
      "h  90.216783  92.999190  55.630499  14.430062\n",
      "s  12.340614  87.880696  33.851706  34.975585\n",
      "x  29.967707  98.280783  89.226777  45.650666\n"
     ]
    }
   ],
   "source": [
    "# 排序2 - 索引排序 .sort_index\n",
    "\n",
    "df1 = pd.DataFrame(np.random.rand(16).reshape(4,4)*100,\n",
    "                  index = [5,4,3,2],\n",
    "                   columns = ['a','b','c','d'])\n",
    "df2 = pd.DataFrame(np.random.rand(16).reshape(4,4)*100,\n",
    "                  index = ['h','s','x','g'],\n",
    "                   columns = ['a','b','c','d'])\n",
    "print(df1)\n",
    "print(df1.sort_index())\n",
    "print(df2)\n",
    "print(df2.sort_index())\n",
    "# 按照index排序\n",
    "# 默认 ascending=True, inplace=False"
   ]
  },
  {
   "cell_type": "code",
   "execution_count": null,
   "metadata": {
    "collapsed": true
   },
   "outputs": [],
   "source": []
  }
 ],
 "metadata": {
  "kernelspec": {
   "display_name": "Python 3",
   "language": "python",
   "name": "python3"
  },
  "language_info": {
   "codemirror_mode": {
    "name": "ipython",
    "version": 3
   },
   "file_extension": ".py",
   "mimetype": "text/x-python",
   "name": "python",
   "nbconvert_exporter": "python",
   "pygments_lexer": "ipython3",
   "version": "3.6.3"
  }
 },
 "nbformat": 4,
 "nbformat_minor": 2
}
