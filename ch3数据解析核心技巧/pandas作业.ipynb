{
 "cells": [
  {
   "cell_type": "code",
   "execution_count": 3,
   "metadata": {},
   "outputs": [
    {
     "name": "stdout",
     "output_type": "stream",
     "text": [
      "Jack     90.0\n",
      "Marry    92.0\n",
      "Tom      89.0\n",
      "Zack     65.0\n",
      "Name: zuoye1, dtype: float64\n",
      "Jack     90.0\n",
      "Tom      89.0\n",
      "Marry    92.0\n",
      "Zack     76.0\n",
      "Name: zuoye1, dtype: float64\n"
     ]
    }
   ],
   "source": [
    "import pandas as pd\n",
    "import numpy as np\n",
    "dic = {'Jack':90,'Tom':89,'Marry':92,'Zack':65}\n",
    "ar=np.array([90,89,92,76])\n",
    "print(pd.Series(dic,dtype=np.float,name='zuoye1'))\n",
    "print(pd.Series(ar,index=['Jack','Tom','Marry','Zack'],dtype=np.float,name='zuoye1'))"
   ]
  },
  {
   "cell_type": "code",
   "execution_count": 6,
   "metadata": {},
   "outputs": [
    {
     "name": "stdout",
     "output_type": "stream",
     "text": [
      "a    35.292873\n",
      "b    35.453673\n",
      "c    32.955185\n",
      "d    32.862861\n",
      "e     0.121503\n",
      "f    48.956785\n",
      "j    44.738458\n",
      "h    47.127660\n",
      "i     7.768492\n",
      "j    78.809104\n",
      "dtype: float64\n",
      "35.4536729368\n",
      "d    32.862861\n",
      "e     0.121503\n",
      "f    48.956785\n",
      "dtype: float64\n",
      "j    78.809104\n",
      "dtype: float64\n"
     ]
    }
   ],
   "source": [
    "s = pd.Series(np.random.rand(10)*100,index=list('abcdefjhij'))\n",
    "print (s)\n",
    "print (s['b'])\n",
    "print (s[3:6])\n",
    "print (s[s>50])"
   ]
  },
  {
   "cell_type": "code",
   "execution_count": 10,
   "metadata": {},
   "outputs": [
    {
     "name": "stdout",
     "output_type": "stream",
     "text": [
      "a    0\n",
      "b    1\n",
      "c    2\n",
      "d    3\n",
      "e    4\n",
      "f    5\n",
      "g    6\n",
      "h    7\n",
      "i    8\n",
      "j    9\n",
      "dtype: int32\n",
      "a    100\n",
      "c      2\n",
      "d      3\n",
      "e    100\n",
      "f    100\n",
      "g      6\n",
      "h      7\n",
      "i      8\n",
      "j      9\n",
      "dtype: int32\n"
     ]
    }
   ],
   "source": [
    "s=pd.Series(np.arange(10),index=list('abcdefghij'))\n",
    "print(s)\n",
    "s[['a','e','f']]=100\n",
    "s.drop('b',inplace=True)\n",
    "print(s)"
   ]
  },
  {
   "cell_type": "code",
   "execution_count": 11,
   "metadata": {},
   "outputs": [
    {
     "name": "stdout",
     "output_type": "stream",
     "text": [
      "a          NaN\n",
      "b          NaN\n",
      "c    10.452652\n",
      "d    12.083695\n",
      "e     4.471817\n",
      "f          NaN\n",
      "g          NaN\n",
      "dtype: float64\n"
     ]
    }
   ],
   "source": [
    "s1 = pd.Series(np.random.rand(5)*10,index = list('abcde'))\n",
    "s2 = pd.Series(np.random.rand(5)*10,index = list('cdefg'))\n",
    "print(s1+s2)"
   ]
  },
  {
   "cell_type": "code",
   "execution_count": 16,
   "metadata": {},
   "outputs": [
    {
     "name": "stdout",
     "output_type": "stream",
     "text": [
      "   four  one  three  two\n",
      "a     4    1      3    2\n",
      "b     5    2      4    3\n",
      "c     6    3      5    4\n",
      "d     7    4      6    5\n",
      "e     8    5      7    6\n",
      "   four  one  three  two\n",
      "a     4    1      3    2\n",
      "b     5    2      4    3\n",
      "c     6    3      5    4\n",
      "d     7    4      6    5\n",
      "e     8    5      7    6\n",
      "   one  two  three  four\n",
      "a    0    1      2     3\n",
      "b    4    5      6     7\n",
      "c    8    9     10    11\n",
      "d   12   13     14    15\n",
      "e   16   17     18    19\n",
      "   four  one  three  two\n",
      "a     4    1      3    2\n",
      "b     5    2      4    3\n",
      "c     6    3      5    4\n",
      "d     7    4      6    5\n",
      "e     8    5      7    6\n"
     ]
    }
   ],
   "source": [
    "df1=pd.DataFrame({'one':[1,2,3,4,5],\n",
    "                  'two':[2,3,4,5,6],\n",
    "                  'three':[3,4,5,6,7],\n",
    "                  'four':[4,5,6,7,8]},\n",
    "                index=list('abcde'))\n",
    "print(df1)\n",
    "df2 = pd.DataFrame({'one':pd.Series([1,2,3,4,5],index=list('abcde')),\n",
    "                   'two':pd.Series([2,3,4,5,6],index = list('abcde')),\n",
    "                   'three':pd.Series([3,4,5,6,7],index = list('abcde')),\n",
    "                   'four':pd.Series([4,5,6,7,8],index = list('abcde'))})\n",
    "print(df2)\n",
    "df3 = pd.DataFrame(np.arange(20).reshape(5,4),\n",
    "                   index=list('abcde'),\n",
    "                   columns=['one','two','three','four'])\n",
    "print(df3)\n",
    "df4 = pd.DataFrame([{'one':1,'two':2,'three':3,'four':4},\n",
    "                   {'one':2,'two':3,'three':4,'four':5},\n",
    "                   {'one':3,'two':4,'three':5,'four':6},\n",
    "                   {'one':4,'two':5,'three':6,'four':7},\n",
    "                   {'one':5,'two':6,'three':7,'four':8}],\n",
    "                  index=list('abcde'))\n",
    "print(df4)"
   ]
  },
  {
   "cell_type": "code",
   "execution_count": 19,
   "metadata": {},
   "outputs": [
    {
     "name": "stdout",
     "output_type": "stream",
     "text": [
      "               a          b          c          d\n",
      "one    40.481951  17.648929  25.184172  38.404291\n",
      "two    39.572745  67.125397  26.160065   1.371407\n",
      "three  57.558156   1.504587  48.902835  79.698306\n",
      "four   21.992876  77.523583  48.967975  54.823038\n",
      "               b          c\n",
      "one    17.648929  25.184172\n",
      "two    67.125397  26.160065\n",
      "three   1.504587  48.902835\n",
      "four   77.523583  48.967975\n",
      "               a          b          c          d\n",
      "three  57.558156   1.504587  48.902835  79.698306\n",
      "four   21.992876  77.523583  48.967975  54.823038\n",
      "             a          b          c          d\n",
      "two  39.572745  67.125397  26.160065   1.371407\n",
      "one  40.481951  17.648929  25.184172  38.404291\n",
      "               a          b   c          d\n",
      "one          NaN        NaN NaN        NaN\n",
      "two          NaN  67.125397 NaN        NaN\n",
      "three  57.558156        NaN NaN  79.698306\n",
      "four         NaN  77.523583 NaN  54.823038\n"
     ]
    }
   ],
   "source": [
    "df = pd.DataFrame(np.random.rand(16).reshape(4,4)*100,\n",
    "                  index=['one','two','three','four'],\n",
    "                  columns=list('abcd'))\n",
    "print(df)\n",
    "print(df[['b','c']])\n",
    "print(df.iloc[2:4])\n",
    "print(df.loc[['two','one']])\n",
    "print(df[df>50])"
   ]
  },
  {
   "cell_type": "code",
   "execution_count": 21,
   "metadata": {},
   "outputs": [
    {
     "name": "stdout",
     "output_type": "stream",
     "text": [
      "          v1         v2         v3\n",
      "c  36.034994  87.995779  52.064888\n",
      "b  91.988664  89.444658  45.855848\n",
      "a  32.284407  66.754264   3.524632\n",
      "          v1         v2         v3\n",
      "b  91.988664  89.444658  45.855848\n",
      "c  36.034994  87.995779  52.064888\n",
      "a  32.284407  66.754264   3.524632\n"
     ]
    }
   ],
   "source": [
    "df = pd.DataFrame(np.random.rand(3,3)*100,\n",
    "                 index = ['a','b','c'],\n",
    "                 columns = ['v1','v2','v3'])\n",
    "print(df.sort_index(ascending=False))\n",
    "print(df.sort_values(['v2'],ascending=False))"
   ]
  },
  {
   "cell_type": "code",
   "execution_count": 22,
   "metadata": {},
   "outputs": [
    {
     "name": "stdout",
     "output_type": "stream",
     "text": [
      "          v1         v2\n",
      "a  98.298095  59.523150\n",
      "b   1.364744  55.155068\n",
      "c  71.341038  24.364251\n",
      "d  39.052166  57.064517\n",
      "e  29.922916  76.793826\n",
      "            a    b          c          d\n",
      "v1  98.298095  100  71.341038  39.052166\n",
      "v2  59.523150  100  24.364251  57.064517\n"
     ]
    }
   ],
   "source": [
    "df1 = pd.DataFrame(np.random.rand(5,2)*100,\n",
    "                 index = ['a','b','c','d','e'],\n",
    "                 columns = ['v1','v2'])\n",
    "print(df1)\n",
    "df2=df1.T.drop('e',axis=1)\n",
    "df2['b']=100\n",
    "print(df2)"
   ]
  },
  {
   "cell_type": "code",
   "execution_count": 24,
   "metadata": {},
   "outputs": [
    {
     "name": "stdout",
     "output_type": "stream",
     "text": [
      "2018-08-17 23:17:05.163893\n",
      "2017-05-01 12:30:00\n",
      "2000-12-01 00:00:00\n",
      "2003-01-26 00:00:00\n"
     ]
    }
   ],
   "source": [
    "import datetime\n",
    "print (datetime.datetime.now())\n",
    "print (datetime.datetime(2017,5,1,12,30))\n",
    "print (datetime.datetime(2000,12,1))\n",
    "\n",
    "t1 = datetime.datetime(2000,5,1)\n",
    "print (t1 + datetime.timedelta(1000))"
   ]
  },
  {
   "cell_type": "code",
   "execution_count": 25,
   "metadata": {},
   "outputs": [
    {
     "name": "stdout",
     "output_type": "stream",
     "text": [
      "['2017-12-1', '2017-12-2', '2017-12-3', '2017-12-4', '2017-12-5', '2017-12-6', '2017-12-7', '2017-12-8', '2017-12-9', '2017-12-10', '2017-12-11', '2017-12-12', '2017-12-13', '2017-12-14', '2017-12-15', '2017-12-16', '2017-12-17', '2017-12-18', '2017-12-19', '2017-12-20', '2017-12-21', '2017-12-22', '2017-12-23', '2017-12-24', '2017-12-25', '2017-12-26', '2017-12-27', '2017-12-28', '2017-12-29', '2017-12-30', '2017-12-31']\n",
      "DatetimeIndex(['2017-12-01', '2017-12-02', '2017-12-03', '2017-12-04',\n",
      "               '2017-12-05', '2017-12-06', '2017-12-07', '2017-12-08',\n",
      "               '2017-12-09', '2017-12-10', '2017-12-11', '2017-12-12',\n",
      "               '2017-12-13', '2017-12-14', '2017-12-15', '2017-12-16',\n",
      "               '2017-12-17', '2017-12-18', '2017-12-19', '2017-12-20',\n",
      "               '2017-12-21', '2017-12-22', '2017-12-23', '2017-12-24',\n",
      "               '2017-12-25', '2017-12-26', '2017-12-27', '2017-12-28',\n",
      "               '2017-12-29', '2017-12-30', '2017-12-31'],\n",
      "              dtype='datetime64[ns]', freq=None)\n",
      "2017-12-16 00:00:00\n"
     ]
    }
   ],
   "source": [
    "datelst = []\n",
    "for i in range(1,32):\n",
    "    datelst.append('2017-12-%i' %i)\n",
    "print (datelst)\n",
    "t=pd.to_datetime(datelst)\n",
    "print(t)\n",
    "n=(len(t)+1)/2-1\n",
    "print(t[int(n)])"
   ]
  },
  {
   "cell_type": "code",
   "execution_count": 26,
   "metadata": {},
   "outputs": [
    {
     "ename": "FileNotFoundError",
     "evalue": "[Errno 2] No such file or directory: 'C:/Users/hp/Desktop/date.txt'",
     "output_type": "error",
     "traceback": [
      "\u001b[1;31m---------------------------------------------------------------------------\u001b[0m",
      "\u001b[1;31mFileNotFoundError\u001b[0m                         Traceback (most recent call last)",
      "\u001b[1;32m<ipython-input-26-edae85d81e75>\u001b[0m in \u001b[0;36m<module>\u001b[1;34m()\u001b[0m\n\u001b[1;32m----> 1\u001b[1;33m \u001b[0mf\u001b[0m \u001b[1;33m=\u001b[0m \u001b[0mopen\u001b[0m\u001b[1;33m(\u001b[0m\u001b[1;34m'C:/Users/hp/Desktop/date.txt'\u001b[0m\u001b[1;33m,\u001b[0m\u001b[1;34m'r'\u001b[0m\u001b[1;33m)\u001b[0m\u001b[1;33m\u001b[0m\u001b[0m\n\u001b[0m\u001b[0;32m      2\u001b[0m \u001b[0ms\u001b[0m \u001b[1;33m=\u001b[0m \u001b[0mf\u001b[0m\u001b[1;33m.\u001b[0m\u001b[0mreadline\u001b[0m\u001b[1;33m(\u001b[0m\u001b[1;33m)\u001b[0m\u001b[1;33m\u001b[0m\u001b[0m\n\u001b[0;32m      3\u001b[0m \u001b[0mdatelst\u001b[0m \u001b[1;33m=\u001b[0m \u001b[0ms\u001b[0m\u001b[1;33m.\u001b[0m\u001b[0msplit\u001b[0m\u001b[1;33m(\u001b[0m\u001b[1;34m','\u001b[0m\u001b[1;33m)\u001b[0m\u001b[1;33m\u001b[0m\u001b[0m\n\u001b[0;32m      4\u001b[0m \u001b[0mprint\u001b[0m\u001b[1;33m(\u001b[0m\u001b[1;34m'读取txt文件为：\\n'\u001b[0m\u001b[1;33m,\u001b[0m\u001b[0mdatelst\u001b[0m\u001b[1;33m,\u001b[0m\u001b[1;34m'\\n------'\u001b[0m\u001b[1;33m)\u001b[0m\u001b[1;33m\u001b[0m\u001b[0m\n\u001b[0;32m      5\u001b[0m \u001b[0mt\u001b[0m \u001b[1;33m=\u001b[0m \u001b[0mpd\u001b[0m\u001b[1;33m.\u001b[0m\u001b[0mto_datetime\u001b[0m\u001b[1;33m(\u001b[0m\u001b[0mdatelst\u001b[0m\u001b[1;33m)\u001b[0m\u001b[1;33m\u001b[0m\u001b[0m\n",
      "\u001b[1;31mFileNotFoundError\u001b[0m: [Errno 2] No such file or directory: 'C:/Users/hp/Desktop/date.txt'"
     ]
    }
   ],
   "source": [
    "f = open('C:/Users/hp/Desktop/date.txt','r')\n",
    "s = f.readline()\n",
    "datelst = s.split(',')\n",
    "print('读取txt文件为：\\n',datelst,'\\n------')\n",
    "t = pd.to_datetime(datelst)\n",
    "print('转化成DatetimeIndex为：\\n',t,'\\n------')"
   ]
  },
  {
   "cell_type": "code",
   "execution_count": 31,
   "metadata": {},
   "outputs": [
    {
     "name": "stdout",
     "output_type": "stream",
     "text": [
      "时间序列1：\n",
      " 2017-01-01    0.494895\n",
      "2017-01-02    0.864362\n",
      "2017-01-03    0.213161\n",
      "2017-01-04    0.290596\n",
      "2017-01-05    0.350235\n",
      "Freq: D, dtype: float64 \n",
      "------\n",
      "时间序列2：\n",
      " 2017-01-31    0.341737\n",
      "2017-04-30    0.354129\n",
      "2017-07-31    0.872008\n",
      "2017-10-31    0.606227\n",
      "Freq: Q-JAN, dtype: float64 \n",
      "------\n",
      "时间序列3：\n",
      "                        value1    value2    value3    value4\n",
      "2017-12-01 00:00:00  0.396175  0.219429  0.552754  0.256086\n",
      "2017-12-01 00:10:00  0.293067  0.995912  0.358469  0.731897\n",
      "2017-12-01 00:20:00  0.825094  0.681546  0.566679  0.092600\n",
      "2017-12-01 00:30:00  0.345713  0.042872  0.089184  0.339445 \n",
      "------\n"
     ]
    }
   ],
   "source": [
    "ts1 = pd.Series(np.random.rand(5),\n",
    "               index=pd.date_range('20170101',periods=5))\n",
    "ts2 = pd.Series(np.random.rand(4),\n",
    "               index=pd.date_range(start='2017',end='2018',freq='Q-JAN'))\n",
    "ts2_2 = pd.Series(np.random.rand(4),\n",
    "               index=pd.date_range(start='2017',end='2018',freq='3M'))\n",
    "ts3 = pd.DataFrame(np.random.rand(4,4),\n",
    "               index=pd.date_range(start='20171201',periods=4,freq='10MIN'),\n",
    "               columns = ['value1','value2','value3','value4'])\n",
    "print('时间序列1：\\n',ts1,'\\n------')\n",
    "print('时间序列2：\\n',ts2,'\\n------')\n",
    "print('时间序列3：\\n',ts3,'\\n------')"
   ]
  },
  {
   "cell_type": "code",
   "execution_count": 33,
   "metadata": {},
   "outputs": [
    {
     "name": "stdout",
     "output_type": "stream",
     "text": [
      "2017-05-01 00:00:00    0.798761\n",
      "2017-05-01 00:10:00    0.320400\n",
      "2017-05-01 00:20:00    0.288617\n",
      "2017-05-01 00:30:00    0.223137\n",
      "2017-05-01 00:40:00    0.242199\n",
      "Freq: 10T, dtype: float64\n",
      "2017-05-01 00:00:00    0.798761\n",
      "2017-05-01 00:05:00    0.798761\n",
      "2017-05-01 00:10:00    0.320400\n",
      "2017-05-01 00:15:00    0.320400\n",
      "2017-05-01 00:20:00    0.288617\n",
      "2017-05-01 00:25:00    0.288617\n",
      "2017-05-01 00:30:00    0.223137\n",
      "2017-05-01 00:35:00    0.223137\n",
      "2017-05-01 00:40:00    0.242199\n",
      "Freq: 5T, dtype: float64\n"
     ]
    }
   ],
   "source": [
    "ts = pd.Series(np.random.rand(5),\n",
    "              index=pd.date_range(start='20170501',periods=5,freq='10T'))\n",
    "print(ts)\n",
    "\n",
    "ts2 = ts.asfreq('5T',method='ffill')\n",
    "print(ts2)"
   ]
  },
  {
   "cell_type": "code",
   "execution_count": 35,
   "metadata": {},
   "outputs": [
    {
     "name": "stdout",
     "output_type": "stream",
     "text": [
      "2017-01    0.792126\n",
      "2017-02    0.961345\n",
      "2017-03    0.715338\n",
      "2017-04    0.426567\n",
      "2017-05    0.575153\n",
      "Freq: M, dtype: float64\n",
      "2017-01-01 00:00    0.506570\n",
      "2017-01-01 02:00    0.893188\n",
      "2017-01-01 04:00    0.030672\n",
      "2017-01-01 06:00    0.483799\n",
      "2017-01-01 08:00    0.680880\n",
      "Freq: 2H, dtype: float64\n"
     ]
    }
   ],
   "source": [
    "ts1 = pd.Series(np.random.rand(5),\n",
    "               index=pd.period_range('20170101','20170501',freq='M'))\n",
    "\n",
    "ts2 = pd.Series(np.random.rand(5),\n",
    "               index=pd.period_range('20170101',periods=5,freq='2h'))\n",
    "\n",
    "print(ts1)\n",
    "print(ts2)"
   ]
  },
  {
   "cell_type": "code",
   "execution_count": 36,
   "metadata": {},
   "outputs": [
    {
     "name": "stdout",
     "output_type": "stream",
     "text": [
      "                        value1     value2     value3\n",
      "2017-12-01 00:00:00  93.614227  41.458474  76.942550\n",
      "2017-12-01 12:00:00   9.651392  53.446413  99.551848\n",
      "2017-12-02 00:00:00  47.232312  38.703361  21.346788\n",
      "2017-12-02 12:00:00  38.728142   0.835700  80.550198\n",
      "2017-12-03 00:00:00  61.027151  68.908259  91.558953\n",
      "2017-12-03 12:00:00  89.305352  19.545747  63.860334\n",
      "2017-12-04 00:00:00  60.013152  91.148685  85.684899\n",
      "2017-12-04 12:00:00   2.401428  45.022563  33.831254\n",
      "2017-12-05 00:00:00  26.881451  61.708346  68.834045\n",
      "2017-12-05 12:00:00  94.916281  75.325264   3.138576\n",
      "                        value1     value2     value3\n",
      "2017-12-01 00:00:00  93.614227  41.458474  76.942550\n",
      "2017-12-01 12:00:00   9.651392  53.446413  99.551848\n",
      "2017-12-02 00:00:00  47.232312  38.703361  21.346788\n",
      "value1     2.401428\n",
      "value2    45.022563\n",
      "value3    33.831254\n",
      "Name: 2017-12-04 12:00:00, dtype: float64\n",
      "                        value1     value2     value3\n",
      "2017-12-04 00:00:00  60.013152  91.148685  85.684899\n",
      "2017-12-04 12:00:00   2.401428  45.022563  33.831254\n",
      "2017-12-05 00:00:00  26.881451  61.708346  68.834045\n",
      "2017-12-05 12:00:00  94.916281  75.325264   3.138576\n"
     ]
    }
   ],
   "source": [
    "import datetime\n",
    "ts = pd.DataFrame(np.random.rand(10,3)*100,\n",
    "                 index=pd.date_range(start='20171201',periods=10,freq='12h'),\n",
    "                 columns = ['value1','value2','value3'])\n",
    "print(ts)\n",
    "print(ts[:3])\n",
    "print(ts.loc['2017-12-04 12:00:00'])\n",
    "print(ts['20171204':'20171205'])"
   ]
  },
  {
   "cell_type": "code",
   "execution_count": 38,
   "metadata": {},
   "outputs": [
    {
     "name": "stdout",
     "output_type": "stream",
     "text": [
      "2017-01-01    0.376572\n",
      "2017-01-02    0.996671\n",
      "2017-01-03    0.639581\n",
      "2017-01-04    0.427689\n",
      "2017-01-05    0.492910\n",
      "2017-01-06    0.399657\n",
      "2017-01-07    0.804588\n",
      "2017-01-08    0.438507\n",
      "2017-01-09    0.074198\n",
      "2017-01-10    0.700056\n",
      "Freq: D, dtype: float64\n",
      "2017-01-01    0.670942\n",
      "2017-01-04    0.440085\n",
      "2017-01-07    0.439097\n",
      "2017-01-10    0.700056\n",
      "Freq: 3D, dtype: float64\n",
      "2017-01-01 00:00:00    0.376572\n",
      "2017-01-01 12:00:00    0.376572\n",
      "2017-01-02 00:00:00    0.996671\n",
      "2017-01-02 12:00:00    0.996671\n",
      "2017-01-03 00:00:00    0.639581\n",
      "2017-01-03 12:00:00    0.639581\n",
      "2017-01-04 00:00:00    0.427689\n",
      "2017-01-04 12:00:00    0.427689\n",
      "2017-01-05 00:00:00    0.492910\n",
      "2017-01-05 12:00:00    0.492910\n",
      "2017-01-06 00:00:00    0.399657\n",
      "2017-01-06 12:00:00    0.399657\n",
      "2017-01-07 00:00:00    0.804588\n",
      "2017-01-07 12:00:00    0.804588\n",
      "2017-01-08 00:00:00    0.438507\n",
      "2017-01-08 12:00:00    0.438507\n",
      "2017-01-09 00:00:00    0.074198\n",
      "2017-01-09 12:00:00    0.074198\n",
      "2017-01-10 00:00:00    0.700056\n",
      "Freq: 12H, dtype: float64\n"
     ]
    }
   ],
   "source": [
    "ts1 = pd.Series(np.random.rand(10),\n",
    "              index=pd.date_range(start='20170101',periods=10,freq='D'))\n",
    "ts2 = ts1.resample('3D').mean()\n",
    "ts3 = ts1.resample('12h').ffill()\n",
    "\n",
    "print(ts1)\n",
    "print(ts2)\n",
    "print(ts3)"
   ]
  },
  {
   "cell_type": "code",
   "execution_count": 39,
   "metadata": {},
   "outputs": [
    {
     "name": "stdout",
     "output_type": "stream",
     "text": [
      "        key1       key2\n",
      "0  36.252671  95.359371\n",
      "1  87.251489  13.159802\n",
      "2   5.885375  98.350570\n",
      "3  83.636208  76.333012\n",
      "4  14.650334  52.709636\n",
      "<bound method Series.mean of 0    36.252671\n",
      "1    87.251489\n",
      "2     5.885375\n",
      "3    83.636208\n",
      "4    14.650334\n",
      "Name: key1, dtype: float64>\n",
      "<bound method Series.median of 0    36.252671\n",
      "1    87.251489\n",
      "2     5.885375\n",
      "3    83.636208\n",
      "4    14.650334\n",
      "Name: key1, dtype: float64>\n",
      "<bound method Series.mean of 0    95.359371\n",
      "1    13.159802\n",
      "2    98.350570\n",
      "3    76.333012\n",
      "4    52.709636\n",
      "Name: key2, dtype: float64>\n",
      "<bound method Series.median of 0    95.359371\n",
      "1    13.159802\n",
      "2    98.350570\n",
      "3    76.333012\n",
      "4    52.709636\n",
      "Name: key2, dtype: float64>\n",
      "        key1       key2  key1_cumsum  key2_cumsum\n",
      "0  36.252671  95.359371    36.252671    95.359371\n",
      "1  87.251489  13.159802   123.504160   108.519173\n",
      "2   5.885375  98.350570   129.389535   206.869743\n",
      "3  83.636208  76.333012   213.025742   283.202755\n",
      "4  14.650334  52.709636   227.676076   335.912391\n"
     ]
    }
   ],
   "source": [
    "df = pd.DataFrame(np.random.rand(5,2)*100,\n",
    "                 index=range(5),columns=['key1','key2'])\n",
    "print(df)\n",
    "print(df['key1'].mean)\n",
    "print(df['key1'].median)\n",
    "print(df['key2'].mean)\n",
    "print(df['key2'].median)\n",
    "df['key1_cumsum'] = df['key1'].cumsum()\n",
    "df['key2_cumsum'] = df['key2'].cumsum()\n",
    "print(df)"
   ]
  },
  {
   "cell_type": "code",
   "execution_count": 40,
   "metadata": {},
   "outputs": [
    {
     "name": "stdout",
     "output_type": "stream",
     "text": [
      "qingshuru:\n",
      "a,b,d,f,a\n",
      "no\n"
     ]
    }
   ],
   "source": [
    "def f(x):\n",
    "    s = x.unique()\n",
    "    if len(s)==len(x):\n",
    "        print('yes')\n",
    "    else:\n",
    "        print('no')\n",
    "\n",
    "d=input('qingshuru:\\n')\n",
    "lst=d.split(',')\n",
    "ds=pd.Series(lst)\n",
    "f(ds)"
   ]
  },
  {
   "cell_type": "code",
   "execution_count": 41,
   "metadata": {},
   "outputs": [
    {
     "name": "stdout",
     "output_type": "stream",
     "text": [
      "  gender    name math english art\n",
      "0      M    Jack   90      90  90\n",
      "1      M     Tom   89      89  89\n",
      "2      F   Marry   90      90  90\n",
      "3      M    Zack   78      78  78\n",
      "4      F  Heheda   60      60  60\n"
     ]
    }
   ],
   "source": [
    "df = pd.DataFrame({'name':['jack','tom','Marry','zack','heheda'],\n",
    "                  'gender':['M ','M','   F','  M ','  F'],\n",
    "                  'score':['90-92-89','89-78-88','90-92-95','78-88-76','60-60-67']})\n",
    "\n",
    "df['name']=df['name'].str.capitalize()\n",
    "df['gender'] = df['gender'].str.strip()\n",
    "df['math'] = df['score'].str.split('-',expand=True)[0]\n",
    "df['english'] = df['score'].str.split('-', expand=True)[0]\n",
    "df['art'] = df['score'].str.split('-', expand=True)[0]\n",
    "del df['score']\n",
    "print(df)"
   ]
  },
  {
   "cell_type": "code",
   "execution_count": 44,
   "metadata": {},
   "outputs": [
    {
     "name": "stdout",
     "output_type": "stream",
     "text": [
      "  key   values1\n",
      "0   a  0.342151\n",
      "1   b  0.108836\n",
      "2   c  0.885681\n",
      "  key   values2\n",
      "0   b  0.969578\n",
      "1   c  0.061944\n",
      "2   d  0.000306\n",
      "  key   values1   values2\n",
      "0   a  0.342151       NaN\n",
      "1   b  0.108836  0.969578\n",
      "2   c  0.885681  0.061944\n",
      "3   d       NaN  0.000306\n"
     ]
    }
   ],
   "source": [
    "df1 = pd.DataFrame({'key':['a','b','c'],\n",
    "                     'values1':np.random.rand(3)})\n",
    "df2 = pd.DataFrame({'key':['b','c','d'],\n",
    "                     'values2':np.random.rand(3)})\n",
    "df3=pd.merge(df1,df2,on='key',how='outer')\n",
    "print(df1)\n",
    "print(df2)\n",
    "print(df3)"
   ]
  },
  {
   "cell_type": "code",
   "execution_count": 46,
   "metadata": {},
   "outputs": [
    {
     "name": "stdout",
     "output_type": "stream",
     "text": [
      "  lkey   values1\n",
      "0    a  0.666813\n",
      "1    b  0.501007\n",
      "2    c  0.137892\n",
      "  rkey   values2\n",
      "0    b  0.528007\n",
      "1    c  0.002920\n",
      "2    d  0.869310\n",
      "  lkey   values1 rkey   values2\n",
      "0    a  0.666813  NaN       NaN\n",
      "1    b  0.501007    b  0.528007\n",
      "2    c  0.137892    c  0.002920\n"
     ]
    }
   ],
   "source": [
    "df1 = pd.DataFrame({'lkey':['a','b','c'],\n",
    "                   'values1':np.random.rand(3)})\n",
    "df2 = pd.DataFrame({'rkey':['b','c','d'],\n",
    "                   'values2':np.random.rand(3)})\n",
    "df3 = pd.merge(df1,df2,left_on='lkey',right_on='rkey',how='left')\n",
    "print(df1)\n",
    "print(df2)\n",
    "print(df3)"
   ]
  },
  {
   "cell_type": "code",
   "execution_count": 47,
   "metadata": {},
   "outputs": [
    {
     "name": "stdout",
     "output_type": "stream",
     "text": [
      "  key   values1\n",
      "0   a  0.278555\n",
      "1   b  0.006327\n",
      "2   c  0.436759\n",
      "    values2  values3\n",
      "b  0.295234        5\n",
      "c  0.836017        6\n",
      "d  0.529171        7\n",
      "  key   values1   values2  values3\n",
      "1   b  0.006327  0.295234        5\n",
      "2   c  0.436759  0.836017        6\n",
      "  key   values1   values2  values3\n",
      "1   b  0.006327  0.295234        5\n",
      "2   c  0.436759  0.836017        6\n"
     ]
    }
   ],
   "source": [
    "df1 = pd.DataFrame({'key':['a','b','c'],\n",
    "                   'values1':np.random.rand(3)})\n",
    "df2 = pd.DataFrame({'values2':np.random.rand(3),\n",
    "                   'values3':[5,6,7]},\n",
    "                  index = ['b','c','d'])\n",
    "df3 = df1.join(df2,on='key',how='inner')\n",
    "df4 = pd.merge(df1,df2,left_on='key',right_index=True,how='inner')\n",
    "print(df1)\n",
    "print(df2)\n",
    "print(df3)\n",
    "print(df4)"
   ]
  },
  {
   "cell_type": "code",
   "execution_count": 49,
   "metadata": {},
   "outputs": [
    {
     "name": "stdout",
     "output_type": "stream",
     "text": [
      "    values1   values2\n",
      "a  0.219012  0.171590\n",
      "b  0.734519  0.844777\n",
      "c  0.079852  0.555553\n",
      "d  0.617434  0.083174\n",
      "    values1   values2\n",
      "e  0.358901  0.143436\n",
      "f  0.767398  0.530094\n",
      "g  0.683363  0.092199\n",
      "h  0.749548  0.932613\n",
      "    values1   values2\n",
      "a  0.219012  0.171590\n",
      "b  0.734519  0.844777\n",
      "c  0.079852  0.555553\n",
      "d  0.617434  0.083174\n",
      "e  0.358901  0.143436\n",
      "f  0.767398  0.530094\n",
      "g  0.683363  0.092199\n",
      "h  0.749548  0.932613\n"
     ]
    }
   ],
   "source": [
    "df1 = pd.DataFrame(np.random.rand(4,2),\n",
    "                  index = list('abcd'),\n",
    "                  columns = ['values1','values2'])\n",
    "df2 = pd.DataFrame(np.random.rand(4,2),\n",
    "                  index = list('efgh'),\n",
    "                  columns = ['values1','values2'])\n",
    "df3 = pd.concat([df1,df2])\n",
    "\n",
    "print(df1)\n",
    "print(df2)\n",
    "print(df3)"
   ]
  },
  {
   "cell_type": "code",
   "execution_count": 53,
   "metadata": {},
   "outputs": [
    {
     "name": "stdout",
     "output_type": "stream",
     "text": [
      "    values1   values2\n",
      "a  0.002046  0.648386\n",
      "b  0.361437  0.163349\n",
      "c  0.745947  0.912275\n",
      "d  0.700791  0.984599\n",
      "   values1  values2\n",
      "a        4        6\n",
      "b        3        5\n",
      "c        7        5\n",
      "d        4        4\n",
      "    values1   values2\n",
      "a  0.002046  0.648386\n",
      "b  0.361437  0.163349\n",
      "c  0.745947  0.912275\n",
      "d  0.700791  0.984599\n"
     ]
    }
   ],
   "source": [
    "df1 = pd.DataFrame(np.random.rand(4,2),\n",
    "                  index = list('abcd'),\n",
    "                  columns = ['values1','values2'])\n",
    "df2 = pd.DataFrame(np.random.randint(8,size=(4,2)),\n",
    "                  index = list('abcd'),\n",
    "                  columns = ['values1','values2'])\n",
    "print(df1)\n",
    "print(df2)\n",
    "df1.combine_first(df2)\n",
    "print(df1)"
   ]
  },
  {
   "cell_type": "code",
   "execution_count": 61,
   "metadata": {},
   "outputs": [
    {
     "name": "stdout",
     "output_type": "stream",
     "text": [
      "       A  B   C         D         E\n",
      "0    one  h  10 -1.495876  0.775953\n",
      "1    two  h  12 -1.245924  0.700651\n",
      "2  three  h  14  0.669766  0.840591\n",
      "3    one  h  16 -0.259174  0.707507\n",
      "4    two  f  18  0.731738  0.532749\n",
      "5  three  f  20  1.155136  0.907156\n",
      "6    one  f  22  0.707977  0.458663\n",
      "7    two  f  24 -0.864268  0.061444\n",
      "        C         D         E\n",
      "A                            \n",
      "one    16 -0.349024  0.647375\n",
      "three  17  0.912451  0.873874\n",
      "two    18 -0.459485  0.431615\n",
      "          C         D         E\n",
      "A     B                        \n",
      "one   f  22  0.707977  0.458663\n",
      "      h  26 -1.755050  1.483460\n",
      "three f  20  1.155136  0.907156\n",
      "      h  14  0.669766  0.840591\n",
      "two   f  42 -0.132531  0.594193\n",
      "      h  12 -1.245924  0.700651\n",
      "{'one': Int64Index([0, 3, 6], dtype='int64'), 'three': Int64Index([2, 5], dtype='int64'), 'two': Int64Index([1, 4, 7], dtype='int64')}\n",
      "   int32   float64  object\n",
      "0     10 -0.719923    oneh\n",
      "1     12 -0.545273    twoh\n",
      "2     14  1.510357  threeh\n",
      "3     16  0.448333    oneh\n",
      "4     18  1.264487    twof\n",
      "5     20  2.062292  threef\n",
      "6     22  1.166640    onef\n",
      "7     24 -0.802824    twof\n",
      "           r\n",
      "0   8.504124\n",
      "1  10.754076\n",
      "2  14.669766\n",
      "3  15.740826\n",
      "4  18.731738\n",
      "5  21.155136\n",
      "6  22.707977\n",
      "7  23.135732\n",
      "  re1                     re2                     re3                     re4  \\\n",
      "    C         D         E   C         D         E   C         D         E   C   \n",
      "B                                                                               \n",
      "f  21  0.432646  0.490003  84  1.730582  1.960013  24  1.155136  0.907156  18   \n",
      "h  13 -0.582802  0.756176  52 -2.331208  3.024702  16  0.669766  0.840591  10   \n",
      "\n",
      "                       \n",
      "          D         E  \n",
      "B                      \n",
      "f -0.864268  0.061444  \n",
      "h -1.495876  0.700651  \n",
      "     C                       D                                       E  \\\n",
      "  mean sum amax amin      mean       sum      amax      amin      mean   \n",
      "B                                                                        \n",
      "f   21  84   24   18  0.432646  1.730582  1.155136 -0.864268  0.490003   \n",
      "h   13  52   16   10 -0.582802 -2.331208  0.669766 -1.495876  0.756176   \n",
      "\n",
      "                                 \n",
      "        sum      amax      amin  \n",
      "B                                \n",
      "f  1.960013  0.907156  0.061444  \n",
      "h  3.024702  0.840591  0.700651  \n"
     ]
    },
    {
     "name": "stderr",
     "output_type": "stream",
     "text": [
      "D:\\Anaconda3\\lib\\site-packages\\pandas\\core\\groupby.py:4036: FutureWarning: using a dict with renaming is deprecated and will be removed in a future version\n",
      "  return super(DataFrameGroupBy, self).aggregate(arg, *args, **kwargs)\n"
     ]
    }
   ],
   "source": [
    "df = pd.DataFrame({'A' : ['one', 'two', 'three', 'one','two', 'three', 'one', 'two'],\n",
    "                   'B' : ['h', 'h', 'h', 'h', 'f', 'f', 'f', 'f'],\n",
    "                   'C' : np.arange(10,26,2),\n",
    "                   'D' : np.random.randn(8),\n",
    "                   'E':np.random.rand(8)})\n",
    "\n",
    "print (df)\n",
    "print (df.groupby('A').mean())\n",
    "print (df.groupby(['A','B']).sum())\n",
    "print (df.groupby('A').groups)\n",
    "print (df.groupby(df.dtypes,axis=1).sum())\n",
    "print (df.groupby({'C':'r','D':'r'},axis=1).sum())\n",
    "print (df.groupby('B')[['C','D','E']].agg({'re1':np.mean,'re2':np.sum,'re3':np.max,'re4':np.min}))\n",
    "print (df.groupby('B').agg([np.mean,np.sum,np.max,np.min]))"
   ]
  },
  {
   "cell_type": "code",
   "execution_count": 81,
   "metadata": {},
   "outputs": [
    {
     "name": "stdout",
     "output_type": "stream",
     "text": [
      "      data1     data2 key\n",
      "0  0.233786  0.832786   a\n",
      "1  0.160541  0.005708   a\n",
      "2  0.715063  0.667656   b\n",
      "3  0.598685  0.375832   b\n",
      "4  0.268073  0.108165   a\n",
      "5  0.558149  0.773478   b\n",
      "6  0.648371  0.930165   a\n",
      "7  0.665298  0.907982   b\n",
      "        data1     data2\n",
      "key                    \n",
      "a    0.327693  0.469206\n",
      "b    0.634299  0.681237\n",
      "meandf===\n",
      "      data1     data2 key  data1_mean  data2_mean\n",
      "0  0.233786  0.832786   a    0.327693    0.469206\n",
      "1  0.160541  0.005708   a    0.327693    0.469206\n",
      "4  0.268073  0.108165   a    0.327693    0.469206\n",
      "6  0.648371  0.930165   a    0.327693    0.469206\n",
      "2  0.715063  0.667656   b    0.634299    0.681237\n",
      "3  0.598685  0.375832   b    0.634299    0.681237\n",
      "5  0.558149  0.773478   b    0.634299    0.681237\n",
      "7  0.665298  0.907982   b    0.634299    0.681237\n",
      "df2===\n",
      "      data1     data2 key  data1_mean  data2_mean\n",
      "0  0.233786  0.832786   a    0.327693    0.469206\n",
      "1  0.160541  0.005708   a    0.327693    0.469206\n",
      "2  0.715063  0.667656   b    0.634299    0.681237\n",
      "3  0.598685  0.375832   b    0.634299    0.681237\n",
      "4  0.268073  0.108165   a    0.327693    0.469206\n",
      "5  0.558149  0.773478   b    0.634299    0.681237\n",
      "6  0.648371  0.930165   a    0.327693    0.469206\n",
      "7  0.665298  0.907982   b    0.634299    0.681237\n",
      "df2===\n",
      "      data1     data2\n",
      "0  0.327693  0.469206\n",
      "1  0.327693  0.469206\n",
      "2  0.634299  0.681237\n",
      "3  0.634299  0.681237\n",
      "4  0.327693  0.469206\n",
      "5  0.634299  0.681237\n",
      "6  0.327693  0.469206\n",
      "7  0.634299  0.681237\n",
      "df1===\n",
      "      data1     data2 key  data1_mean  data2_mean\n",
      "0  0.233786  0.832786   a    0.327693    0.469206\n",
      "1  0.160541  0.005708   a    0.327693    0.469206\n",
      "2  0.715063  0.667656   b    0.634299    0.681237\n",
      "3  0.598685  0.375832   b    0.634299    0.681237\n",
      "4  0.268073  0.108165   a    0.327693    0.469206\n",
      "5  0.558149  0.773478   b    0.634299    0.681237\n",
      "6  0.648371  0.930165   a    0.327693    0.469206\n",
      "7  0.665298  0.907982   b    0.634299    0.681237\n",
      "df3===\n"
     ]
    }
   ],
   "source": [
    "df = pd.DataFrame({'data1':np.random.rand(8),\n",
    "                    'data2':np.random.rand(8),\n",
    "                    'key':list('aabbabab')})\n",
    "print(df)\n",
    "meandf = df.groupby('key').mean()\n",
    "print(meandf)\n",
    "print('meandf===')\n",
    "df2 = pd.merge(df,meandf,left_on='key',right_index=True,suffixes=('', '_mean'))\n",
    "print(df2)\n",
    "print('df2===')\n",
    "df2 = df.join(meandf,on='key',rsuffix='_mean')\n",
    "print(df2)\n",
    "print('df2===')\n",
    "df1 = df.groupby('key').transform(np.mean)\n",
    "print(df1)\n",
    "print('df1===')\n",
    "df3 = df.join(df1,rsuffix='_mean')\n",
    "print(df3)\n",
    "print('df3===')"
   ]
  },
  {
   "cell_type": "code",
   "execution_count": 84,
   "metadata": {},
   "outputs": [
    {
     "name": "stdout",
     "output_type": "stream",
     "text": [
      "       A  B   C         D         E\n",
      "0    one  h  10  0.324774  0.529603\n",
      "1    two  h  12 -0.159920  0.750208\n",
      "2  three  h  14  0.732465  0.787436\n",
      "3    one  h  16 -0.133052  0.077737\n",
      "4    two  f  18 -0.912563  0.461846\n",
      "5  three  f  20 -0.927860  0.735417\n",
      "6    one  f  22  0.426971  0.094458\n",
      "7    two  f  24 -0.433759  0.214514\n",
      "        C         D\n",
      "A                  \n",
      "one    48  0.618693\n",
      "three  34 -0.195394\n",
      "two    54 -1.506243\n",
      "             mean                 sum          \n",
      "                E         E         E         E\n",
      "A     B                                        \n",
      "one   f  0.094458  0.094458  0.094458  0.094458\n",
      "      h  0.303670  0.303670  0.607339  0.607339\n",
      "three f  0.735417  0.735417  0.735417  0.735417\n",
      "      h  0.787436  0.787436  0.787436  0.787436\n",
      "two   f  0.338180  0.338180  0.676360  0.676360\n",
      "      h  0.750208  0.750208  0.750208  0.750208\n",
      "A  one  three  two\n",
      "B                 \n",
      "f    1      1    2\n",
      "h    2      1    1\n"
     ]
    }
   ],
   "source": [
    "df = pd.DataFrame({'A' : ['one', 'two', 'three', 'one','two', 'three', 'one', 'two'],\n",
    "                   'B' : ['h', 'h', 'h', 'h', 'f', 'f', 'f', 'f'],\n",
    "                   'C' : np.arange(10,26,2),\n",
    "                   'D' : np.random.randn(8),\n",
    "                   'E':np.random.rand(8)})\n",
    "\n",
    "print(df)\n",
    "print(pd.pivot_table(df,values=['C','D'],index='A',aggfunc=np.sum))\n",
    "print(pd.pivot_table(df,values=['E','E'],index=['A','B'],aggfunc=[np.mean,np.sum]))\n",
    "print(pd.crosstab(df['B'],df['A']))"
   ]
  },
  {
   "cell_type": "code",
   "execution_count": null,
   "metadata": {
    "collapsed": true
   },
   "outputs": [],
   "source": []
  }
 ],
 "metadata": {
  "kernelspec": {
   "display_name": "Python 3",
   "language": "python",
   "name": "python3"
  },
  "language_info": {
   "codemirror_mode": {
    "name": "ipython",
    "version": 3
   },
   "file_extension": ".py",
   "mimetype": "text/x-python",
   "name": "python",
   "nbconvert_exporter": "python",
   "pygments_lexer": "ipython3",
   "version": "3.6.3"
  }
 },
 "nbformat": 4,
 "nbformat_minor": 2
}
