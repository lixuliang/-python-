{
 "cells": [
  {
   "cell_type": "code",
   "execution_count": 1,
   "metadata": {},
   "outputs": [
    {
     "data": {
      "text/plain": [
       "'\\n【课程1.2】Numpy基础数据结构\\n'"
      ]
     },
     "execution_count": 1,
     "metadata": {},
     "output_type": "execute_result"
    }
   ],
   "source": [
    "'''\n",
    "【课程1.2】Numpy基础数据结构\n",
    "'''"
   ]
  },
  {
   "cell_type": "code",
   "execution_count": 6,
   "metadata": {},
   "outputs": [
    {
     "name": "stdout",
     "output_type": "stream",
     "text": [
      "[1 2 3 4 5 6 7] 1 2 (7,) (3, 3) 7 9 int32 4 <memory at 0x0000016DC6A47588>\n"
     ]
    }
   ],
   "source": [
    "import numpy as np\n",
    "\n",
    "ar = np.array([1,2,3,4,5,6,7])\n",
    "ar2 = np.array([[1,2,3],[2,3,4],[6,7,8]])\n",
    "print(ar,ar.ndim,ar2.ndim,ar.shape,ar2.shape,ar.size,ar2.size,ar.dtype,ar.itemsize,ar.data)"
   ]
  },
  {
   "cell_type": "code",
   "execution_count": 10,
   "metadata": {},
   "outputs": [
    {
     "name": "stdout",
     "output_type": "stream",
     "text": [
      "[0 1 2 3 4 5 6 7 8 9] [0 1 2 3 4 5 6 7 8 9] [1 2 3] [['1' '2' '3']\n",
      " ['4' '5' '6']\n",
      " ['a' 'b' 'c']] [list([1, 2, 3]) ('a', 'b', 'v', 'd')]\n",
      "(3, 3) (2,)\n"
     ]
    }
   ],
   "source": [
    "ar1=np.array(range(10))\n",
    "ar1_1=np.arange(10)\n",
    "ar2=np.array([1,2,3])\n",
    "ar3=np.array([[1,2,3],[4,5,6],('a','b','c')])\n",
    "ar4=np.array([[1,2,3],('a','b','v','d')])\n",
    "print (ar1,ar1_1,ar2,ar3,ar4)\n",
    "print (ar3.shape,ar4.shape)"
   ]
  },
  {
   "cell_type": "code",
   "execution_count": 15,
   "metadata": {},
   "outputs": [
    {
     "name": "stdout",
     "output_type": "stream",
     "text": [
      "[ 20.   20.5  21.   21.5  22.   22.5  23.   23.5  24.   24.5  25.   25.5\n",
      "  26.   26.5  27.   27.5  28.   28.5  29.   29.5]\n"
     ]
    }
   ],
   "source": [
    "ar = np.linspace(20, 30, num=20, endpoint=False)\n",
    "print(ar)"
   ]
  },
  {
   "cell_type": "code",
   "execution_count": 19,
   "metadata": {},
   "outputs": [
    {
     "name": "stdout",
     "output_type": "stream",
     "text": [
      "[[ 0.  0.]\n",
      " [ 0.  0.]\n",
      " [ 0.  0.]\n",
      " [ 0.  0.]\n",
      " [ 0.  0.]]\n",
      "[[ 0.  0.]\n",
      " [ 0.  0.]\n",
      " [ 0.  0.]\n",
      " [ 0.  0.]\n",
      " [ 0.  0.]] [[ 0.  0.]\n",
      " [ 0.  0.]\n",
      " [ 0.  0.]\n",
      " [ 0.  0.]\n",
      " [ 0.  0.]]\n"
     ]
    }
   ],
   "source": [
    "ar1 = np.zeros((5,2))  \n",
    "print (ar1)\n",
    "\n",
    "t = ar1.shape\n",
    "ar2 = np.zeros(t)\n",
    "ar2_2 = np.zeros_like(ar1)\n",
    "print (ar2,ar2_2)"
   ]
  },
  {
   "cell_type": "code",
   "execution_count": 20,
   "metadata": {},
   "outputs": [
    {
     "data": {
      "text/plain": [
       "'\\n【课程1.3  Numpy通用函数】 课程作业\\n'"
      ]
     },
     "execution_count": 20,
     "metadata": {},
     "output_type": "execute_result"
    }
   ],
   "source": [
    "'''\n",
    "【课程1.3  Numpy通用函数】 课程作业\n",
    "'''"
   ]
  },
  {
   "cell_type": "code",
   "execution_count": 22,
   "metadata": {},
   "outputs": [
    {
     "name": "stdout",
     "output_type": "stream",
     "text": [
      "[[ 0  1  2  3  4]\n",
      " [ 5  6  7  8  9]\n",
      " [10 11 12 13 14]\n",
      " [15 16 17 18 19]] \n",
      "-------\n",
      "[[ 0  1  2  3]\n",
      " [ 4  5  6  7]\n",
      " [ 8  9 10 11]] \n",
      "-------\n"
     ]
    }
   ],
   "source": [
    "ar = np.arange(20)\n",
    "print(ar.reshape(4,5), '\\n-------')\n",
    "print(np.resize(ar,(3,4)), '\\n-------')"
   ]
  },
  {
   "cell_type": "code",
   "execution_count": 26,
   "metadata": {},
   "outputs": [
    {
     "name": "stdout",
     "output_type": "stream",
     "text": [
      "[['0' '1' '2' '3']\n",
      " ['4' '5' '6' '7']\n",
      " ['8' '9' '10' '11']\n",
      " ['12' '13' '14' '15']]\n"
     ]
    }
   ],
   "source": [
    "ar=np.arange(16).reshape(4,4)\n",
    "print (ar.astype(np.str))"
   ]
  },
  {
   "cell_type": "code",
   "execution_count": 36,
   "metadata": {},
   "outputs": [
    {
     "name": "stdout",
     "output_type": "stream",
     "text": [
      "True\n",
      "True\n",
      "[0 1 9 3 4 5 6 7 8 9] [0 1 9 3 4 5 6 7 8 9]\n",
      "False\n",
      "False\n",
      "[[0 1 2 3 4 5 6]\n",
      " [7 8 9 0 1 2 3]]\n",
      "None\n",
      "[[0 1 2 3 4 5 6]\n",
      " [7 8 9 0 0 0 0]]\n",
      "[[0 1 2 3 4]\n",
      " [5 6 7 8 9]]\n",
      "[[0 1 2 3 4]\n",
      " [5 6 7 8 9]] ***\n",
      "[0 1 2 3 4 5 6 7 8 9]\n"
     ]
    }
   ],
   "source": [
    "ar1 = np.arange(10)\n",
    "ar2 = ar1\n",
    "print(ar2 is ar1)\n",
    "ar1[2] = 9\n",
    "print(ar1 is ar2)\n",
    "\n",
    "ar3 = ar1.copy()\n",
    "print (ar1, ar3)\n",
    "print(ar3 is ar1)\n",
    "ar1[0] = 9\n",
    "print(ar1 is ar3)\n",
    "\n",
    "s=np.arange(10)\n",
    "print (np.resize(s,(2,7)))\n",
    "print (s.resize(2,7))\n",
    "print (s)\n",
    "\n",
    "s2=np.arange(10)\n",
    "print (np.reshape(s2,(2,5)))\n",
    "print (s2.reshape(2,5),'***')\n",
    "print (s2)"
   ]
  },
  {
   "cell_type": "code",
   "execution_count": 37,
   "metadata": {},
   "outputs": [
    {
     "name": "stdout",
     "output_type": "stream",
     "text": [
      "[0 1 2 3 4] (5,)\n",
      "[5 6 7 8] (4,)\n",
      "[0 1 2 3 4 5 6 7 8] (9,)\n",
      "[[1]\n",
      " [2]\n",
      " [3]] (3, 1)\n",
      "[['a']\n",
      " ['b']\n",
      " ['c']] (3, 1)\n",
      "[['1' 'a']\n",
      " ['2' 'b']\n",
      " ['3' 'c']] (3, 2)\n",
      "-----\n"
     ]
    }
   ],
   "source": [
    "a = np.arange(5)    # a为一维数组，5个元素\n",
    "b = np.arange(5,9) # b为一维数组,4个元素\n",
    "ar1 = np.hstack((a,b))  # 注意:((a,b))，这里形状可以不一样\n",
    "print(a,a.shape)\n",
    "print(b,b.shape)\n",
    "print(ar1,ar1.shape)\n",
    "a = np.array([[1],[2],[3]])   # a为二维数组，3行1列\n",
    "b = np.array([['a'],['b'],['c']])  # b为二维数组，3行1列\n",
    "ar2 = np.hstack((a,b))  # 注意:((a,b))，这里形状必须一样\n",
    "print(a,a.shape)\n",
    "print(b,b.shape)\n",
    "print(ar2,ar2.shape)\n",
    "print('-----')"
   ]
  },
  {
   "cell_type": "code",
   "execution_count": 38,
   "metadata": {},
   "outputs": [
    {
     "name": "stdout",
     "output_type": "stream",
     "text": [
      "[0 1 2 3 4] (5,)\n",
      "[5 6 7 8 9] (5,)\n",
      "[[0 1 2 3 4]\n",
      " [5 6 7 8 9]] (2, 5)\n",
      "[[1]\n",
      " [2]\n",
      " [3]] (3, 1)\n",
      "[['a']\n",
      " ['b']\n",
      " ['c']\n",
      " ['d']] (4, 1)\n",
      "[['1']\n",
      " ['2']\n",
      " ['3']\n",
      " ['a']\n",
      " ['b']\n",
      " ['c']\n",
      " ['d']] (7, 1)\n",
      "-----\n"
     ]
    }
   ],
   "source": [
    "a = np.arange(5)    \n",
    "b = np.arange(5,10)\n",
    "ar1 = np.vstack((a,b))\n",
    "print(a,a.shape)\n",
    "print(b,b.shape)\n",
    "print(ar1,ar1.shape)\n",
    "a = np.array([[1],[2],[3]])   \n",
    "b = np.array([['a'],['b'],['c'],['d']])   \n",
    "ar2 = np.vstack((a,b))  # 这里形状可以不一样\n",
    "print(a,a.shape)\n",
    "print(b,b.shape)\n",
    "print(ar2,ar2.shape)\n",
    "print('-----')"
   ]
  },
  {
   "cell_type": "code",
   "execution_count": 39,
   "metadata": {},
   "outputs": [
    {
     "name": "stdout",
     "output_type": "stream",
     "text": [
      "[0 1 2 3 4] (5,)\n",
      "[5 6 7 8 9] (5,)\n",
      "[[0 1 2 3 4]\n",
      " [5 6 7 8 9]] (2, 5)\n",
      "[[0 5]\n",
      " [1 6]\n",
      " [2 7]\n",
      " [3 8]\n",
      " [4 9]] (5, 2)\n"
     ]
    }
   ],
   "source": [
    "a = np.arange(5)    \n",
    "b = np.arange(5,10)\n",
    "ar1 = np.stack((a,b))\n",
    "ar2 = np.stack((a,b),axis = 1)\n",
    "print(a,a.shape)\n",
    "print(b,b.shape)\n",
    "print(ar1,ar1.shape)\n",
    "print(ar2,ar2.shape)"
   ]
  },
  {
   "cell_type": "code",
   "execution_count": 40,
   "metadata": {},
   "outputs": [
    {
     "name": "stdout",
     "output_type": "stream",
     "text": [
      "[[ 0  1  2  3]\n",
      " [ 4  5  6  7]\n",
      " [ 8  9 10 11]\n",
      " [12 13 14 15]]\n",
      "[array([[ 0,  1],\n",
      "       [ 4,  5],\n",
      "       [ 8,  9],\n",
      "       [12, 13]]), array([[ 2,  3],\n",
      "       [ 6,  7],\n",
      "       [10, 11],\n",
      "       [14, 15]])] <class 'list'>\n",
      "[array([[0, 1, 2, 3]]), array([[4, 5, 6, 7]]), array([[ 8,  9, 10, 11]]), array([[12, 13, 14, 15]])] <class 'list'>\n"
     ]
    }
   ],
   "source": [
    "# 数组拆分 \n",
    "\n",
    "ar = np.arange(16).reshape(4,4)\n",
    "ar1 = np.hsplit(ar,2)\n",
    "print(ar)\n",
    "print(ar1,type(ar1))\n",
    "# numpy.hsplit(ary, indices_or_sections)：将数组水平（逐列）拆分为多个子数组 → 按列拆分\n",
    "# 输出结果为列表，列表中元素为数组\n",
    "\n",
    "ar2 = np.vsplit(ar,4)\n",
    "print(ar2,type(ar2))\n",
    "# numpy.vsplit(ary, indices_or_sections)：:将数组垂直（行方向）拆分为多个子数组 → 按行拆"
   ]
  },
  {
   "cell_type": "code",
   "execution_count": 45,
   "metadata": {},
   "outputs": [
    {
     "name": "stdout",
     "output_type": "stream",
     "text": [
      "[[10 11 12]\n",
      " [13 14 15]]\n",
      "[[ 0  2  4]\n",
      " [ 6  8 10]]\n",
      "[[ 1.          0.5         0.33333333]\n",
      " [ 0.25        0.2         0.16666667]]\n",
      "[[ 0.          1.          1.41421356]\n",
      " [ 1.73205081  2.          2.23606798]]\n",
      "2.5\n",
      "5\n",
      "0\n",
      "1.70782512766\n",
      "2.91666666667\n",
      "----\n",
      "[[0 1 2]\n",
      " [3 4 5]]\n",
      "15 [3 5 7]\n",
      "[ 3 12]\n",
      "[1 2 3 4 5 6]\n"
     ]
    }
   ],
   "source": [
    "# 数组简单运算\n",
    "\n",
    "ar = np.arange(6).reshape(2,3)\n",
    "print(ar + 10)   # 加法\n",
    "print(ar * 2)   # 乘法\n",
    "print(1 / (ar+1))  # 除法\n",
    "print(ar ** 0.5)  # 幂\n",
    "# 与标量的运算\n",
    "\n",
    "print(ar.mean())  # 求平均值\n",
    "print(ar.max())  # 求最大值\n",
    "print(ar.min())  # 求最小值\n",
    "print(ar.std())  # 求标准差\n",
    "print(ar.var())  # 求方差\n",
    "print ('----')\n",
    "print (ar)\n",
    "print(ar.sum(), np.sum(ar,axis = 0))  # 求和，np.sum() → axis为0，按列求和；axis为1，按行求和\n",
    "print(np.sum(ar,axis = 1))\n",
    "print(np.sort(np.array([1,4,3,2,5,6])))  # 排序"
   ]
  },
  {
   "cell_type": "code",
   "execution_count": 46,
   "metadata": {},
   "outputs": [
    {
     "data": {
      "text/plain": [
       "'\\n【课程1.4】  Numpy索引及切片\\n'"
      ]
     },
     "execution_count": 46,
     "metadata": {},
     "output_type": "execute_result"
    }
   ],
   "source": [
    "'''\n",
    "【课程1.4】  Numpy索引及切片\n",
    "'''"
   ]
  },
  {
   "cell_type": "code",
   "execution_count": 54,
   "metadata": {},
   "outputs": [
    {
     "name": "stdout",
     "output_type": "stream",
     "text": [
      "[ 0  1  2  3  4  5  6  7  8  9 10 11 12 13 14 15 16 17 18 19]\n",
      "4\n",
      "[3 4 5]\n",
      "-----\n",
      "[[ 0  1  2  3]\n",
      " [ 4  5  6  7]\n",
      " [ 8  9 10 11]\n",
      " [12 13 14 15]]\n",
      "[ 8  9 10 11] 数组轴数为1\n",
      "[[ 4  5  6  7]\n",
      " [ 8  9 10 11]] 数组轴数为2\n",
      "[[1 2 3]\n",
      " [5 6 7]]\n",
      "[ 1  5  9 13]\n",
      "6 6\n",
      "15 15\n"
     ]
    }
   ],
   "source": [
    "ar = np.arange(20)\n",
    "print(ar)\n",
    "print(ar[4])\n",
    "print(ar[3:6])\n",
    "print('-----')\n",
    "\n",
    "ar = np.arange(16).reshape(4,4)\n",
    "print(ar)\n",
    "print(ar[2],  '数组轴数为%i' %ar[2].ndim)  # 切片为下一维度的一个元素，所以是一维数组\n",
    "print(ar[1:3],  '数组轴数为%i' %ar[1:3].ndim)  # 切片为两个一维数组组成的二维数组\n",
    "print(ar[:2,1:])  # 切片数组中的1,2行、2,3,4列 → 二维数组\n",
    "print(ar[:,1])\n",
    "print(ar[1][2],ar[1,2])\n",
    "\n",
    "ar=np.arange(16).reshape(2,2,2,2)\n",
    "print (ar[1,1,1,1],ar[1][1][1][1])"
   ]
  },
  {
   "cell_type": "code",
   "execution_count": 57,
   "metadata": {},
   "outputs": [
    {
     "name": "stdout",
     "output_type": "stream",
     "text": [
      "[[ 0  1  2  3]\n",
      " [ 4  5  6  7]\n",
      " [ 8  9 10 11]]\n",
      "[ True False  True]\n",
      "[ True  True False False]\n",
      "[[ 0  1  2  3]\n",
      " [ 8  9 10 11]]\n",
      "[[0 1]\n",
      " [4 5]\n",
      " [8 9]]\n",
      "[[False False False False]\n",
      " [False False  True  True]\n",
      " [ True  True  True  True]]\n",
      "[ 6  7  8  9 10 11]\n"
     ]
    }
   ],
   "source": [
    "ar = np.arange(12).reshape(3,4)\n",
    "i = np.array([True,False,True])\n",
    "j = np.array([True,True,False,False])\n",
    "print(ar)\n",
    "print(i)\n",
    "print(j)\n",
    "print (ar[i,:])\n",
    "print (ar[:,j])\n",
    "\n",
    "m=ar>5\n",
    "print(m)\n",
    "print(ar[m])"
   ]
  },
  {
   "cell_type": "code",
   "execution_count": 58,
   "metadata": {},
   "outputs": [
    {
     "name": "stdout",
     "output_type": "stream",
     "text": [
      "[0 1 2 3 4 5 6 7 8 9]\n",
      "[  0   1   2   3   4 100   6 200 200   9]\n",
      "[0 1 2 3 4 5 6 7 8 9]\n",
      "[  0   1   2   3   4   5   6 200 200   9]\n"
     ]
    }
   ],
   "source": [
    "# 数组索引及切片的值更改、复制\n",
    "\n",
    "ar = np.arange(10)\n",
    "print(ar)\n",
    "ar[5] = 100\n",
    "ar[7:9] = 200\n",
    "print(ar)\n",
    "# 一个标量赋值给一个索引/切片时，会自动改变/传播原始数组\n",
    "\n",
    "ar = np.arange(10)\n",
    "b = ar.copy()\n",
    "b[7:9] = 200\n",
    "print(ar)\n",
    "print(b)\n",
    "# 复制"
   ]
  },
  {
   "cell_type": "code",
   "execution_count": 59,
   "metadata": {},
   "outputs": [
    {
     "data": {
      "text/plain": [
       "'\\n【课程1.5】  Numpy随机数\\n'"
      ]
     },
     "execution_count": 59,
     "metadata": {},
     "output_type": "execute_result"
    }
   ],
   "source": [
    "'''\n",
    "【课程1.5】  Numpy随机数\n",
    "'''"
   ]
  },
  {
   "cell_type": "code",
   "execution_count": 60,
   "metadata": {},
   "outputs": [
    {
     "name": "stdout",
     "output_type": "stream",
     "text": [
      "[[  3.13362539e-01   6.70672183e-01  -1.10526009e+00  -3.97041220e-01]\n",
      " [ -2.36961010e+00  -4.87748618e-01  -1.73414890e+00   8.38657004e-01]\n",
      " [  2.10467869e+00   1.88730895e-01   2.01384931e+00   1.33681450e+00]\n",
      " [ -3.14456757e-01  -6.04867859e-02   4.13108064e-01  -1.95784006e-03]]\n"
     ]
    }
   ],
   "source": [
    "samples = np.random.normal(size=(4,4))\n",
    "print(samples)"
   ]
  },
  {
   "cell_type": "code",
   "execution_count": 63,
   "metadata": {},
   "outputs": [
    {
     "name": "stdout",
     "output_type": "stream",
     "text": [
      "0.030629375815149795 <class 'float'>\n",
      "[ 0.94135848  0.58455285  0.79548958  0.33614383] <class 'numpy.ndarray'>\n",
      "[[ 0.23125624  0.2574456   0.92099976]\n",
      " [ 0.66553453  0.43086075  0.17312341]] <class 'numpy.ndarray'>\n"
     ]
    },
    {
     "data": {
      "text/plain": [
       "<matplotlib.collections.PathCollection at 0x16dc6bcf6a0>"
      ]
     },
     "execution_count": 63,
     "metadata": {},
     "output_type": "execute_result"
    },
    {
     "data": {
      "image/png": "[encoded data removed]",
      "text/plain": [
       "<matplotlib.figure.Figure at 0x16dc7749978>"
      ]
     },
     "metadata": {},
     "output_type": "display_data"
    }
   ],
   "source": [
    "import matplotlib.pyplot as plt\n",
    "% matplotlib inline\n",
    "\n",
    "a = np.random.rand()\n",
    "print(a,type(a))  # 生成一个随机浮点数\n",
    "\n",
    "b = np.random.rand(4)\n",
    "print(b,type(b))  # 生成形状为4的一维数组\n",
    "\n",
    "c = np.random.rand(2,3)\n",
    "print(c,type(c))  # 生成形状为2*3的二维数组，注意这里不是((2,3))\n",
    "\n",
    "samples1 = np.random.rand(1000)\n",
    "samples2 = np.random.rand(1000)\n",
    "plt.scatter(samples1,samples2)\n",
    "# 生成1000个均匀分布的样本值"
   ]
  },
  {
   "cell_type": "code",
   "execution_count": 64,
   "metadata": {},
   "outputs": [
    {
     "data": {
      "text/plain": [
       "<matplotlib.collections.PathCollection at 0x16dc8567c18>"
      ]
     },
     "execution_count": 64,
     "metadata": {},
     "output_type": "execute_result"
    },
    {
     "data": {
      "image/png": "[encoded data removed]",
      "text/plain": [
       "<matplotlib.figure.Figure at 0x16dc6bbbf98>"
      ]
     },
     "metadata": {},
     "output_type": "display_data"
    }
   ],
   "source": [
    "samples1 = np.random.randn(1000)\n",
    "samples2 = np.random.randn(1000)\n",
    "plt.scatter(samples1,samples2)"
   ]
  },
  {
   "cell_type": "code",
   "execution_count": 65,
   "metadata": {},
   "outputs": [
    {
     "name": "stdout",
     "output_type": "stream",
     "text": [
      "1\n",
      "[1 0 0 1 1]\n",
      "[5 4 4 3 2]\n",
      "[[1 1 1]\n",
      " [0 0 1]]\n",
      "[[3 3 5]\n",
      " [3 3 5]]\n"
     ]
    }
   ],
   "source": [
    "print(np.random.randint(2))\n",
    "# low=2：生成1个[0,2)之间随机整数  \n",
    "\n",
    "print(np.random.randint(2,size=5))\n",
    "# low=2,size=5 ：生成5个[0,2)之间随机整数\n",
    "\n",
    "print(np.random.randint(2,6,size=5))\n",
    "# low=2,high=6,size=5：生成5个[2,6)之间随机整数  \n",
    "\n",
    "print(np.random.randint(2,size=(2,3)))\n",
    "# low=2,size=(2,3)：生成一个2x3整数数组,取数范围：[0,2)随机整数 \n",
    "\n",
    "print(np.random.randint(2,6,(2,3)))\n",
    "# low=2,high=6,size=(2,3)：生成一个2*3整数数组,取值范围：[2,6)随机整数  "
   ]
  },
  {
   "cell_type": "code",
   "execution_count": 66,
   "metadata": {},
   "outputs": [
    {
     "data": {
      "text/plain": [
       "'\\n【课程1.6】  Numpy数据的输入输出\\n'"
      ]
     },
     "execution_count": 66,
     "metadata": {},
     "output_type": "execute_result"
    }
   ],
   "source": [
    "'''\n",
    "【课程1.6】  Numpy数据的输入输出\n",
    "'''"
   ]
  },
  {
   "cell_type": "code",
   "execution_count": 68,
   "metadata": {},
   "outputs": [
    {
     "name": "stdout",
     "output_type": "stream",
     "text": [
      "[[ 0.65302223  0.78477436  0.06778374  0.00156273  0.11812304]\n",
      " [ 0.91583204  0.79477116  0.60673022  0.5080857   0.17054317]\n",
      " [ 0.37690384  0.86020049  0.35743378  0.64765618  0.54782947]\n",
      " [ 0.49444918  0.70277142  0.15277846  0.12409761  0.60081639]\n",
      " [ 0.28946018  0.74833466  0.10350039  0.78174104  0.95389723]]\n"
     ]
    }
   ],
   "source": [
    "import os\n",
    "os.chdir('C:/Users/hp/Desktop/')\n",
    "\n",
    "ar = np.random.rand(5,5)\n",
    "print(ar)\n",
    "np.save('data.npy',ar)"
   ]
  },
  {
   "cell_type": "code",
   "execution_count": 69,
   "metadata": {},
   "outputs": [
    {
     "name": "stdout",
     "output_type": "stream",
     "text": [
      "[[ 0.65302223  0.78477436  0.06778374  0.00156273  0.11812304]\n",
      " [ 0.91583204  0.79477116  0.60673022  0.5080857   0.17054317]\n",
      " [ 0.37690384  0.86020049  0.35743378  0.64765618  0.54782947]\n",
      " [ 0.49444918  0.70277142  0.15277846  0.12409761  0.60081639]\n",
      " [ 0.28946018  0.74833466  0.10350039  0.78174104  0.95389723]]\n"
     ]
    }
   ],
   "source": [
    "ar_load = np.load('data.npy')\n",
    "print (ar_load)"
   ]
  },
  {
   "cell_type": "code",
   "execution_count": 70,
   "metadata": {
    "collapsed": true
   },
   "outputs": [],
   "source": [
    "ar = np.random.rand(5,5)\n",
    "np.savetxt('array.txt',ar,delimiter=',')"
   ]
  },
  {
   "cell_type": "code",
   "execution_count": null,
   "metadata": {
    "collapsed": true
   },
   "outputs": [],
   "source": []
  }
 ],
 "metadata": {
  "kernelspec": {
   "display_name": "Python 3",
   "language": "python",
   "name": "python3"
  },
  "language_info": {
   "codemirror_mode": {
    "name": "ipython",
    "version": 3
   },
   "file_extension": ".py",
   "mimetype": "text/x-python",
   "name": "python",
   "nbconvert_exporter": "python",
   "pygments_lexer": "ipython3",
   "version": "3.6.3"
  }
 },
 "nbformat": 4,
 "nbformat_minor": 2
}
