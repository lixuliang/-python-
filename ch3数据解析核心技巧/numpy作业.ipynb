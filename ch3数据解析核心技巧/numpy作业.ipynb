{
 "cells": [
  {
   "cell_type": "code",
   "execution_count": 1,
   "metadata": {
    "collapsed": true
   },
   "outputs": [],
   "source": [
    "import numpy as np\n",
    "import pandas as pd"
   ]
  },
  {
   "cell_type": "code",
   "execution_count": 2,
   "metadata": {},
   "outputs": [
    {
     "name": "stdout",
     "output_type": "stream",
     "text": [
      "[1 2 'a' 'hello' list([1, 2, 3]) {'one': 100, 'two': 200}] \n",
      "a1的shape为： (6,) \n",
      "-------\n",
      "[['0' '1' '2' '3' '4' '5']\n",
      " ['a' 'b' 'c' 'd' 'e' 'f']\n",
      " ['True' 'False' 'True' 'False' 'True' 'True']] \n",
      "a2的shape为： (3, 6) \n",
      "-------\n"
     ]
    }
   ],
   "source": [
    "ar1=np.array([1,2,'a','hello',[1,2,3],{'one':100,'two':200}])\n",
    "ar2=np.array([list(range(6)),\n",
    "              list('abcdef'),\n",
    "              [True, False, True, False, True, True]])\n",
    "print(ar1,'\\na1的shape为：',ar1.shape, '\\n-------')\n",
    "print(ar2,'\\na2的shape为：',ar2.shape, '\\n-------')"
   ]
  },
  {
   "cell_type": "code",
   "execution_count": 5,
   "metadata": {},
   "outputs": [
    {
     "name": "stdout",
     "output_type": "stream",
     "text": [
      "[  5.   6.   7.   8.   9.  10.  11.  12.  13.  14.] [ 5  6  7  8  9 10 11 12 13 14]\n"
     ]
    }
   ],
   "source": [
    "ar1 = np.linspace(5,15,10,endpoint=False)\n",
    "ar2 = np.arange(5,15)\n",
    "print (ar1,ar2)"
   ]
  },
  {
   "cell_type": "code",
   "execution_count": 8,
   "metadata": {},
   "outputs": [
    {
     "name": "stdout",
     "output_type": "stream",
     "text": [
      "[[ 0.  0.  0.  0.]\n",
      " [ 0.  0.  0.  0.]\n",
      " [ 0.  0.  0.  0.]\n",
      " [ 0.  0.  0.  0.]] [[ 1.  1.  1.]\n",
      " [ 1.  1.  1.]] [[1 0 0]\n",
      " [0 1 0]\n",
      " [0 0 1]]\n"
     ]
    }
   ],
   "source": [
    "ar1=np.zeros((4,4))\n",
    "ar2=np.ones((2,3))\n",
    "ar3=np.eye(3,dtype=int)\n",
    "print (ar1,ar2,ar3)"
   ]
  },
  {
   "cell_type": "code",
   "execution_count": 9,
   "metadata": {},
   "outputs": [
    {
     "name": "stdout",
     "output_type": "stream",
     "text": [
      "[[ 0  1  2  3  4]\n",
      " [ 5  6  7  8  9]\n",
      " [10 11 12 13 14]\n",
      " [15 16 17 18 19]]\n",
      "[[ 0  1  2  3  4  5]\n",
      " [ 6  7  8  9 10 11]\n",
      " [12 13 14 15 16 17]\n",
      " [18 19  0  1  2  3]\n",
      " [ 4  5  6  7  8  9]]\n"
     ]
    }
   ],
   "source": [
    "ar=np.arange(20)\n",
    "print (ar.reshape(4,5))\n",
    "print (np.resize(ar,(5,6)))   #ar.resize本身修改，不返回"
   ]
  },
  {
   "cell_type": "code",
   "execution_count": 10,
   "metadata": {},
   "outputs": [
    {
     "name": "stdout",
     "output_type": "stream",
     "text": [
      "[['0' '1' '2' '3']\n",
      " ['4' '5' '6' '7']\n",
      " ['8' '9' '10' '11']\n",
      " ['12' '13' '14' '15']]\n"
     ]
    }
   ],
   "source": [
    "ar=np.arange(16).reshape(4,4)\n",
    "print (ar.astype(str))"
   ]
  },
  {
   "cell_type": "code",
   "execution_count": 12,
   "metadata": {},
   "outputs": [
    {
     "name": "stdout",
     "output_type": "stream",
     "text": [
      "[[100 110 120 130]\n",
      " [140 150 160 170]\n",
      " [180 190 200 210]\n",
      " [220 230 240 250]]\n",
      "175.0\n",
      "2800\n"
     ]
    }
   ],
   "source": [
    "ar=np.arange(16).reshape(4,4)\n",
    "\n",
    "result = ar*10+100\n",
    "print (result)\n",
    "print (result.mean())\n",
    "print (result.sum())"
   ]
  },
  {
   "cell_type": "code",
   "execution_count": 13,
   "metadata": {},
   "outputs": [
    {
     "name": "stdout",
     "output_type": "stream",
     "text": [
      "[20 21 22 23 24]\n",
      "[[3 4]\n",
      " [8 9]]\n",
      "17\n"
     ]
    }
   ],
   "source": [
    "ar=np.arange(25).reshape(5,5)\n",
    "print (ar[4])\n",
    "print(ar[:2,3:])\n",
    "print (ar[3][2])"
   ]
  },
  {
   "cell_type": "code",
   "execution_count": 15,
   "metadata": {},
   "outputs": [
    {
     "name": "stdout",
     "output_type": "stream",
     "text": [
      "[[0 1 2 3 4]\n",
      " [5 6 7 8 9]] \n",
      "-------\n",
      "大于5的值为： [6 7 8 9]\n",
      "大于5的值为： [6 7 8 9]\n"
     ]
    }
   ],
   "source": [
    "ar = np.arange(10).reshape(2,5)\n",
    "print(ar, '\\n-------')\n",
    "print('大于5的值为：',ar[ar>5])\n",
    "print('大于5的值为：',ar[[ar>5]])"
   ]
  },
  {
   "cell_type": "code",
   "execution_count": 18,
   "metadata": {},
   "outputs": [
    {
     "name": "stdout",
     "output_type": "stream",
     "text": [
      "[[  0.   1.   2.   3.   4.]\n",
      " [  5.   6.   7.   8.   9.]\n",
      " [ 10.  11.  12.  13.  14.]\n",
      " [ 15.  16.  17.  18.  19.]\n",
      " [ 20.  21.  22.  23.  24.]]\n",
      "[[  0.27110162   0.19690138   2.           3.           4.        ]\n",
      " [  0.23234746   0.43459901   7.           8.           9.        ]\n",
      " [ 10.          11.          12.          13.          14.        ]\n",
      " [ 15.          16.          17.          18.          19.        ]\n",
      " [ 20.          21.          22.          23.          24.        ]]\n"
     ]
    }
   ],
   "source": [
    "ar=np.arange(25,dtype=np.float32).reshape(5,5)\n",
    "print (ar)\n",
    "ar[:2,:2]=np.random.rand(2,2)\n",
    "print (ar)"
   ]
  },
  {
   "cell_type": "code",
   "execution_count": 22,
   "metadata": {},
   "outputs": [
    {
     "name": "stdout",
     "output_type": "stream",
     "text": [
      "[[-0.27825526  1.0232843  -0.75142383 -1.2532579   0.41065341]\n",
      " [-0.83238026 -0.11646198 -1.5150271   0.81121877  0.10350436]]\n",
      "[[ 0.23429174  1.7376537  -0.28805175  0.24122553  0.82603751]\n",
      " [-0.37253138  0.26773254  0.45113759  0.27451942  1.23642871]]\n"
     ]
    }
   ],
   "source": [
    "ar=np.random.normal(size=(2,5))\n",
    "print (ar)\n",
    "ar2=np.random.randn(2,5)\n",
    "print(ar2)"
   ]
  },
  {
   "cell_type": "code",
   "execution_count": 28,
   "metadata": {},
   "outputs": [],
   "source": [
    "ar=np.random.randint(0,100,size=(10,10))\n",
    "import os\n",
    "os.chdir('C:/Users/hp/Desktop/')\n",
    "np.savetxt('a.txt',ar,delimiter=',',fmt='%i')"
   ]
  },
  {
   "cell_type": "code",
   "execution_count": null,
   "metadata": {
    "collapsed": true
   },
   "outputs": [],
   "source": []
  }
 ],
 "metadata": {
  "kernelspec": {
   "display_name": "Python 3",
   "language": "python",
   "name": "python3"
  },
  "language_info": {
   "codemirror_mode": {
    "name": "ipython",
    "version": 3
   },
   "file_extension": ".py",
   "mimetype": "text/x-python",
   "name": "python",
   "nbconvert_exporter": "python",
   "pygments_lexer": "ipython3",
   "version": "3.6.3"
  }
 },
 "nbformat": 4,
 "nbformat_minor": 2
}
