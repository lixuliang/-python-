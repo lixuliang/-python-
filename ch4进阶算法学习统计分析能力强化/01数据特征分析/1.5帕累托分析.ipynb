{
 "cells": [
  {
   "cell_type": "code",
   "execution_count": 1,
   "metadata": {},
   "outputs": [
    {
     "data": {
      "text/plain": [
       "'\\n帕累托分析（贡献度分析） → 帕累托法则：20/80定律\\n'"
      ]
     },
     "execution_count": 1,
     "metadata": {},
     "output_type": "execute_result"
    }
   ],
   "source": [
    "'''\n",
    "帕累托分析（贡献度分析） → 帕累托法则：20/80定律\n",
    "'''"
   ]
  },
  {
   "cell_type": "code",
   "execution_count": 2,
   "metadata": {
    "collapsed": true
   },
   "outputs": [],
   "source": [
    "import numpy as np\n",
    "import pandas as pd\n",
    "import matplotlib.pyplot as plt\n",
    "% matplotlib inline"
   ]
  },
  {
   "cell_type": "code",
   "execution_count": 6,
   "metadata": {},
   "outputs": [
    {
     "name": "stdout",
     "output_type": "stream",
     "text": [
      "A    3654.738687\n",
      "B    3035.156706\n",
      "C    2918.166294\n",
      "D    1941.038217\n",
      "E    5141.837043\n",
      "F    3319.928556\n",
      "G    4603.742615\n",
      "H    3489.908140\n",
      "I    3895.608409\n",
      "J    3537.263745\n",
      "dtype: float64\n",
      "------\n",
      "E    0.144688\n",
      "G    0.274235\n",
      "I    0.383855\n",
      "A    0.486697\n",
      "J    0.586233\n",
      "H    0.684437\n",
      "F    0.777858\n",
      "B    0.863265\n",
      "C    0.945380\n",
      "D    1.000000\n",
      "dtype: float64 <class 'pandas.core.series.Series'>\n",
      "B <class 'str'>\n",
      "超过80%累计占比的节点值索引为： B\n",
      "超过80%累计占比的节点值索引位置为： 7\n",
      "------\n",
      "核心产品为：\n",
      "E    5141.837043\n",
      "G    4603.742615\n",
      "I    3895.608409\n",
      "A    3654.738687\n",
      "J    3537.263745\n",
      "H    3489.908140\n",
      "F    3319.928556\n",
      "B    3035.156706\n",
      "dtype: float64\n"
     ]
    },
    {
     "data": {
      "image/png": "[encoded data removed]",
      "text/plain": [
       "<matplotlib.figure.Figure at 0x1795577fcc0>"
      ]
     },
     "metadata": {},
     "output_type": "display_data"
    }
   ],
   "source": [
    "# 帕累托分布分析 \n",
    "\n",
    "data = pd.Series(np.random.randn(10)*1200+3000,\n",
    "                index = list('ABCDEFGHIJ'))\n",
    "print(data)\n",
    "print('------')\n",
    "# 创建数据，10个品类产品的销售额\n",
    "\n",
    "data.sort_values(ascending=False, inplace= True)\n",
    "# 由大到小排列\n",
    "\n",
    "plt.figure(figsize = (10,4))\n",
    "data.plot(kind = 'bar', color = 'g', alpha = 0.5, width = 0.7)  \n",
    "plt.ylabel('营收_元')\n",
    "# 创建营收柱状图\n",
    "\n",
    "p = data.cumsum()/data.sum()  # 创建累计占比，Series\n",
    "print (p,type(p))\n",
    "key = p[p>0.8].index[0] \n",
    "print (key,type(key))\n",
    "key_num = data.index.tolist().index(key) \n",
    "print('超过80%累计占比的节点值索引为：' ,key)\n",
    "print('超过80%累计占比的节点值索引位置为：' ,key_num)\n",
    "print('------')\n",
    "# 找到累计占比超过80%时候的index\n",
    "# 找到key所对应的索引位置\n",
    "\n",
    "p.plot(style = '--ko', secondary_y=True)  # secondary_y → y副坐标轴\n",
    "plt.axvline(key_num,hold=None,color='r',linestyle=\"--\",alpha=0.8)  \n",
    "plt.text(key_num+0.2,p[key],'累计占比为：%.3f%%' % (p[key]*100), color = 'r')  # 累计占比超过80%的节点\n",
    "plt.ylabel('营收_比例')\n",
    "# 绘制营收累计占比曲线\n",
    "\n",
    "key_product = data.loc[:key]\n",
    "print('核心产品为：')\n",
    "print(key_product)\n",
    "# 输出决定性因素产品"
   ]
  },
  {
   "cell_type": "code",
   "execution_count": null,
   "metadata": {
    "collapsed": true
   },
   "outputs": [],
   "source": []
  }
 ],
 "metadata": {
  "kernelspec": {
   "display_name": "Python 3",
   "language": "python",
   "name": "python3"
  },
  "language_info": {
   "codemirror_mode": {
    "name": "ipython",
    "version": 3
   },
   "file_extension": ".py",
   "mimetype": "text/x-python",
   "name": "python",
   "nbconvert_exporter": "python",
   "pygments_lexer": "ipython3",
   "version": "3.6.3"
  }
 },
 "nbformat": 4,
 "nbformat_minor": 2
}
