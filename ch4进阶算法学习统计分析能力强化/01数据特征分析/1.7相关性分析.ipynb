{
 "cells": [
  {
   "cell_type": "code",
   "execution_count": 1,
   "metadata": {},
   "outputs": [
    {
     "data": {
      "text/plain": [
       "'\\n【课程1.7】  相关性分析\\n'"
      ]
     },
     "execution_count": 1,
     "metadata": {},
     "output_type": "execute_result"
    }
   ],
   "source": [
    "'''\n",
    "【课程1.7】  相关性分析\n",
    "'''"
   ]
  },
  {
   "cell_type": "code",
   "execution_count": 2,
   "metadata": {
    "collapsed": true
   },
   "outputs": [],
   "source": [
    "import numpy as np\n",
    "import pandas as pd\n",
    "import matplotlib.pyplot as plt\n",
    "from scipy import stats\n",
    "% matplotlib inline"
   ]
  },
  {
   "cell_type": "code",
   "execution_count": 3,
   "metadata": {},
   "outputs": [
    {
     "data": {
      "image/png": "[encoded data removed]",
      "text/plain": [
       "<matplotlib.figure.Figure at 0x1a69ec54400>"
      ]
     },
     "metadata": {},
     "output_type": "display_data"
    }
   ],
   "source": [
    "# 图示初判\n",
    "# （1）变量之间的线性相关性\n",
    "\n",
    "data1 = pd.Series(np.random.rand(50)*100).sort_values()\n",
    "data2 = pd.Series(np.random.rand(50)*50).sort_values()\n",
    "data3 = pd.Series(np.random.rand(50)*500).sort_values(ascending = False)\n",
    "# 创建三个数据：data1为0-100的随机数并从小到大排列，data2为0-50的随机数并从小到大排列，data3为0-500的随机数并从大到小排列，\n",
    "\n",
    "fig = plt.figure(figsize = (10,4))\n",
    "ax1 = fig.add_subplot(1,2,1)\n",
    "ax1.scatter(data1, data2)\n",
    "plt.grid()\n",
    "# 正线性相关\n",
    "\n",
    "ax2 = fig.add_subplot(1,2,2)\n",
    "ax2.scatter(data1, data3)\n",
    "plt.grid()\n",
    "# 负线性相关"
   ]
  },
  {
   "cell_type": "code",
   "execution_count": 4,
   "metadata": {},
   "outputs": [
    {
     "name": "stderr",
     "output_type": "stream",
     "text": [
      "D:\\Anaconda3\\lib\\site-packages\\ipykernel_launcher.py:10: FutureWarning: pandas.scatter_matrix is deprecated. Use pandas.plotting.scatter_matrix instead\n",
      "  # Remove the CWD from sys.path while we load stuff.\n"
     ]
    },
    {
     "data": {
      "text/html": [
       "<div>\n",
       "<style>\n",
       "    .dataframe thead tr:only-child th {\n",
       "        text-align: right;\n",
       "    }\n",
       "\n",
       "    .dataframe thead th {\n",
       "        text-align: left;\n",
       "    }\n",
       "\n",
       "    .dataframe tbody tr th {\n",
       "        vertical-align: top;\n",
       "    }\n",
       "</style>\n",
       "<table border=\"1\" class=\"dataframe\">\n",
       "  <thead>\n",
       "    <tr style=\"text-align: right;\">\n",
       "      <th></th>\n",
       "      <th>A</th>\n",
       "      <th>B</th>\n",
       "      <th>C</th>\n",
       "      <th>D</th>\n",
       "    </tr>\n",
       "  </thead>\n",
       "  <tbody>\n",
       "    <tr>\n",
       "      <th>0</th>\n",
       "      <td>15.562029</td>\n",
       "      <td>-117.775218</td>\n",
       "      <td>51.958414</td>\n",
       "      <td>-144.261223</td>\n",
       "    </tr>\n",
       "    <tr>\n",
       "      <th>1</th>\n",
       "      <td>92.947833</td>\n",
       "      <td>24.328236</td>\n",
       "      <td>-26.637115</td>\n",
       "      <td>114.840317</td>\n",
       "    </tr>\n",
       "    <tr>\n",
       "      <th>2</th>\n",
       "      <td>-69.837729</td>\n",
       "      <td>6.108279</td>\n",
       "      <td>-126.451846</td>\n",
       "      <td>64.745386</td>\n",
       "    </tr>\n",
       "    <tr>\n",
       "      <th>3</th>\n",
       "      <td>-241.342816</td>\n",
       "      <td>-121.439910</td>\n",
       "      <td>-61.361443</td>\n",
       "      <td>-216.805743</td>\n",
       "    </tr>\n",
       "    <tr>\n",
       "      <th>4</th>\n",
       "      <td>200.472240</td>\n",
       "      <td>109.561719</td>\n",
       "      <td>-117.302823</td>\n",
       "      <td>78.722420</td>\n",
       "    </tr>\n",
       "  </tbody>\n",
       "</table>\n",
       "</div>"
      ],
      "text/plain": [
       "            A           B           C           D\n",
       "0   15.562029 -117.775218   51.958414 -144.261223\n",
       "1   92.947833   24.328236  -26.637115  114.840317\n",
       "2  -69.837729    6.108279 -126.451846   64.745386\n",
       "3 -241.342816 -121.439910  -61.361443 -216.805743\n",
       "4  200.472240  109.561719 -117.302823   78.722420"
      ]
     },
     "execution_count": 4,
     "metadata": {},
     "output_type": "execute_result"
    },
    {
     "data": {
      "image/png": "[encoded data removed]",
      "text/plain": [
       "<matplotlib.figure.Figure at 0x1a69ec54c88>"
      ]
     },
     "metadata": {},
     "output_type": "display_data"
    }
   ],
   "source": [
    "# 图示初判\n",
    "# （2）散点图矩阵初判多变量间关系\n",
    "\n",
    "data = pd.DataFrame(np.random.randn(200,4)*100, columns = ['A','B','C','D'])\n",
    "pd.scatter_matrix(data,figsize=(8,8),\n",
    "                  c = 'k',\n",
    "                 marker = '+',\n",
    "                 diagonal='hist',\n",
    "                 alpha = 0.8,\n",
    "                 range_padding=0.1)\n",
    "data.head()"
   ]
  },
  {
   "cell_type": "code",
   "execution_count": 5,
   "metadata": {},
   "outputs": [
    {
     "name": "stdout",
     "output_type": "stream",
     "text": [
      "     value1    value2\n",
      "0  2.732398  0.060948\n",
      "1  2.929060  0.631327\n",
      "2  3.418418  0.820842\n",
      "3  6.267376  1.124419\n",
      "4  8.189944  1.278244\n",
      "------\n",
      "value1正态性检验：\n",
      " KstestResult(statistic=0.089758499829120653, pvalue=0.37629188932301139)\n",
      "value2正态性检验：\n",
      " KstestResult(statistic=0.11486894373084222, pvalue=0.13205714746613717)\n",
      "------\n",
      "     value1    value2  (x-u1)*(y-u2)    (x-u1)**2   (y-u2)**2\n",
      "0  2.732398  0.060948    1406.872081  3027.034711  653.870616\n",
      "1  2.929060  0.631327    1370.574013  3005.433239  625.025737\n",
      "2  3.418418  0.820842    1348.043032  2952.017720  615.585742\n",
      "3  6.267376  1.124419    1261.728322  2650.552380  600.613808\n",
      "4  8.189944  1.278244    1206.987407  2456.287517  593.097751\n",
      "------\n",
      "Pearson相关系数为：0.9950\n"
     ]
    }
   ],
   "source": [
    "# Pearson相关系数\n",
    "\n",
    "data1 = pd.Series(np.random.rand(100)*100).sort_values()\n",
    "data2 = pd.Series(np.random.rand(100)*50).sort_values()\n",
    "data = pd.DataFrame({'value1':data1.values,\n",
    "                     'value2':data2.values})\n",
    "print(data.head())\n",
    "print('------')\n",
    "# 创建样本数据\n",
    "\n",
    "u1,u2 = data['value1'].mean(),data['value2'].mean()  # 计算均值\n",
    "std1,std2 = data['value1'].std(),data['value2'].std()  # 计算标准差\n",
    "print('value1正态性检验：\\n',stats.kstest(data['value1'], 'norm', (u1, std1)))\n",
    "print('value2正态性检验：\\n',stats.kstest(data['value2'], 'norm', (u2, std2)))\n",
    "print('------')\n",
    "# 正态性检验 → pvalue >0.05\n",
    "\n",
    "data['(x-u1)*(y-u2)'] = (data['value1'] - u1) * (data['value2'] - u2)\n",
    "data['(x-u1)**2'] = (data['value1'] - u1)**2\n",
    "data['(y-u2)**2'] = (data['value2'] - u2)**2\n",
    "print(data.head())\n",
    "print('------')\n",
    "# 制作Pearson相关系数求值表\n",
    "\n",
    "r = data['(x-u1)*(y-u2)'].sum() / (np.sqrt(data['(x-u1)**2'].sum() * data['(y-u2)**2'].sum()))\n",
    "print('Pearson相关系数为：%.4f' % r)\n",
    "# 求出r\n",
    "# |r| > 0.8 → 高度线性相关"
   ]
  },
  {
   "cell_type": "code",
   "execution_count": 6,
   "metadata": {},
   "outputs": [
    {
     "name": "stdout",
     "output_type": "stream",
     "text": [
      "     value1    value2\n",
      "0  2.133079  0.785065\n",
      "1  3.614063  1.435289\n",
      "2  5.462627  1.655236\n",
      "3  6.569548  2.800205\n",
      "4  7.275445  2.981403\n",
      "------\n"
     ]
    },
    {
     "data": {
      "text/html": [
       "<div>\n",
       "<style>\n",
       "    .dataframe thead tr:only-child th {\n",
       "        text-align: right;\n",
       "    }\n",
       "\n",
       "    .dataframe thead th {\n",
       "        text-align: left;\n",
       "    }\n",
       "\n",
       "    .dataframe tbody tr th {\n",
       "        vertical-align: top;\n",
       "    }\n",
       "</style>\n",
       "<table border=\"1\" class=\"dataframe\">\n",
       "  <thead>\n",
       "    <tr style=\"text-align: right;\">\n",
       "      <th></th>\n",
       "      <th>value1</th>\n",
       "      <th>value2</th>\n",
       "    </tr>\n",
       "  </thead>\n",
       "  <tbody>\n",
       "    <tr>\n",
       "      <th>value1</th>\n",
       "      <td>1.000000</td>\n",
       "      <td>0.991361</td>\n",
       "    </tr>\n",
       "    <tr>\n",
       "      <th>value2</th>\n",
       "      <td>0.991361</td>\n",
       "      <td>1.000000</td>\n",
       "    </tr>\n",
       "  </tbody>\n",
       "</table>\n",
       "</div>"
      ],
      "text/plain": [
       "          value1    value2\n",
       "value1  1.000000  0.991361\n",
       "value2  0.991361  1.000000"
      ]
     },
     "execution_count": 6,
     "metadata": {},
     "output_type": "execute_result"
    }
   ],
   "source": [
    "# Pearson相关系数 - 算法\n",
    "\n",
    "data1 = pd.Series(np.random.rand(100)*100).sort_values()\n",
    "data2 = pd.Series(np.random.rand(100)*50).sort_values()\n",
    "data = pd.DataFrame({'value1':data1.values,\n",
    "                     'value2':data2.values})\n",
    "print(data.head())\n",
    "print('------')\n",
    "# 创建样本数据\n",
    "\n",
    "data.corr()\n",
    "# pandas相关性方法：data.corr(method='pearson', min_periods=1) → 直接给出数据字段的相关系数矩阵\n",
    "# method默认pearson"
   ]
  },
  {
   "cell_type": "code",
   "execution_count": 7,
   "metadata": {},
   "outputs": [
    {
     "name": "stdout",
     "output_type": "stream",
     "text": [
      "    智商  每周看电视小时数\n",
      "0  106         7\n",
      "1   86         0\n",
      "2  100        27\n",
      "3  101        50\n",
      "4   99        28\n",
      "5  103        29\n",
      "6   97        20\n",
      "7  113        12\n",
      "8  112         6\n",
      "9  110        17\n",
      "------\n",
      "    智商  每周看电视小时数  range1  range2\n",
      "1   86         0       1       1\n",
      "8  112         6       9       2\n",
      "0  106         7       7       3\n",
      "7  113        12      10       4\n",
      "9  110        17       8       5\n",
      "6   97        20       2       6\n",
      "2  100        27       4       7\n",
      "4   99        28       3       8\n",
      "5  103        29       6       9\n",
      "3  101        50       5      10\n",
      "------\n",
      "    智商  每周看电视小时数  range1  range2  d  d2\n",
      "1   86         0       1       1  0   0\n",
      "8  112         6       9       2  7  49\n",
      "0  106         7       7       3  4  16\n",
      "7  113        12      10       4  6  36\n",
      "9  110        17       8       5  3   9\n",
      "6   97        20       2       6 -4  16\n",
      "2  100        27       4       7 -3   9\n",
      "4   99        28       3       8 -5  25\n",
      "5  103        29       6       9 -3   9\n",
      "3  101        50       5      10 -5  25\n",
      "------\n",
      "Pearson相关系数为：-0.1758\n"
     ]
    }
   ],
   "source": [
    "# Sperman秩相关系数\n",
    "\n",
    "data = pd.DataFrame({'智商':[106,86,100,101,99,103,97,113,112,110],\n",
    "                    '每周看电视小时数':[7,0,27,50,28,29,20,12,6,17]})\n",
    "print(data)\n",
    "print('------')\n",
    "# 创建样本数据\n",
    "\n",
    "data.sort_values('智商', inplace=True)\n",
    "data['range1'] = np.arange(1,len(data)+1)\n",
    "data.sort_values('每周看电视小时数', inplace=True)\n",
    "data['range2'] = np.arange(1,len(data)+1)\n",
    "print(data)\n",
    "print('------')\n",
    "# “智商”、“每周看电视小时数”重新按照从小到大排序，并设定秩次index\n",
    "\n",
    "data['d'] = data['range1'] - data['range2']\n",
    "data['d2'] = data['d']**2\n",
    "print(data)\n",
    "print('------')\n",
    "# 求出di，di2\n",
    "\n",
    "n = len(data)\n",
    "rs = 1 - 6 * (data['d2'].sum()) / (n * (n**2 - 1))\n",
    "print('Pearson相关系数为：%.4f' % rs)\n",
    "# 求出rs"
   ]
  },
  {
   "cell_type": "code",
   "execution_count": 8,
   "metadata": {},
   "outputs": [
    {
     "name": "stdout",
     "output_type": "stream",
     "text": [
      "    智商  每周看电视小时数\n",
      "0  106         7\n",
      "1   86         0\n",
      "2  100        27\n",
      "3  101        50\n",
      "4   99        28\n",
      "5  103        29\n",
      "6   97        20\n",
      "7  113        12\n",
      "8  112         6\n",
      "9  110        17\n",
      "------\n"
     ]
    },
    {
     "data": {
      "text/html": [
       "<div>\n",
       "<style>\n",
       "    .dataframe thead tr:only-child th {\n",
       "        text-align: right;\n",
       "    }\n",
       "\n",
       "    .dataframe thead th {\n",
       "        text-align: left;\n",
       "    }\n",
       "\n",
       "    .dataframe tbody tr th {\n",
       "        vertical-align: top;\n",
       "    }\n",
       "</style>\n",
       "<table border=\"1\" class=\"dataframe\">\n",
       "  <thead>\n",
       "    <tr style=\"text-align: right;\">\n",
       "      <th></th>\n",
       "      <th>智商</th>\n",
       "      <th>每周看电视小时数</th>\n",
       "    </tr>\n",
       "  </thead>\n",
       "  <tbody>\n",
       "    <tr>\n",
       "      <th>智商</th>\n",
       "      <td>1.000000</td>\n",
       "      <td>-0.175758</td>\n",
       "    </tr>\n",
       "    <tr>\n",
       "      <th>每周看电视小时数</th>\n",
       "      <td>-0.175758</td>\n",
       "      <td>1.000000</td>\n",
       "    </tr>\n",
       "  </tbody>\n",
       "</table>\n",
       "</div>"
      ],
      "text/plain": [
       "                智商  每周看电视小时数\n",
       "智商        1.000000 -0.175758\n",
       "每周看电视小时数 -0.175758  1.000000"
      ]
     },
     "execution_count": 8,
     "metadata": {},
     "output_type": "execute_result"
    }
   ],
   "source": [
    "# Pearson相关系数 - 算法\n",
    "\n",
    "data = pd.DataFrame({'智商':[106,86,100,101,99,103,97,113,112,110],\n",
    "                    '每周看电视小时数':[7,0,27,50,28,29,20,12,6,17]})\n",
    "print(data)\n",
    "print('------')\n",
    "# 创建样本数据\n",
    "\n",
    "data.corr(method='spearman')\n",
    "# pandas相关性方法：data.corr(method='pearson', min_periods=1) → 直接给出数据字段的相关系数矩阵\n",
    "# method默认pearson"
   ]
  },
  {
   "cell_type": "code",
   "execution_count": null,
   "metadata": {
    "collapsed": true
   },
   "outputs": [],
   "source": []
  }
 ],
 "metadata": {
  "kernelspec": {
   "display_name": "Python 3",
   "language": "python",
   "name": "python3"
  },
  "language_info": {
   "codemirror_mode": {
    "name": "ipython",
    "version": 3
   },
   "file_extension": ".py",
   "mimetype": "text/x-python",
   "name": "python",
   "nbconvert_exporter": "python",
   "pygments_lexer": "ipython3",
   "version": "3.6.3"
  }
 },
 "nbformat": 4,
 "nbformat_minor": 2
}
