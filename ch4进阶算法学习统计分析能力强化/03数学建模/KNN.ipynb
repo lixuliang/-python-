{
 "cells": [
  {
   "cell_type": "code",
   "execution_count": 1,
   "metadata": {},
   "outputs": [
    {
     "data": {
      "text/plain": [
       "'\\n【课程3.3.2】 最邻近分类的python实现方法'"
      ]
     },
     "execution_count": 1,
     "metadata": {},
     "output_type": "execute_result"
    }
   ],
   "source": [
    "'''\n",
    "【课程3.3.2】 最邻近分类的python实现方法\\\n",
    "'''"
   ]
  },
  {
   "cell_type": "code",
   "execution_count": 2,
   "metadata": {
    "collapsed": true
   },
   "outputs": [],
   "source": [
    "import numpy as np\n",
    "import pandas as pd\n",
    "import matplotlib.pyplot as plt\n",
    "% matplotlib inline"
   ]
  },
  {
   "cell_type": "code",
   "execution_count": 11,
   "metadata": {},
   "outputs": [
    {
     "name": "stdout",
     "output_type": "stream",
     "text": [
      "   fight  kiss     name     type\n",
      "0      3   104  北京遇上西雅图  Romance\n",
      "1      2   100      喜欢你  Romance\n",
      "2      1    81    疯狂动物城  Romance\n",
      "3    101    10      战狼2   Action\n",
      "4     99     5       力王   Action\n",
      "5     98     2      敢死队   Action\n"
     ]
    },
    {
     "data": {
      "text/plain": [
       "Text(18,90,'<<你的名字>>')"
      ]
     },
     "execution_count": 11,
     "metadata": {},
     "output_type": "execute_result"
    },
    {
     "data": {
      "image/png": "[encoded data removed]",
      "text/plain": [
       "<matplotlib.figure.Figure at 0x234b8be1898>"
      ]
     },
     "metadata": {},
     "output_type": "display_data"
    }
   ],
   "source": [
    "#  案例一：电影数据分类\n",
    "from sklearn import neighbors                # 导入KNN分类模块\n",
    "import warnings\n",
    "warnings.filterwarnings('ignore')            # 不发出警告\n",
    "\n",
    "data = pd.DataFrame({'name':['北京遇上西雅图','喜欢你','疯狂动物城','战狼2','力王','敢死队'],\n",
    "                  'fight':[3,2,1,101,99,98],\n",
    "                  'kiss':[104,100,81,10,5,2],\n",
    "                  'type':['Romance','Romance','Romance','Action','Action','Action']})\n",
    "\n",
    "print(data)                                   #  创建数据\n",
    "\n",
    "knn = neighbors.KNeighborsClassifier()        # 取得knn分类器\n",
    "knn.fit(data[['fight','kiss']],data['type'])  # 加载数据，构建KNN分类模型 \n",
    "#print('预测电影类型为:',knn.predict([18,90])) # 预测未知数据\n",
    "\n",
    "plt.scatter(data[data['type'] == 'Romance']['fight'],data[data['type'] == 'Romance']['kiss'],color='r',marker='o',label='Romance')\n",
    "plt.scatter(data[data['type'] == 'Action']['fight'],data[data['type'] == 'Action']['kiss'],color='g',marker='o',label='Action')\n",
    "plt.grid()\n",
    "plt.legend()\n",
    "plt.scatter(18,90,color='r',marker='x',label='Romance')\n",
    "plt.xlabel('kiss')\n",
    "plt.ylabel('fight')\n",
    "plt.text(18,90,'<<你的名字>>',color='r')"
   ]
  },
  {
   "cell_type": "code",
   "execution_count": 4,
   "metadata": {},
   "outputs": [
    {
     "name": "stdout",
     "output_type": "stream",
     "text": [
      "        fight       kiss     type\n",
      "0   -5.417138  20.759414  Romance\n",
      "1  104.918542 -62.808757   Action\n",
      "2  -30.804557   8.335924  Romance\n",
      "3   15.464628 -25.397442   Action\n",
      "4   20.399310 -22.223376   Action\n"
     ]
    },
    {
     "data": {
      "text/plain": [
       "Text(0,0.5,'fight')"
      ]
     },
     "execution_count": 4,
     "metadata": {},
     "output_type": "execute_result"
    },
    {
     "data": {
      "image/png": "[encoded data removed]",
      "text/plain": [
       "<matplotlib.figure.Figure at 0x234b89ca5c0>"
      ]
     },
     "metadata": {},
     "output_type": "display_data"
    }
   ],
   "source": [
    "# 案例一：电影分类\n",
    "# 给随机数据进行模拟预测\n",
    "\n",
    "data2 = pd.DataFrame(np.random.randn(100,2)*50,columns=['fight','kiss'])\n",
    "data2['type'] = knn.predict(data2)          # 创建数据，并调用模型预测                         \n",
    "print(data2.head())\n",
    "\n",
    "plt.scatter(data[data['type'] == 'Romance']['fight'],data[data['type'] == 'Romance']['kiss'],color='r',marker='o',label='Romance')\n",
    "plt.scatter(data[data['type'] == 'Action']['fight'],data[data['type'] == 'Action']['kiss'],color='g',marker='o',label='Action')\n",
    "plt.grid()\n",
    "plt.legend()\n",
    "plt.scatter(data2[data2['type'] == 'Romance']['fight'],data2[data2['type'] == 'Romance']['kiss'],color='r',marker='x',label='Romance')\n",
    "plt.scatter(data2[data2['type'] == 'Action']['fight'],data2[data2['type'] == 'Action']['kiss'],color='g',marker='x',label='Action')\n",
    "plt.xlabel('kiss')\n",
    "plt.ylabel('fight')"
   ]
  },
  {
   "cell_type": "code",
   "execution_count": 14,
   "metadata": {},
   "outputs": [
    {
     "name": "stdout",
     "output_type": "stream",
     "text": [
      "dict_keys(['data', 'target', 'target_names', 'DESCR', 'feature_names'])\n",
      "数据的长度:150\n",
      "['sepal length (cm)', 'sepal width (cm)', 'petal length (cm)', 'petal width (cm)']\n",
      "[0 0 0 0 0 0 0 0 0 0 0 0 0 0 0 0 0 0 0 0 0 0 0 0 0 0 0 0 0 0 0 0 0 0 0 0 0\n",
      " 0 0 0 0 0 0 0 0 0 0 0 0 0 1 1 1 1 1 1 1 1 1 1 1 1 1 1 1 1 1 1 1 1 1 1 1 1\n",
      " 1 1 1 1 1 1 1 1 1 1 1 1 1 1 1 1 1 1 1 1 1 1 1 1 1 1 2 2 2 2 2 2 2 2 2 2 2\n",
      " 2 2 2 2 2 2 2 2 2 2 2 2 2 2 2 2 2 2 2 2 2 2 2 2 2 2 2 2 2 2 2 2 2 2 2 2 2\n",
      " 2 2]\n",
      "['setosa' 'versicolor' 'virginica']\n",
      "[[ 5.1  3.5  1.4  0.2]\n",
      " [ 4.9  3.   1.4  0.2]\n",
      " [ 4.7  3.2  1.3  0.2]\n",
      " [ 4.6  3.1  1.5  0.2]\n",
      " [ 5.   3.6  1.4  0.2]]\n"
     ]
    },
    {
     "data": {
      "text/plain": [
       "'\\n 150个实例数据\\n feature_names - 特征分类：萼片长度，萼片宽度，花瓣长度，花瓣宽度  → sepal length, sepal width, petal length, petal width\\n 目标类别：Iris setosa, Iris versicolor, Iris virginica. \\n'"
      ]
     },
     "execution_count": 14,
     "metadata": {},
     "output_type": "execute_result"
    }
   ],
   "source": [
    "# 案例二：植物分类\n",
    "from sklearn import datasets\n",
    "\n",
    "iris = datasets.load_iris()            # 导入数据\n",
    "print(iris.keys())\n",
    "print(f\"数据的长度:{len(iris['data'])}\")\n",
    "\n",
    "print(iris.feature_names)\n",
    "print(iris.target)\n",
    "print(iris.target_names)\n",
    "print(iris.data[:5])\n",
    "'''\n",
    " 150个实例数据\n",
    " feature_names - 特征分类：萼片长度，萼片宽度，花瓣长度，花瓣宽度  → sepal length, sepal width, petal length, petal width\n",
    " 目标类别：Iris setosa, Iris versicolor, Iris virginica. \n",
    "'''"
   ]
  },
  {
   "cell_type": "code",
   "execution_count": 13,
   "metadata": {},
   "outputs": [
    {
     "name": "stdout",
     "output_type": "stream",
     "text": [
      "     sepal length (cm)  sepal width (cm)  petal length (cm)  petal width (cm)  \\\n",
      "0                  5.1               3.5                1.4               0.2   \n",
      "1                  4.9               3.0                1.4               0.2   \n",
      "2                  4.7               3.2                1.3               0.2   \n",
      "3                  4.6               3.1                1.5               0.2   \n",
      "4                  5.0               3.6                1.4               0.2   \n",
      "5                  5.4               3.9                1.7               0.4   \n",
      "6                  4.6               3.4                1.4               0.3   \n",
      "7                  5.0               3.4                1.5               0.2   \n",
      "8                  4.4               2.9                1.4               0.2   \n",
      "9                  4.9               3.1                1.5               0.1   \n",
      "10                 5.4               3.7                1.5               0.2   \n",
      "11                 4.8               3.4                1.6               0.2   \n",
      "12                 4.8               3.0                1.4               0.1   \n",
      "13                 4.3               3.0                1.1               0.1   \n",
      "14                 5.8               4.0                1.2               0.2   \n",
      "15                 5.7               4.4                1.5               0.4   \n",
      "16                 5.4               3.9                1.3               0.4   \n",
      "17                 5.1               3.5                1.4               0.3   \n",
      "18                 5.7               3.8                1.7               0.3   \n",
      "19                 5.1               3.8                1.5               0.3   \n",
      "20                 5.4               3.4                1.7               0.2   \n",
      "21                 5.1               3.7                1.5               0.4   \n",
      "22                 4.6               3.6                1.0               0.2   \n",
      "23                 5.1               3.3                1.7               0.5   \n",
      "24                 4.8               3.4                1.9               0.2   \n",
      "25                 5.0               3.0                1.6               0.2   \n",
      "26                 5.0               3.4                1.6               0.4   \n",
      "27                 5.2               3.5                1.5               0.2   \n",
      "28                 5.2               3.4                1.4               0.2   \n",
      "29                 4.7               3.2                1.6               0.2   \n",
      "..                 ...               ...                ...               ...   \n",
      "120                6.9               3.2                5.7               2.3   \n",
      "121                5.6               2.8                4.9               2.0   \n",
      "122                7.7               2.8                6.7               2.0   \n",
      "123                6.3               2.7                4.9               1.8   \n",
      "124                6.7               3.3                5.7               2.1   \n",
      "125                7.2               3.2                6.0               1.8   \n",
      "126                6.2               2.8                4.8               1.8   \n",
      "127                6.1               3.0                4.9               1.8   \n",
      "128                6.4               2.8                5.6               2.1   \n",
      "129                7.2               3.0                5.8               1.6   \n",
      "130                7.4               2.8                6.1               1.9   \n",
      "131                7.9               3.8                6.4               2.0   \n",
      "132                6.4               2.8                5.6               2.2   \n",
      "133                6.3               2.8                5.1               1.5   \n",
      "134                6.1               2.6                5.6               1.4   \n",
      "135                7.7               3.0                6.1               2.3   \n",
      "136                6.3               3.4                5.6               2.4   \n",
      "137                6.4               3.1                5.5               1.8   \n",
      "138                6.0               3.0                4.8               1.8   \n",
      "139                6.9               3.1                5.4               2.1   \n",
      "140                6.7               3.1                5.6               2.4   \n",
      "141                6.9               3.1                5.1               2.3   \n",
      "142                5.8               2.7                5.1               1.9   \n",
      "143                6.8               3.2                5.9               2.3   \n",
      "144                6.7               3.3                5.7               2.5   \n",
      "145                6.7               3.0                5.2               2.3   \n",
      "146                6.3               2.5                5.0               1.9   \n",
      "147                6.5               3.0                5.2               2.0   \n",
      "148                6.2               3.4                5.4               2.3   \n",
      "149                5.9               3.0                5.1               1.8   \n",
      "\n",
      "     target target_names  \n",
      "0         0       setosa  \n",
      "1         0       setosa  \n",
      "2         0       setosa  \n",
      "3         0       setosa  \n",
      "4         0       setosa  \n",
      "5         0       setosa  \n",
      "6         0       setosa  \n",
      "7         0       setosa  \n",
      "8         0       setosa  \n",
      "9         0       setosa  \n",
      "10        0       setosa  \n",
      "11        0       setosa  \n",
      "12        0       setosa  \n",
      "13        0       setosa  \n",
      "14        0       setosa  \n",
      "15        0       setosa  \n",
      "16        0       setosa  \n",
      "17        0       setosa  \n",
      "18        0       setosa  \n",
      "19        0       setosa  \n",
      "20        0       setosa  \n",
      "21        0       setosa  \n",
      "22        0       setosa  \n",
      "23        0       setosa  \n",
      "24        0       setosa  \n",
      "25        0       setosa  \n",
      "26        0       setosa  \n",
      "27        0       setosa  \n",
      "28        0       setosa  \n",
      "29        0       setosa  \n",
      "..      ...          ...  \n",
      "120       2    virginica  \n",
      "121       2    virginica  \n",
      "122       2    virginica  \n",
      "123       2    virginica  \n",
      "124       2    virginica  \n",
      "125       2    virginica  \n",
      "126       2    virginica  \n",
      "127       2    virginica  \n",
      "128       2    virginica  \n",
      "129       2    virginica  \n",
      "130       2    virginica  \n",
      "131       2    virginica  \n",
      "132       2    virginica  \n",
      "133       2    virginica  \n",
      "134       2    virginica  \n",
      "135       2    virginica  \n",
      "136       2    virginica  \n",
      "137       2    virginica  \n",
      "138       2    virginica  \n",
      "139       2    virginica  \n",
      "140       2    virginica  \n",
      "141       2    virginica  \n",
      "142       2    virginica  \n",
      "143       2    virginica  \n",
      "144       2    virginica  \n",
      "145       2    virginica  \n",
      "146       2    virginica  \n",
      "147       2    virginica  \n",
      "148       2    virginica  \n",
      "149       2    virginica  \n",
      "\n",
      "[150 rows x 6 columns]\n",
      "预测结果为: ['setosa']\n",
      "   sepal length (cm)  sepal width (cm)  petal length (cm)  petal width (cm)  \\\n",
      "0                5.1               3.5                1.4               0.2   \n",
      "1                4.9               3.0                1.4               0.2   \n",
      "2                4.7               3.2                1.3               0.2   \n",
      "3                4.6               3.1                1.5               0.2   \n",
      "4                5.0               3.6                1.4               0.2   \n",
      "\n",
      "   target target_names  \n",
      "0       0       setosa  \n",
      "1       0       setosa  \n",
      "2       0       setosa  \n",
      "3       0       setosa  \n",
      "4       0       setosa  \n"
     ]
    }
   ],
   "source": [
    "# 案例二：植物分类\n",
    "\n",
    "df = pd.DataFrame(data=iris.data,columns=iris.feature_names) # 将特征值转为Dataframe\\\n",
    "df['target'] = iris.target\n",
    "ty = pd.DataFrame({'target':[0,1,2],\n",
    "                   'target_names':iris.target_names})\n",
    "\n",
    "df = pd.merge(df,ty,on='target')                             # 数据转换\n",
    "print (df)\n",
    "\n",
    "knn = neighbors.KNeighborsClassifier()                       # 取得knn分类器\n",
    "knn.fit(iris.data,df['target_names'])                        # 建立分类模型\n",
    "\n",
    "per_data = [[0.1,0.2,0.3,0.4]]\n",
    "print('预测结果为:',knn.predict(per_data))                   # 数据转换\n",
    "print(df.head())"
   ]
  },
  {
   "cell_type": "code",
   "execution_count": null,
   "metadata": {
    "collapsed": true
   },
   "outputs": [],
   "source": []
  }
 ],
 "metadata": {
  "kernelspec": {
   "display_name": "Python 3",
   "language": "python",
   "name": "python3"
  },
  "language_info": {
   "codemirror_mode": {
    "name": "ipython",
    "version": 3
   },
   "file_extension": ".py",
   "mimetype": "text/x-python",
   "name": "python",
   "nbconvert_exporter": "python",
   "pygments_lexer": "ipython3",
   "version": "3.6.3"
  }
 },
 "nbformat": 4,
 "nbformat_minor": 2
}
