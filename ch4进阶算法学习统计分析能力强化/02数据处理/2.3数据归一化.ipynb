{
 "cells": [
  {
   "cell_type": "code",
   "execution_count": 1,
   "metadata": {},
   "outputs": [
    {
     "data": {
      "text/plain": [
       "'\\n【课程2.3】  数据归一化/标准化\\n'"
      ]
     },
     "execution_count": 1,
     "metadata": {},
     "output_type": "execute_result"
    }
   ],
   "source": [
    "'''\n",
    "【课程2.3】  数据归一化/标准化\n",
    "'''"
   ]
  },
  {
   "cell_type": "code",
   "execution_count": 2,
   "metadata": {
    "collapsed": true
   },
   "outputs": [],
   "source": [
    "import numpy as np\n",
    "import pandas as pd\n",
    "import matplotlib.pyplot as plt\n",
    "% matplotlib inline"
   ]
  },
  {
   "cell_type": "code",
   "execution_count": 3,
   "metadata": {},
   "outputs": [
    {
     "name": "stdout",
     "output_type": "stream",
     "text": [
      "      value1     value2\n",
      "0  15.293507  28.915693\n",
      "1   5.717557  83.715579\n",
      "2  13.404003  78.149655\n",
      "3   7.056900  48.297764\n",
      "4  19.637550   7.915890\n",
      "------\n",
      "      value1     value2  value1_n  value2_n\n",
      "0  15.293507  28.915693  0.702824  0.235459\n",
      "1   5.717557  83.715579  0.047735  0.849898\n",
      "2  13.404003  78.149655  0.573564  0.787491\n",
      "3   7.056900  48.297764  0.139359  0.452779\n",
      "4  19.637550   7.915890  1.000000  0.000000\n"
     ]
    }
   ],
   "source": [
    "# 数据标准化\n",
    "# （1）0-1标准化\n",
    "# 将数据的最大最小值记录下来，并通过Max-Min作为基数（即Min=0，Max=1）进行数据的归一化处理\n",
    "# x = (x - Min) / (Max - Min)\n",
    "\n",
    "df = pd.DataFrame({\"value1\":np.random.rand(10)*20,\n",
    "                  'value2':np.random.rand(10)*100})\n",
    "print(df.head())\n",
    "print('------')\n",
    "# 创建数据\n",
    "\n",
    "def data_norm(df,*cols):\n",
    "    df_n = df.copy()\n",
    "    for col in cols:\n",
    "        ma = df_n[col].max()\n",
    "        mi = df_n[col].min()\n",
    "        df_n[col + '_n'] = (df_n[col] - mi) / (ma - mi)\n",
    "    return(df_n)\n",
    "# 创建函数，标准化数据\n",
    "\n",
    "df_n = data_norm(df,'value1','value2')\n",
    "print(df_n.head())\n",
    "# 标准化数据"
   ]
  },
  {
   "cell_type": "code",
   "execution_count": 4,
   "metadata": {},
   "outputs": [
    {
     "name": "stdout",
     "output_type": "stream",
     "text": [
      "      value1     value2\n",
      "0  64.536821  74.610142\n",
      "1  24.680001  20.862805\n",
      "2  34.030967  56.612011\n",
      "3  12.748111  75.674433\n",
      "4   0.167241  50.859500\n",
      "------\n",
      "      value1     value2  value1_Zn  value2_Zn\n",
      "0  64.536821  74.610142   0.785756   0.756491\n",
      "1  24.680001  20.862805  -0.475269  -1.618229\n",
      "2  34.030967  56.612011  -0.179415  -0.038721\n",
      "3  12.748111  75.674433  -0.852781   0.803515\n",
      "4   0.167241  50.859500  -1.250825  -0.292884\n",
      "5  45.882795  56.936225   0.195563  -0.024396\n",
      "6  90.878030  28.559640   1.619162  -1.278159\n",
      "7   9.458966  92.156408  -0.956846   1.531738\n",
      "8  28.730748  75.959216  -0.347108   0.816097\n",
      "9  85.903163  42.653466   1.461763  -0.655452\n",
      "标准化后value1的均值为:0.00, 标准差为：1.00\n"
     ]
    }
   ],
   "source": [
    "# 数据标准化\n",
    "# （2）Z-score标准化\n",
    "# Z分数（z-score）,是一个分数与平均数的差再除以标准差的过程 → z=(x-μ)/σ，其中x为某一具体分数，μ为平均数，σ为标准差\n",
    "# Z值的量代表着原始分数和母体平均值之间的距离，是以标准差为单位计算。在原始分数低于平均值时Z则为负数，反之则为正数\n",
    "# 数学意义：一个给定分数距离平均数多少个标准差?\n",
    "\n",
    "df = pd.DataFrame({\"value1\":np.random.rand(10) * 100,\n",
    "                  'value2':np.random.rand(10) * 100})\n",
    "print(df.head())\n",
    "print('------')\n",
    "# 创建数据\n",
    "\n",
    "def data_Znorm(df, *cols):\n",
    "    df_n = df.copy()\n",
    "    for col in cols:\n",
    "        u = df_n[col].mean()\n",
    "        std = df_n[col].std()\n",
    "        df_n[col + '_Zn'] = (df_n[col] - u) / std\n",
    "    return(df_n)\n",
    "# 创建函数，标准化数据\n",
    "\n",
    "df_z = data_Znorm(df,'value1','value2')\n",
    "u_z = df_z['value1_Zn'].mean()\n",
    "std_z = df_z['value1_Zn'].std()\n",
    "print(df_z)\n",
    "print('标准化后value1的均值为:%.2f, 标准差为：%.2f' % (u_z, std_z))\n",
    "# 标准化数据\n",
    "# 经过处理的数据符合标准正态分布，即均值为0，标准差为1\n",
    "\n",
    "# 什么情况用Z-score标准化：\n",
    "# 在分类、聚类算法中，需要使用距离来度量相似性的时候，Z-score表现更好"
   ]
  },
  {
   "cell_type": "code",
   "execution_count": 9,
   "metadata": {},
   "outputs": [
    {
     "data": {
      "text/html": [
       "<div>\n",
       "<style>\n",
       "    .dataframe thead tr:only-child th {\n",
       "        text-align: right;\n",
       "    }\n",
       "\n",
       "    .dataframe thead th {\n",
       "        text-align: left;\n",
       "    }\n",
       "\n",
       "    .dataframe tbody tr th {\n",
       "        vertical-align: top;\n",
       "    }\n",
       "</style>\n",
       "<table border=\"1\" class=\"dataframe\">\n",
       "  <thead>\n",
       "    <tr style=\"text-align: right;\">\n",
       "      <th></th>\n",
       "      <th>value1</th>\n",
       "      <th>value2</th>\n",
       "      <th>value1_n</th>\n",
       "      <th>value2_n</th>\n",
       "      <th>f</th>\n",
       "    </tr>\n",
       "  </thead>\n",
       "  <tbody>\n",
       "    <tr>\n",
       "      <th>H</th>\n",
       "      <td>20.274597</td>\n",
       "      <td>87.863334</td>\n",
       "      <td>1.000000</td>\n",
       "      <td>0.859676</td>\n",
       "      <td>0.943870</td>\n",
       "    </tr>\n",
       "    <tr>\n",
       "      <th>G</th>\n",
       "      <td>20.046934</td>\n",
       "      <td>87.227169</td>\n",
       "      <td>0.985593</td>\n",
       "      <td>0.850666</td>\n",
       "      <td>0.931623</td>\n",
       "    </tr>\n",
       "    <tr>\n",
       "      <th>F</th>\n",
       "      <td>14.333373</td>\n",
       "      <td>85.815777</td>\n",
       "      <td>0.624037</td>\n",
       "      <td>0.830677</td>\n",
       "      <td>0.706693</td>\n",
       "    </tr>\n",
       "    <tr>\n",
       "      <th>I</th>\n",
       "      <td>9.872821</td>\n",
       "      <td>97.771381</td>\n",
       "      <td>0.341771</td>\n",
       "      <td>1.000000</td>\n",
       "      <td>0.605062</td>\n",
       "    </tr>\n",
       "    <tr>\n",
       "      <th>J</th>\n",
       "      <td>15.988183</td>\n",
       "      <td>40.599436</td>\n",
       "      <td>0.728754</td>\n",
       "      <td>0.190295</td>\n",
       "      <td>0.513370</td>\n",
       "    </tr>\n",
       "    <tr>\n",
       "      <th>B</th>\n",
       "      <td>9.574525</td>\n",
       "      <td>71.952414</td>\n",
       "      <td>0.322894</td>\n",
       "      <td>0.634336</td>\n",
       "      <td>0.447471</td>\n",
       "    </tr>\n",
       "    <tr>\n",
       "      <th>D</th>\n",
       "      <td>4.471935</td>\n",
       "      <td>95.984400</td>\n",
       "      <td>0.000000</td>\n",
       "      <td>0.974692</td>\n",
       "      <td>0.389877</td>\n",
       "    </tr>\n",
       "    <tr>\n",
       "      <th>C</th>\n",
       "      <td>10.616324</td>\n",
       "      <td>27.163022</td>\n",
       "      <td>0.388820</td>\n",
       "      <td>0.000000</td>\n",
       "      <td>0.233292</td>\n",
       "    </tr>\n",
       "    <tr>\n",
       "      <th>E</th>\n",
       "      <td>5.967877</td>\n",
       "      <td>47.018557</td>\n",
       "      <td>0.094664</td>\n",
       "      <td>0.281207</td>\n",
       "      <td>0.169281</td>\n",
       "    </tr>\n",
       "    <tr>\n",
       "      <th>A</th>\n",
       "      <td>5.267002</td>\n",
       "      <td>35.999079</td>\n",
       "      <td>0.050312</td>\n",
       "      <td>0.125142</td>\n",
       "      <td>0.080244</td>\n",
       "    </tr>\n",
       "  </tbody>\n",
       "</table>\n",
       "</div>"
      ],
      "text/plain": [
       "      value1     value2  value1_n  value2_n         f\n",
       "H  20.274597  87.863334  1.000000  0.859676  0.943870\n",
       "G  20.046934  87.227169  0.985593  0.850666  0.931623\n",
       "F  14.333373  85.815777  0.624037  0.830677  0.706693\n",
       "I   9.872821  97.771381  0.341771  1.000000  0.605062\n",
       "J  15.988183  40.599436  0.728754  0.190295  0.513370\n",
       "B   9.574525  71.952414  0.322894  0.634336  0.447471\n",
       "D   4.471935  95.984400  0.000000  0.974692  0.389877\n",
       "C  10.616324  27.163022  0.388820  0.000000  0.233292\n",
       "E   5.967877  47.018557  0.094664  0.281207  0.169281\n",
       "A   5.267002  35.999079  0.050312  0.125142  0.080244"
      ]
     },
     "execution_count": 9,
     "metadata": {},
     "output_type": "execute_result"
    },
    {
     "data": {
      "image/png": "[encoded data removed]",
      "text/plain": [
       "<matplotlib.figure.Figure at 0x1e5653c4d68>"
      ]
     },
     "metadata": {},
     "output_type": "display_data"
    }
   ],
   "source": [
    "# 案例应用\n",
    "# 八类产品的两个指标value1，value2，其中value1权重为0.6，value2权重为0.4\n",
    "# 通过0-1标准化，判断哪个产品综合指标状况最好\n",
    "\n",
    "df = pd.DataFrame({\"value1\":np.random.rand(10) * 30,\n",
    "                  'value2':np.random.rand(10) * 100},\n",
    "                 index = list('ABCDEFGHIJ'))\n",
    "#print(df.head())\n",
    "#print('------')\n",
    "# 创建数据\"\n",
    "\n",
    "df_n1 = data_norm(df,'value1','value2')\n",
    "# 进行标准化处理\n",
    "\n",
    "df_n1['f'] = df_n1['value1_n'] * 0.6 + df_n1['value2_n'] * 0.4\n",
    "df_n1.sort_values(by = 'f',inplace=True,ascending=False)\n",
    "df_n1['f'].plot(kind = 'line', style = '--.k', alpha = 0.8, grid = True)\n",
    "df_n1\n",
    "# 查看综合指标状况"
   ]
  },
  {
   "cell_type": "code",
   "execution_count": null,
   "metadata": {
    "collapsed": true
   },
   "outputs": [],
   "source": []
  }
 ],
 "metadata": {
  "kernelspec": {
   "display_name": "Python 3",
   "language": "python",
   "name": "python3"
  },
  "language_info": {
   "codemirror_mode": {
    "name": "ipython",
    "version": 3
   },
   "file_extension": ".py",
   "mimetype": "text/x-python",
   "name": "python",
   "nbconvert_exporter": "python",
   "pygments_lexer": "ipython3",
   "version": "3.6.3"
  }
 },
 "nbformat": 4,
 "nbformat_minor": 2
}
