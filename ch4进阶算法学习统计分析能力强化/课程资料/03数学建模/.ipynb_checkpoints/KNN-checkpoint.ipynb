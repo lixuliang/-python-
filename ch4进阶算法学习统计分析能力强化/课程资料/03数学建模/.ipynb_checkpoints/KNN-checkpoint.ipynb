{
 "cells": [
  {
   "cell_type": "markdown",
   "metadata": {},
   "source": [
    "'''\n",
    "【课程3.3.2】  最邻近分类的python实现方法\n",
    "\n",
    "在距离空间里，如果一个样本的最接近的k个邻居里，绝大多数属于某个类别，则该样本也属于这个类别\n",
    "\n",
    "电影分类 / 植物分类\n",
    "\n",
    "'''"
   ]
  },
  {
   "cell_type": "code",
   "execution_count": 2,
   "metadata": {
    "collapsed": true
   },
   "outputs": [],
   "source": [
    "import numpy as np\n",
    "import pandas as pd\n",
    "import matplotlib.pyplot as plt\n",
    "% matplotlib inline"
   ]
  },
  {
   "cell_type": "code",
   "execution_count": 12,
   "metadata": {},
   "outputs": [
    {
     "name": "stdout",
     "output_type": "stream",
     "text": [
      "      name  fight  kiss     type\n",
      "0  北京遇上西雅图      3   104  Romance\n",
      "1      喜欢你      2   100  Romance\n",
      "2    疯狂动物城      1    81  Romance\n",
      "3      战狼2    101    10   Action\n",
      "4       力王     99     5   Action\n",
      "5      敢死队     98     2   Action\n"
     ]
    },
    {
     "data": {
      "text/plain": [
       "Text(18,90,'<<你的名字>>')"
      ]
     },
     "execution_count": 12,
     "metadata": {},
     "output_type": "execute_result"
    },
    {
     "data": {
      "image/png": "[encoded data removed]",
      "text/plain": [
       "<Figure size 432x288 with 1 Axes>"
      ]
     },
     "metadata": {},
     "output_type": "display_data"
    }
   ],
   "source": [
    "#  案例一：电影数据分类\n",
    "from sklearn import neighbors                # 导入KNN分类模块\n",
    "import warnings\n",
    "warnings.filterwarnings('ignore')            # 不发出警告\n",
    "\n",
    "data = pd.DataFrame({'name':['北京遇上西雅图','喜欢你','疯狂动物城','战狼2','力王','敢死队'],\n",
    "                  'fight':[3,2,1,101,99,98],\n",
    "                  'kiss':[104,100,81,10,5,2],\n",
    "                  'type':['Romance','Romance','Romance','Action','Action','Action']})\n",
    "\n",
    "print(data)                                   #  创建数据\n",
    "\n",
    "knn = neighbors.KNeighborsClassifier()        # 取得knn分类器\n",
    "knn.fit(data[['fight','kiss']],data['type'])  # 加载数据，构建KNN分类模型 \n",
    "#print('预测电影类型为:',knn.predict([18,90])) # 预测未知数据\n",
    "\n",
    "plt.scatter(data[data['type'] == 'Romance']['fight'],data[data['type'] == 'Romance']['kiss'],color='r',marker='o',label='Romance')\n",
    "plt.scatter(data[data['type'] == 'Action']['fight'],data[data['type'] == 'Action']['kiss'],color='g',marker='o',label='Action')\n",
    "plt.grid()\n",
    "plt.legend()\n",
    "plt.scatter(18,90,color='r',marker='x',label='Romance')\n",
    "plt.xlabel('kiss')\n",
    "plt.ylabel('fight')\n",
    "plt.text(18,90,'<<你的名字>>',color='r')"
   ]
  },
  {
   "cell_type": "code",
   "execution_count": 17,
   "metadata": {},
   "outputs": [
    {
     "name": "stdout",
     "output_type": "stream",
     "text": [
      "       fight       kiss     type\n",
      "0   1.518865 -47.370927   Action\n",
      "1  30.314293 -20.149029   Action\n",
      "2  33.146601 -10.170572   Action\n",
      "3 -57.402884 -39.788164  Romance\n",
      "4  54.519320  -3.200826   Action\n"
     ]
    },
    {
     "data": {
      "text/plain": [
       "Text(0,0.5,'fight')"
      ]
     },
     "execution_count": 17,
     "metadata": {},
     "output_type": "execute_result"
    },
    {
     "data": {
      "image/png": "[encoded data removed]",
      "text/plain": [
       "<Figure size 432x288 with 1 Axes>"
      ]
     },
     "metadata": {},
     "output_type": "display_data"
    }
   ],
   "source": [
    "# 案例一：电影分类\n",
    "# 给随机数据进行模拟预测\n",
    "\n",
    "data2 = pd.DataFrame(np.random.randn(100,2)*50,columns=['fight','kiss'])\n",
    "data2['type'] = knn.predict(data2)          # 创建数据，并调用模型预测                         \n",
    "print(data2.head())\n",
    "\n",
    "plt.scatter(data[data['type'] == 'Romance']['fight'],data[data['type'] == 'Romance']['kiss'],color='r',marker='o',label='Romance')\n",
    "plt.scatter(data[data['type'] == 'Action']['fight'],data[data['type'] == 'Action']['kiss'],color='g',marker='o',label='Action')\n",
    "plt.grid()\n",
    "plt.legend()\n",
    "plt.scatter(data2[data2['type'] == 'Romance']['fight'],data2[data2['type'] == 'Romance']['kiss'],color='r',marker='x',label='Romance')\n",
    "plt.scatter(data2[data2['type'] == 'Action']['fight'],data2[data2['type'] == 'Action']['kiss'],color='g',marker='x',label='Action')\n",
    "plt.xlabel('kiss')\n",
    "plt.ylabel('fight')"
   ]
  },
  {
   "cell_type": "code",
   "execution_count": 23,
   "metadata": {},
   "outputs": [
    {
     "name": "stdout",
     "output_type": "stream",
     "text": [
      "dict_keys(['data', 'target', 'target_names', 'DESCR', 'feature_names'])\n",
      "数据的长度:150\n",
      "['sepal length (cm)', 'sepal width (cm)', 'petal length (cm)', 'petal width (cm)']\n",
      "['setosa' 'versicolor' 'virginica']\n",
      "[[5.1 3.5 1.4 0.2]\n",
      " [4.9 3.  1.4 0.2]\n",
      " [4.7 3.2 1.3 0.2]\n",
      " [4.6 3.1 1.5 0.2]\n",
      " [5.  3.6 1.4 0.2]]\n"
     ]
    }
   ],
   "source": [
    "# 案例二：植物分类\n",
    "from sklearn import datasets\n",
    "\n",
    "iris = datasets.load_iris()            # 导入数据\n",
    "print(iris.keys())\n",
    "print(f\"数据的长度:{len(iris['data'])}\")\n",
    "\n",
    "print(iris.feature_names)\n",
    "print(iris.target_names)\n",
    "print(iris.data[:5])\n",
    "'''\n",
    " 150个实例数据\n",
    " feature_names - 特征分类：萼片长度，萼片宽度，花瓣长度，花瓣宽度  → sepal length, sepal width, petal length, petal width\n",
    " 目标类别：Iris setosa, Iris versicolor, Iris virginica. \n",
    "'''"
   ]
  },
  {
   "cell_type": "code",
   "execution_count": 27,
   "metadata": {},
   "outputs": [
    {
     "name": "stdout",
     "output_type": "stream",
     "text": [
      "预测结果为: ['setosa']\n",
      "   sepal length (cm)  sepal width (cm)  petal length (cm)  petal width (cm)  \\\n",
      "0                5.1               3.5                1.4               0.2   \n",
      "1                4.9               3.0                1.4               0.2   \n",
      "2                4.7               3.2                1.3               0.2   \n",
      "3                4.6               3.1                1.5               0.2   \n",
      "4                5.0               3.6                1.4               0.2   \n",
      "\n",
      "   target target_names  \n",
      "0       0       setosa  \n",
      "1       0       setosa  \n",
      "2       0       setosa  \n",
      "3       0       setosa  \n",
      "4       0       setosa  \n"
     ]
    }
   ],
   "source": [
    "# 案例二：植物分类\n",
    "\n",
    "df = pd.DataFrame(data=iris.data,columns=iris.feature_names) # 将特征值转为Dataframe\\\n",
    "df['target'] = iris.target\n",
    "ty = pd.DataFrame({'target':[0,1,2],\n",
    "                   'target_names':iris.target_names})\n",
    "\n",
    "df = pd.merge(df,ty,on='target')                             # 数据转换\n",
    "\n",
    "knn = neighbors.KNeighborsClassifier()                       # 取得knn分类器\n",
    "knn.fit(iris.data,df['target_names'])                        # 建立分类模型\n",
    "\n",
    "per_data = [[0.1,0.2,0.3,0.4]]\n",
    "print('预测结果为:',knn.predict(per_data))                   # 数据转换\n",
    "print(df.head())"
   ]
  },
  {
   "cell_type": "code",
   "execution_count": null,
   "metadata": {
    "collapsed": true
   },
   "outputs": [],
   "source": []
  }
 ],
 "metadata": {
  "kernelspec": {
   "display_name": "Python 3",
   "language": "python",
   "name": "python3"
  },
  "language_info": {
   "codemirror_mode": {
    "name": "ipython",
    "version": 3
   },
   "file_extension": ".py",
   "mimetype": "text/x-python",
   "name": "python",
   "nbconvert_exporter": "python",
   "pygments_lexer": "ipython3",
   "version": "3.6.3"
  }
 },
 "nbformat": 4,
 "nbformat_minor": 2
}
