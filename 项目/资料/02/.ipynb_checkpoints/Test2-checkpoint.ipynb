{
 "cells": [
  {
   "cell_type": "code",
   "execution_count": null,
   "metadata": {},
   "outputs": [],
   "source": [
    "'''\n",
    "【项目02】  基于Python的算法函数创建\n",
    "\n",
    "作业要求：\n",
    "根据不同题目，完成代码书写并成功运行\n",
    "\n",
    "'''"
   ]
  },
  {
   "cell_type": "code",
   "execution_count": 1,
   "metadata": {},
   "outputs": [],
   "source": [
    "# 题目1：有1、2、3、4个数字，能组成多少个互不相同且无重复数字的两位数？都是多少？\n",
    "# 该题目不用创建函数"
   ]
  },
  {
   "cell_type": "code",
   "execution_count": 2,
   "metadata": {},
   "outputs": [],
   "source": [
    "# 题目2：输入三个整数x,y,z，请把这三个数由小到大输出，可调用input()。（需要加判断：判断输入数据是否为数字）\n",
    "# 提示：判断是否为数字：.isdigit()\n",
    "# 该题目需要创建函数"
   ]
  },
  {
   "cell_type": "code",
   "execution_count": 3,
   "metadata": {},
   "outputs": [],
   "source": [
    "# 题目3：输入一行字符，分别统计出其中英文字母、空格、数字和其它字符的个数。\n",
    "# 提示：利用while语句,条件为输入的字符不为'\\n'.\n",
    "# 该题目不需要创建函数"
   ]
  },
  {
   "cell_type": "code",
   "execution_count": 4,
   "metadata": {},
   "outputs": [],
   "source": [
    "# 题目4：猴子吃桃问题\n",
    "# 猴子第一天摘下若干个桃子，当即吃了一半，还不瘾，又多吃了一个,\n",
    "# 第二天早上又将剩下的桃子吃掉一半，又多吃了一个。\n",
    "# 以后每天早上都吃了前一天剩下的一半零一个。到第10天早上想再吃时，见只剩下一个桃子了。求第一天共摘了多少?\n",
    "# 提示：采取逆向思维的方法，从后往前推断。\n",
    "# 该题目不需要创建函数"
   ]
  },
  {
   "cell_type": "code",
   "execution_count": 5,
   "metadata": {},
   "outputs": [],
   "source": [
    "# 题目5：猜数字问题，要求如下：\n",
    "# ① 随机生成一个整数\n",
    "# ② 猜一个数字并输入\n",
    "# ③ 判断是大是小，直到猜正确\n",
    "# ④ 判断时间\n",
    "# 提示：需要用time模块、random模块\n",
    "# 该题目不需要创建函数"
   ]
  },
  {
   "cell_type": "code",
   "execution_count": 12,
   "metadata": {},
   "outputs": [
    {
     "name": "stdout",
     "output_type": "stream",
     "text": [
      "满足条件的数为12\n",
      "满足条件的数为13\n",
      "满足条件的数为14\n",
      "满足条件的数为21\n",
      "满足条件的数为23\n",
      "满足条件的数为24\n",
      "满足条件的数为31\n",
      "满足条件的数为32\n",
      "满足条件的数为34\n",
      "满足条件的数为41\n",
      "满足条件的数为42\n",
      "满足条件的数为43\n",
      "一共有12个数\n"
     ]
    }
   ],
   "source": [
    "# 1 开启两个循环,当 两个数不相等的时候打印\n",
    "\n",
    "n = 0\n",
    "for i in range(1,5):\n",
    "    for j in range(1,5):\n",
    "        if i != j:\n",
    "            n += 1 \n",
    "            print(f'满足条件的数为{i}{j}')\n",
    "            \n",
    "print(f'一共有{n}个数')                   "
   ]
  },
  {
   "cell_type": "code",
   "execution_count": 15,
   "metadata": {},
   "outputs": [
    {
     "name": "stdout",
     "output_type": "stream",
     "text": [
      "请输入1个数字aa\n",
      "请重新输入数字12\n",
      "请输入2个数字55\n",
      "请输入3个数字13\n"
     ]
    },
    {
     "data": {
      "text/plain": [
       "[12.0, 13.0, 55.0]"
      ]
     },
     "execution_count": 15,
     "metadata": {},
     "output_type": "execute_result"
    }
   ],
   "source": [
    "# 2\n",
    "\n",
    "def f(n):\n",
    "    lst = []\n",
    "    for i in range(1,n+1):\n",
    "        x = input('请输入%i个数字'%i)\n",
    "        while x.isdigit() == False:\n",
    "            x = input('请重新输入数字')\n",
    "        else:\n",
    "            lst.append(float(x))\n",
    "    return sorted(lst)\n",
    "\n",
    "f(3)"
   ]
  },
  {
   "cell_type": "code",
   "execution_count": 16,
   "metadata": {},
   "outputs": [
    {
     "name": "stdout",
     "output_type": "stream",
     "text": [
      "请输入一段字符串:\n",
      "asduhweuid@1234    \n",
      "一共有10个字母,4个数字,4个空格,1个其他字符\n"
     ]
    }
   ],
   "source": [
    "# 3\n",
    "st = input('请输入一段字符串:\\n')\n",
    "letters = 0\n",
    "space = 0\n",
    "digit = 0\n",
    "other = 0\n",
    "for s in st:\n",
    "    if s.isdigit():\n",
    "        digit += 1\n",
    "    elif s.isspace():\n",
    "        space += 1\n",
    "    elif s.isalpha():\n",
    "        letters += 1\n",
    "    else:\n",
    "        other += 1\n",
    "print(f'一共有{letters}个字母,{digit}个数字,{space}个空格,{other}个其他字符')"
   ]
  },
  {
   "cell_type": "code",
   "execution_count": 21,
   "metadata": {},
   "outputs": [
    {
     "name": "stdout",
     "output_type": "stream",
     "text": [
      "一共有1534个桃子\n"
     ]
    }
   ],
   "source": [
    "# 4\n",
    "\n",
    "# 最后一天的桃子的数量\n",
    "n= 1\n",
    "# 从第十天往前推,\n",
    "for day in range(9,0,-1):\n",
    "    # 前一天比后一天多 一倍 加上1\n",
    "    m = (n + 1) * 2\n",
    "    n = m\n",
    "print(f'一共有{n}个桃子')"
   ]
  },
  {
   "cell_type": "code",
   "execution_count": 20,
   "metadata": {},
   "outputs": [
    {
     "name": "stdout",
     "output_type": "stream",
     "text": [
      "请输入一个数字50\n",
      "小了\n",
      "请再次输入一个数字60\n",
      "大了\n",
      "请再次输入一个数字55\n",
      "大了\n",
      "请再次输入一个数字52\n",
      "小了\n",
      "请再次输入一个数字54\n",
      "猜对了\n",
      "花费了12.39903473854065时间\n"
     ]
    }
   ],
   "source": [
    "# 5\n",
    "import time\n",
    "import random\n",
    "\n",
    "N = random.randint(0,100)\n",
    "c = int(input('请输入一个数字'))\n",
    "start = time.time()\n",
    "while N != c:\n",
    "    if N < c:\n",
    "        print('大了')\n",
    "        c = int(input('请再次输入一个数字'))\n",
    "    else:\n",
    "        print('小了')\n",
    "        c = int(input('请再次输入一个数字'))\n",
    "else:\n",
    "    print('猜对了')\n",
    "    end = time.time()\n",
    "print(f'花费了{end-start}时间')"
   ]
  },
  {
   "cell_type": "code",
   "execution_count": null,
   "metadata": {},
   "outputs": [],
   "source": []
  }
 ],
 "metadata": {
  "kernelspec": {
   "display_name": "Python 3",
   "language": "python",
   "name": "python3"
  },
  "language_info": {
   "codemirror_mode": {
    "name": "ipython",
    "version": 3
   },
   "file_extension": ".py",
   "mimetype": "text/x-python",
   "name": "python",
   "nbconvert_exporter": "python",
   "pygments_lexer": "ipython3",
   "version": "3.6.5"
  }
 },
 "nbformat": 4,
 "nbformat_minor": 2
}
