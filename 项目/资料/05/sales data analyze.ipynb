{
 "cells": [
  {
   "cell_type": "code",
   "execution_count": null,
   "metadata": {},
   "outputs": [],
   "source": [
    "【项目05】  多场景下的算法构建\n",
    "\n",
    "课程数据：\n",
    "某公司A,B产品在2018年1,2,3月的销量数据，数据格式为xlsx\n",
    "\n",
    "作业要求：\n",
    "1、批量读取数据，并输出以下信息\n",
    "（1）数据量\n",
    "（2）数据字段columns\n",
    "（3）输出每个文件分别有多少缺失值\n",
    "要求：\n",
    "① 创建独立函数，从读取数据到以上输出要求\n",
    "② 运行代码多次调用创建函数，对数据进行批量处理\n",
    "提示：\n",
    "① 将课程excel数据放入单独文件夹(建议英文路径)，函数中通过input来输入excel数据所在文件夹路径，再通过遍历来读取文件\n",
    "② pd.read_excel()中用“index_col”参数，将第一列变为index\n",
    "③ os.walk(path) → 返回路径中的信息及文件，结果为一个生成器\n",
    "④ 定位缺失值位置：data[data.isnull().values == True]\n",
    " \n",
    "\n",
    " \n",
    "2、批量读取数据，用均值填充缺失值数据，并完成以下计算及图表制作\n",
    "（1）读取数据并用均值填充缺失值；对“日期”字段进行时间序列处理，转换成日period ，最后输出三个Dataframe文件data1,data2,data3\n",
    "（2）分别计算data1，data2，data3中A,B产品的月总销量，并绘制多系列柱状图，存储在对应的图片文件夹路径\n",
    "（3）分别计算A产品在每个月中哪一天超过了月度80%的销量，输出日期\n",
    "要求：\n",
    "① 分别创建四个函数，对应完成上述需求\n",
    "②\t 数据文件夹路径和图片存储路径不要相同\n",
    "提示：\n",
    "②\t 时间序列转换方法提示：pd.to_period\n",
    "② 时间戳Timestampe转化成字符串用str()方法\n",
    " \n",
    "\n",
    " \n",
    "3、读取数据并合并，做散点图观察A,B产品销量，并做回归，预测当A销量为1200时，B产品销量值\n",
    "（1）读取数据删除缺失值；对“日期”字段进行时间序列处理，转换成日period ，合并三个月数据，输出data；\n",
    "（2）针对A产品销量和B产品销量数据做回归分析，制作散点图并存储，并预测当A销量为1200时，B产品销量值\n",
    "要求：\n",
    "① 分别创建两个函数，对应完成上述需求\n",
    "② 数据文件夹路径和图片存储路径不要相同\n",
    "提示：\n",
    "① 用pd.dripna方法去掉缺失值，注意inplace参数\n"
   ]
  },
  {
   "cell_type": "code",
   "execution_count": 1,
   "metadata": {},
   "outputs": [],
   "source": [
    "import numpy as np\n",
    "import pandas as pd\n",
    "import matplotlib.pyplot as plt\n",
    "from sklearn.linear_model import LinearRegression\n",
    "import os\n",
    "%matplotlib inline"
   ]
  },
  {
   "cell_type": "code",
   "execution_count": 2,
   "metadata": {},
   "outputs": [
    {
     "name": "stdout",
     "output_type": "stream",
     "text": [
      "第1个数据的数据量为31\n",
      "第1个数据的数据的字段为 ['productA', 'productB']\n",
      "第1个数据的数据的空值为3\n",
      "第2个数据的数据量为28\n",
      "第2个数据的数据的字段为 ['productA', 'productB']\n",
      "第2个数据的数据的空值为4\n",
      "第3个数据的数据量为31\n",
      "第3个数据的数据的字段为 ['productA', 'productB']\n",
      "第3个数据的数据的空值为3\n",
      "finish\n"
     ]
    }
   ],
   "source": [
    "'''\n",
    "1、批量读取数据，并输出以下信息\n",
    "（1）数据量\n",
    "（2）数据字段columns\n",
    "（3）输出每个文件分别有多少缺失值\n",
    "要求：\n",
    "① 创建独立函数，从读取数据到以上输出要求\n",
    "② 运行代码多次调用创建函数，对数据进行批量处理\n",
    "提示：\n",
    "① 将课程excel数据放入单独文件夹(建议英文路径)\n",
    "② pd.read_excel()中用“index_col”参数，将第一列变为index\n",
    "③ os.walk(path) → 返回路径中的信息及文件，结果为一个生成器\n",
    "④ 定位缺失值位置：data[data.isnull().values == True]\n",
    "\n",
    "'''\n",
    "\n",
    "def read_file():\n",
    "    path = 'D:/user_profile/python/project/5/'\n",
    "    folder = os.walk(path)                                 # 遍历文件夹\n",
    "    files = list(folder)[0][2]                             # 输出所有文件夹下的文件名\n",
    "    n = 1\n",
    "    for i in files:\n",
    "        file = path + i\n",
    "        data = pd.read_excel(file,index_col=0)\n",
    "        data_counts = len(data)                             # 计算数据量\n",
    "        columns = data.columns.tolist()                     # 输出数据的columns\n",
    "        nan_count = len(data[data.isnull().values == True]) # 统计缺失值的数量\n",
    "        print(f'第{n}个数据的数据量为{data_counts}')\n",
    "        print(f'第{n}个数据的数据的字段为',columns)\n",
    "        print(f'第{n}个数据的数据的空值为{nan_count}')\n",
    "        n+=1\n",
    "\n",
    "read_file()\n",
    "print('finish')\n"
   ]
  },
  {
   "cell_type": "code",
   "execution_count": 3,
   "metadata": {},
   "outputs": [
    {
     "name": "stdout",
     "output_type": "stream",
     "text": [
      "清洗数据完成\n",
      "           A_sale_sum    B_sale_sum\n",
      "2018-01  17774.318140  20634.984309\n",
      "2018-02  16825.563937  17644.780874\n",
      "2018-03  19867.499953  21840.054395\n",
      "数据比较完成\n",
      "A产品月销量大于80%的日期 ['2018-01-26 00:00:00', '2018-02-23 00:00:00', '2018-03-25 00:00:00']\n"
     ]
    },
    {
     "data": {
      "text/plain": [
       "<Figure size 432x288 with 0 Axes>"
      ]
     },
     "metadata": {},
     "output_type": "display_data"
    },
    {
     "data": {
      "image/png": "[encoded data removed]",
      "text/plain": [
       "<Figure size 864x288 with 1 Axes>"
      ]
     },
     "metadata": {},
     "output_type": "display_data"
    }
   ],
   "source": [
    "'''\n",
    "2、批量读取数据，用均值填充缺失值数据，并完成以下计算及图表制作\n",
    "（1）读取数据并用均值填充缺失值；对“日期”字段进行时间序列处理，转换成日period ，最后输出三个Dataframe文件data1,data2,data3\n",
    "（2）分别计算data1，data2，data3中A,B产品的月总销量，并绘制多系列柱状图，存储在对应的图片文件夹路径\n",
    "（3）分别计算A产品在每个月中哪一天超过了月度80%的销量，输出日期\n",
    "要求：\n",
    "① 分别创建四个函数，对应完成上述需求\n",
    "② 数据文件夹路径和图片存储路径不要相同\n",
    "提示：\n",
    "① 时间序列转换方法提示：pd.to_period\n",
    "② 时间戳Timestampe转化成字符串用str()方法\n",
    "\n",
    "'''\n",
    "\n",
    "def fill_na():\n",
    "    path = 'D:/user_profile/python/project/5/'\n",
    "    folder = os.walk(path)                \n",
    "    files = list(folder)[0][2]                                        # 找到文件\n",
    "    data_files = []\n",
    "    for i in files:\n",
    "        file = path + i\n",
    "        data = pd.read_excel(file,index_col=0)\n",
    "        columns = data.columns.tolist()                               # 获取列名\n",
    "        data.to_period()                                              # 转换成日期\n",
    "        data[columns[0]].fillna(data[columns[0]].mean(),inplace=True) # 使用均值来填充空值\n",
    "        data[columns[1]].fillna(data[columns[1]].mean(),inplace=True)\n",
    "        data_files.append(data)\n",
    "    return(data_files)\n",
    "\n",
    "def drwa_picture(*data_files):\n",
    "    path = 'D:/user_profile/python/project/5/'                         # 图片保存路径\n",
    "    A_sales = []                                                       # 存放A产品销量的总和\n",
    "    B_sales = []                                                       # 存放B产品销量的总和\n",
    "    for data in data_files:\n",
    "        columns = data.columns\n",
    "        A_sales.append(data[columns[0]].sum())                         # A产品的总和\n",
    "        B_sales.append(data[columns[1]].sum())                         # B产品的总和\n",
    "    df = pd.DataFrame({'A_sale_sum':A_sales,'B_sale_sum':B_sales},     # A,B产品数据以月份进行统计\n",
    "                       index = pd.period_range('201801','201803',freq='M'))\n",
    "    print(df)\n",
    "    plt.figure()                                                       # 绘制图表，并导出图表\n",
    "    df.plot(kind='bar',style='--o',color=['r','g'],alpha=0.8,rot=0,figsize=(12,4))\n",
    "    plt.title('1月到3月A,B的销量的柱状图')\n",
    "    plt.ylim([0,25000])\n",
    "    plt.legend(loc='upper left')\n",
    "    plt.grid()\n",
    "    plt.savefig(path+'1月到3月A,B的销量的柱状图.png',dpi=600)\n",
    "\n",
    "def sale_count(*data_files):\n",
    "    key_dates = []                                                    # 存放结果数据\n",
    "    for data in data_files:\n",
    "        columns = data.columns                                        # 获取列名\n",
    "        data['A_sale_sum%'] = data[columns[0]].cumsum() / data[columns[0]].sum()\n",
    "        key_date = data[data['A_sale_sum%']>0.8].index[0]             # 获取满足条件的值\n",
    "        key_dates.append(str(key_date))\n",
    "    return(key_dates)\n",
    "\n",
    "\n",
    "\n",
    "data1,data2,data3 = fill_na()[0],fill_na()[1],fill_na()[2]\n",
    "print('清洗数据完成')\n",
    "\n",
    "drwa_picture(data1,data2,data3)\n",
    "print('数据比较完成')\n",
    "\n",
    "res = sale_count(data1,data2,data3)\n",
    "print('A产品月销量大于80%的日期',res)"
   ]
  },
  {
   "cell_type": "code",
   "execution_count": 4,
   "metadata": {},
   "outputs": [
    {
     "name": "stdout",
     "output_type": "stream",
     "text": [
      "数据合并完毕\n",
      "当productA为1200时,productB的预测值[1303.84193309]\n"
     ]
    },
    {
     "data": {
      "image/png": "[encoded data removed]",
      "text/plain": [
       "<Figure size 432x288 with 1 Axes>"
      ]
     },
     "metadata": {},
     "output_type": "display_data"
    }
   ],
   "source": [
    "'''\n",
    "3、读取数据并合并，做散点图观察A,B产品销量，并做回归，预测当A销量为1200时，B产品销量值\n",
    "（1）读取数据删除缺失值；对“日期”字段进行时间序列处理，转换成日period ，合并三个月数据，输出data；\n",
    "（2）针对A产品销量和B产品销量数据做回归分析，制作散点图并存储，并预测当A销量为1200时，B产品销量值\n",
    "要求：\n",
    "① 分别创建两个函数，对应完成上述需求\n",
    "② 数据文件夹路径和图片存储路径不要相同\n",
    "提示：\n",
    "① 用pd.dripna方法去掉缺失值，注意inplace参数\n",
    "\n",
    "'''\n",
    "\n",
    "def contact_file():\n",
    "    path = 'D:/user_profile/python/project/5/'\n",
    "    folder = os.walk(path)\n",
    "    files = list(folder)[0][2]\n",
    "    data_files = []\n",
    "    for i in files:\n",
    "        file = path + i\n",
    "        data = pd.read_excel(file,index_col=0)\n",
    "        colunms = data.columns.tolist()\n",
    "        data.to_period()\n",
    "        data.dropna(inplace=True)                   # 去除空值\n",
    "        data_files.append(data)\n",
    "                                                    # 文件拼接   \n",
    "    data_full = pd.concat([data_files[0],data_files[1],data_files[2]])\n",
    "    return(data_full)\n",
    "\n",
    "\n",
    "def linera_model(data):\n",
    "    path = 'D:/user_profile/python/project/5/'\n",
    "    model = LinearRegression()                      # 线性模型\n",
    "    model.fit(data['productA'][:,np.newaxis],data['productB'])\n",
    "    xtest = np.linspace(0,1000,1000)\n",
    "    ytest = model.predict(xtest[:,np.newaxis])      # 预测\n",
    "    plt.scatter(data['productA'],data['productB'],marker='.',color='k')\n",
    "    plt.plot(xtest,ytest,color='r')\n",
    "    plt.grid()\n",
    "    plt.title('A-B产品销量拟合')\n",
    "    plt.savefig(path+'A-B产品销量拟合.png',dpi=600)\n",
    "    return(model.predict(1200))\n",
    "\n",
    "data_full = contact_file()\n",
    "print('数据合并完毕')\n",
    "\n",
    "res = linera_model(data_full)\n",
    "print(f'当productA为1200时,productB的预测值{res}')"
   ]
  },
  {
   "cell_type": "code",
   "execution_count": null,
   "metadata": {},
   "outputs": [],
   "source": []
  }
 ],
 "metadata": {
  "kernelspec": {
   "display_name": "Python 3",
   "language": "python",
   "name": "python3"
  },
  "language_info": {
   "codemirror_mode": {
    "name": "ipython",
    "version": 3
   },
   "file_extension": ".py",
   "mimetype": "text/x-python",
   "name": "python",
   "nbconvert_exporter": "python",
   "pygments_lexer": "ipython3",
   "version": "3.6.5"
  }
 },
 "nbformat": 4,
 "nbformat_minor": 2
}
